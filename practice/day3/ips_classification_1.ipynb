{
 "cells": [
  {
   "cell_type": "markdown",
   "id": "d2c2cd6e-4b85-46d0-a585-96b04e455045",
   "metadata": {},
   "source": [
    "# 데이터 불러오기"
   ]
  },
  {
   "cell_type": "code",
   "execution_count": null,
   "id": "ec62a332-5c16-464b-a252-dee7e69f5a65",
   "metadata": {
    "tags": []
   },
   "outputs": [],
   "source": [
    "import pandas as pd\n",
    "\n",
    "df_data = pd.read_csv('trace.csv')\n",
    "df_data.head()"
   ]
  },
  {
   "cell_type": "code",
   "execution_count": null,
   "id": "943bb482-9645-4859-8337-100a875fcaf6",
   "metadata": {},
   "outputs": [],
   "source": [
    "# NaN 항목을 `-120`으로 만들기\n",
    "df_data = df_data.fillna(-120)"
   ]
  },
  {
   "cell_type": "code",
   "execution_count": null,
   "id": "c2918f84-250b-4522-8e20-f28c3475dd7a",
   "metadata": {},
   "outputs": [],
   "source": [
    "df_data.head()"
   ]
  },
  {
   "cell_type": "markdown",
   "id": "02441557-26eb-4e16-842a-c6b1e9db6ca4",
   "metadata": {},
   "source": [
    "# Classifier Model 을 위한 데이터 만들기"
   ]
  },
  {
   "cell_type": "markdown",
   "id": "b7066ca7-e7e7-4fe4-9461-c396690294b2",
   "metadata": {},
   "source": [
    "## STEP1. 입력데이터 포멧 맞추기"
   ]
  },
  {
   "cell_type": "code",
   "execution_count": null,
   "id": "5c367dca-0ebc-4dcc-acfb-20ebb9ade3dd",
   "metadata": {},
   "outputs": [],
   "source": [
    "import numpy as np\n",
    "ips_data = np.array(df_data)\n",
    "\n",
    "# 데이터의 행, 열 갯수 출력\n",
    "print(ips_data.shape)"
   ]
  },
  {
   "cell_type": "code",
   "execution_count": null,
   "id": "3d598a67-1390-4933-842d-ed869718f55a",
   "metadata": {},
   "outputs": [],
   "source": [
    "# 첫번째 데이터 출력\n",
    "print(ips_data[0])"
   ]
  },
  {
   "cell_type": "code",
   "execution_count": null,
   "id": "5c30f084-4328-4874-b9e1-52c84d56bd62",
   "metadata": {},
   "outputs": [],
   "source": [
    "# timestamp, region, latitude, longitude는 training 대상 feature에 서 제외\n",
    "ips_x = ips_data[:, 4:]\n",
    "ips_x.shape"
   ]
  },
  {
   "cell_type": "code",
   "execution_count": null,
   "id": "3136cadc-ce10-42ed-9d19-fc6d0d564d2e",
   "metadata": {},
   "outputs": [],
   "source": [
    "# training대상 feature만 정리된 데이터의 첫번째 행 출력\n",
    "print(ips_x[0])"
   ]
  },
  {
   "cell_type": "code",
   "execution_count": null,
   "id": "4aad0d3c-339d-4db6-8a1f-e9f79f95ec65",
   "metadata": {},
   "outputs": [],
   "source": [
    "# region을 class 로 활용하기 위해 두번째 열만으로 하나의 배열을 만듬.\n",
    "ips_y = ips_data[:, 1:2]\n",
    "ips_y = ips_y.reshape(-1)\n",
    "ips_y = ips_y.astype(np.int32)\n",
    "print(ips_y)"
   ]
  },
  {
   "cell_type": "markdown",
   "id": "e42ed716-7de2-44a5-81d2-2c1cc51d818f",
   "metadata": {},
   "source": [
    "## STEP2. Training & Test set 으로 나눠주기"
   ]
  },
  {
   "cell_type": "code",
   "execution_count": null,
   "id": "28f0767d-10d8-4bfe-b207-0c62b7ba8bdf",
   "metadata": {},
   "outputs": [],
   "source": [
    "from sklearn import model_selection\n",
    "\n",
    "train_x, test_x, train_y, test_y = model_selection.train_test_split(ips_x, ips_y, test_size=0.3, shuffle=False)\n",
    "\n",
    "print(\"x_train:\", train_x.shape, \"y_train:\", train_y.shape)\n",
    "print(\"x_test: \", test_x.shape, \"y_test: \", test_y.shape)"
   ]
  },
  {
   "cell_type": "markdown",
   "id": "5ba36ebb-ef53-4a68-97be-3de978c331b4",
   "metadata": {},
   "source": [
    "## KNN"
   ]
  },
  {
   "cell_type": "code",
   "execution_count": null,
   "id": "91ef1a29-3947-4908-8401-a3fff6481a91",
   "metadata": {},
   "outputs": [],
   "source": [
    "from sklearn.neighbors import KNeighborsClassifier\n",
    "\n",
    "model = KNeighborsClassifier() # 모델 생성\n",
    "model.fit(train_x, train_y)    # 모델 학습"
   ]
  },
  {
   "cell_type": "code",
   "execution_count": null,
   "id": "4e33c122-8570-43d5-89c1-4f18efb889d4",
   "metadata": {},
   "outputs": [],
   "source": [
    "model.score(test_x, test_y)"
   ]
  },
  {
   "cell_type": "code",
   "execution_count": null,
   "id": "18893aa0-308a-46c1-b3d8-cf857f70644e",
   "metadata": {},
   "outputs": [],
   "source": [
    "hit = 0\n",
    "total = 0\n",
    "results = []\n",
    "for idx in range(len(test_x)):\n",
    "    actual = test_y[idx]\n",
    "    predicted = model.predict(test_x[idx].reshape(1,-1))\n",
    "    total += 1\n",
    "    print(f\"[{idx:02d}] actual={actual}, predicted={predicted} - {actual==predicted}\")\n",
    "    if actual == predicted[0]:\n",
    "        results.append(True)\n",
    "        hit += 1\n",
    "    else:\n",
    "        results.append(False)\n",
    "\n",
    "print(f\"Accuracy: {hit/total} ({hit}/{total})\")"
   ]
  },
  {
   "cell_type": "code",
   "execution_count": null,
   "id": "dc84a6ea-f373-4e48-9986-a05ccb37a0be",
   "metadata": {},
   "outputs": [],
   "source": [
    "colors = ['blue' if r == True else 'red' for r in results]"
   ]
  },
  {
   "cell_type": "markdown",
   "id": "7d0913a1-49e0-4b36-b6c3-19704bac5422",
   "metadata": {},
   "source": [
    "# 좌표"
   ]
  },
  {
   "cell_type": "code",
   "execution_count": null,
   "id": "680394ac-87be-480b-a6da-3164ec3eee14",
   "metadata": {},
   "outputs": [],
   "source": [
    "latitudes = ips_data[72:, 2:3]\n",
    "latitudes = latitudes.reshape(-1)\n",
    "longitudes = ips_data[72:, 3:4]\n",
    "longitudes = longitudes.reshape(-1)"
   ]
  },
  {
   "cell_type": "code",
   "execution_count": null,
   "id": "7f1abec6-1248-4e49-afbe-608b476c5f95",
   "metadata": {},
   "outputs": [],
   "source": [
    "import matplotlib.pyplot as plt\n",
    "plt.scatter(latitudes, longitudes, c=colors)\n",
    "plt.show()"
   ]
  },
  {
   "cell_type": "markdown",
   "id": "7b732615-5d3d-4714-b2e3-82b2abb3f728",
   "metadata": {
    "tags": []
   },
   "source": [
    "## SVM"
   ]
  },
  {
   "cell_type": "code",
   "execution_count": null,
   "id": "e1a197d0-813f-4b47-8ee8-b12aa6a9a512",
   "metadata": {},
   "outputs": [],
   "source": [
    "from sklearn import svm\n",
    "\n",
    "model = svm.SVC() # 모델 생성\n",
    "model.fit(train_x, train_y)    # 모델 학습"
   ]
  },
  {
   "cell_type": "code",
   "execution_count": null,
   "id": "b0d9f554-c401-4ac6-b9dd-d9c769808d3b",
   "metadata": {},
   "outputs": [],
   "source": [
    "model.score(test_x, test_y)"
   ]
  },
  {
   "cell_type": "code",
   "execution_count": null,
   "id": "bc42f79d-a1b2-4d06-9778-8047f2cbd815",
   "metadata": {},
   "outputs": [],
   "source": [
    "def display(test_x, test_y, models):\n",
    "    hit = 0\n",
    "    total = 0\n",
    "    for idx in range(len(test_x)):\n",
    "        actual = test_y[idx]\n",
    "        predicted = model.predict(test_x[idx].reshape(1,-1))\n",
    "        total += 1\n",
    "        print(f\"[{idx:02d}] actual={actual}, predicted={predicted} - {actual==predicted}\")\n",
    "        if actual == predicted[0]:\n",
    "            hit += 1\n",
    "\n",
    "    print(f\"Accuracy: {hit/total} ({hit}/{total})\")"
   ]
  },
  {
   "cell_type": "code",
   "execution_count": null,
   "id": "cb74cdb7-e279-4bba-83d9-8d14bd3f74e2",
   "metadata": {},
   "outputs": [],
   "source": [
    "display(test_x, test_y, model)"
   ]
  },
  {
   "cell_type": "markdown",
   "id": "88befbf6-e608-4eee-ba37-0e9affca2e04",
   "metadata": {
    "tags": []
   },
   "source": [
    "## GaussianProcessClassifier"
   ]
  },
  {
   "cell_type": "code",
   "execution_count": null,
   "id": "0e3097e8-75a1-4e0d-99ce-11fbaaeb4f4a",
   "metadata": {},
   "outputs": [],
   "source": [
    "from sklearn.gaussian_process import GaussianProcessClassifier\n",
    "model = GaussianProcessClassifier() # 모델 생성\n",
    "model.fit(train_x, train_y)    # 모델 학습"
   ]
  },
  {
   "cell_type": "code",
   "execution_count": null,
   "id": "cdca4cf5-335a-4ff4-bf76-76a2e64581cf",
   "metadata": {},
   "outputs": [],
   "source": [
    "model.score(test_x, test_y)"
   ]
  },
  {
   "cell_type": "code",
   "execution_count": null,
   "id": "de77e43a-90d6-484f-8df0-9efcccc4fc6b",
   "metadata": {},
   "outputs": [],
   "source": []
  },
  {
   "cell_type": "markdown",
   "id": "f491bc88-d266-4db8-9a79-e88d4233a685",
   "metadata": {
    "tags": []
   },
   "source": [
    "# sklearn classifiers\n",
    "https://scikit-learn.org/stable/auto_examples/classification/plot_classifier_comparison.html"
   ]
  },
  {
   "cell_type": "code",
   "execution_count": null,
   "id": "bba6a9ca-b3b0-4775-976f-12f945cd711a",
   "metadata": {},
   "outputs": [],
   "source": []
  }
 ],
 "metadata": {
  "kernelspec": {
   "display_name": "Python 3 (ipykernel)",
   "language": "python",
   "name": "python3"
  },
  "language_info": {
   "codemirror_mode": {
    "name": "ipython",
    "version": 3
   },
   "file_extension": ".py",
   "mimetype": "text/x-python",
   "name": "python",
   "nbconvert_exporter": "python",
   "pygments_lexer": "ipython3",
   "version": "3.9.7"
  }
 },
 "nbformat": 4,
 "nbformat_minor": 5
}
