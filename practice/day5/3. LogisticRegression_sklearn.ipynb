{
 "cells": [
  {
   "cell_type": "code",
   "execution_count": 1,
   "metadata": {
    "collapsed": true
   },
   "outputs": [],
   "source": [
    "import numpy as np\n",
    "import pandas as pd\n",
    "import matplotlib.pyplot as plt\n",
    "\n",
    "from sklearn import datasets, model_selection, linear_model\n",
    "from sklearn.metrics import mean_squared_error"
   ]
  },
  {
   "cell_type": "markdown",
   "metadata": {},
   "source": [
    "<br>\n",
    "<br>\n",
    "#### 1-1. (미국 보스턴의 주택 가격) 데이터 읽어들이기 & Binary label 만들어주기"
   ]
  },
  {
   "cell_type": "code",
   "execution_count": 2,
   "metadata": {},
   "outputs": [
    {
     "data": {
      "text/html": [
       "<div>\n",
       "<table border=\"1\" class=\"dataframe\">\n",
       "  <thead>\n",
       "    <tr style=\"text-align: right;\">\n",
       "      <th></th>\n",
       "      <th>0</th>\n",
       "      <th>1</th>\n",
       "      <th>2</th>\n",
       "      <th>3</th>\n",
       "      <th>4</th>\n",
       "      <th>5</th>\n",
       "      <th>6</th>\n",
       "      <th>7</th>\n",
       "      <th>8</th>\n",
       "      <th>9</th>\n",
       "      <th>10</th>\n",
       "      <th>11</th>\n",
       "      <th>12</th>\n",
       "    </tr>\n",
       "  </thead>\n",
       "  <tbody>\n",
       "    <tr>\n",
       "      <th>0</th>\n",
       "      <td>0.00632</td>\n",
       "      <td>18.0</td>\n",
       "      <td>2.31</td>\n",
       "      <td>0</td>\n",
       "      <td>0.538</td>\n",
       "      <td>6.575</td>\n",
       "      <td>65.2</td>\n",
       "      <td>4.0900</td>\n",
       "      <td>1</td>\n",
       "      <td>296</td>\n",
       "      <td>15.3</td>\n",
       "      <td>396.90</td>\n",
       "      <td>4.98</td>\n",
       "    </tr>\n",
       "    <tr>\n",
       "      <th>1</th>\n",
       "      <td>0.02731</td>\n",
       "      <td>0.0</td>\n",
       "      <td>7.07</td>\n",
       "      <td>0</td>\n",
       "      <td>0.469</td>\n",
       "      <td>6.421</td>\n",
       "      <td>78.9</td>\n",
       "      <td>4.9671</td>\n",
       "      <td>2</td>\n",
       "      <td>242</td>\n",
       "      <td>17.8</td>\n",
       "      <td>396.90</td>\n",
       "      <td>9.14</td>\n",
       "    </tr>\n",
       "    <tr>\n",
       "      <th>2</th>\n",
       "      <td>0.02729</td>\n",
       "      <td>0.0</td>\n",
       "      <td>7.07</td>\n",
       "      <td>0</td>\n",
       "      <td>0.469</td>\n",
       "      <td>7.185</td>\n",
       "      <td>61.1</td>\n",
       "      <td>4.9671</td>\n",
       "      <td>2</td>\n",
       "      <td>242</td>\n",
       "      <td>17.8</td>\n",
       "      <td>392.83</td>\n",
       "      <td>4.03</td>\n",
       "    </tr>\n",
       "    <tr>\n",
       "      <th>3</th>\n",
       "      <td>0.03237</td>\n",
       "      <td>0.0</td>\n",
       "      <td>2.18</td>\n",
       "      <td>0</td>\n",
       "      <td>0.458</td>\n",
       "      <td>6.998</td>\n",
       "      <td>45.8</td>\n",
       "      <td>6.0622</td>\n",
       "      <td>3</td>\n",
       "      <td>222</td>\n",
       "      <td>18.7</td>\n",
       "      <td>394.63</td>\n",
       "      <td>2.94</td>\n",
       "    </tr>\n",
       "    <tr>\n",
       "      <th>4</th>\n",
       "      <td>0.06905</td>\n",
       "      <td>0.0</td>\n",
       "      <td>2.18</td>\n",
       "      <td>0</td>\n",
       "      <td>0.458</td>\n",
       "      <td>7.147</td>\n",
       "      <td>54.2</td>\n",
       "      <td>6.0622</td>\n",
       "      <td>3</td>\n",
       "      <td>222</td>\n",
       "      <td>18.7</td>\n",
       "      <td>396.90</td>\n",
       "      <td>5.33</td>\n",
       "    </tr>\n",
       "  </tbody>\n",
       "</table>\n",
       "</div>"
      ],
      "text/plain": [
       "        0     1     2   3      4      5     6       7   8    9     10      11  \\\n",
       "0  0.00632  18.0  2.31   0  0.538  6.575  65.2  4.0900   1  296  15.3  396.90   \n",
       "1  0.02731   0.0  7.07   0  0.469  6.421  78.9  4.9671   2  242  17.8  396.90   \n",
       "2  0.02729   0.0  7.07   0  0.469  7.185  61.1  4.9671   2  242  17.8  392.83   \n",
       "3  0.03237   0.0  2.18   0  0.458  6.998  45.8  6.0622   3  222  18.7  394.63   \n",
       "4  0.06905   0.0  2.18   0  0.458  7.147  54.2  6.0622   3  222  18.7  396.90   \n",
       "\n",
       "     12  \n",
       "0  4.98  \n",
       "1  9.14  \n",
       "2  4.03  \n",
       "3  2.94  \n",
       "4  5.33  "
      ]
     },
     "execution_count": 2,
     "metadata": {},
     "output_type": "execute_result"
    }
   ],
   "source": [
    "df_data = pd.read_excel('boston_house_data.xlsx', encoding='utf-8')\n",
    "df_data.head()"
   ]
  },
  {
   "cell_type": "code",
   "execution_count": 7,
   "metadata": {},
   "outputs": [
    {
     "data": {
      "text/html": [
       "<div>\n",
       "<table border=\"1\" class=\"dataframe\">\n",
       "  <thead>\n",
       "    <tr style=\"text-align: right;\">\n",
       "      <th></th>\n",
       "      <th>0</th>\n",
       "    </tr>\n",
       "  </thead>\n",
       "  <tbody>\n",
       "    <tr>\n",
       "      <th>0</th>\n",
       "      <td>24.0</td>\n",
       "    </tr>\n",
       "    <tr>\n",
       "      <th>1</th>\n",
       "      <td>21.6</td>\n",
       "    </tr>\n",
       "    <tr>\n",
       "      <th>2</th>\n",
       "      <td>34.7</td>\n",
       "    </tr>\n",
       "    <tr>\n",
       "      <th>3</th>\n",
       "      <td>33.4</td>\n",
       "    </tr>\n",
       "    <tr>\n",
       "      <th>4</th>\n",
       "      <td>36.2</td>\n",
       "    </tr>\n",
       "  </tbody>\n",
       "</table>\n",
       "</div>"
      ],
      "text/plain": [
       "      0\n",
       "0  24.0\n",
       "1  21.6\n",
       "2  34.7\n",
       "3  33.4\n",
       "4  36.2"
      ]
     },
     "execution_count": 7,
     "metadata": {},
     "output_type": "execute_result"
    }
   ],
   "source": [
    "df_target = pd.read_excel('boston_house_target.xlsx', encoding='utf-8')\n",
    "df_target.head()"
   ]
  },
  {
   "cell_type": "code",
   "execution_count": 10,
   "metadata": {},
   "outputs": [
    {
     "data": {
      "text/plain": [
       "22.532806324110698"
      ]
     },
     "execution_count": 10,
     "metadata": {},
     "output_type": "execute_result"
    }
   ],
   "source": [
    "mean_price = df_target[0].mean()\n",
    "mean_price"
   ]
  },
  {
   "cell_type": "code",
   "execution_count": 11,
   "metadata": {},
   "outputs": [
    {
     "data": {
      "text/html": [
       "<div>\n",
       "<table border=\"1\" class=\"dataframe\">\n",
       "  <thead>\n",
       "    <tr style=\"text-align: right;\">\n",
       "      <th></th>\n",
       "      <th>0</th>\n",
       "      <th>Label</th>\n",
       "    </tr>\n",
       "  </thead>\n",
       "  <tbody>\n",
       "    <tr>\n",
       "      <th>0</th>\n",
       "      <td>24.0</td>\n",
       "      <td>1</td>\n",
       "    </tr>\n",
       "    <tr>\n",
       "      <th>1</th>\n",
       "      <td>21.6</td>\n",
       "      <td>0</td>\n",
       "    </tr>\n",
       "    <tr>\n",
       "      <th>2</th>\n",
       "      <td>34.7</td>\n",
       "      <td>1</td>\n",
       "    </tr>\n",
       "    <tr>\n",
       "      <th>3</th>\n",
       "      <td>33.4</td>\n",
       "      <td>1</td>\n",
       "    </tr>\n",
       "    <tr>\n",
       "      <th>4</th>\n",
       "      <td>36.2</td>\n",
       "      <td>1</td>\n",
       "    </tr>\n",
       "  </tbody>\n",
       "</table>\n",
       "</div>"
      ],
      "text/plain": [
       "      0  Label\n",
       "0  24.0      1\n",
       "1  21.6      0\n",
       "2  34.7      1\n",
       "3  33.4      1\n",
       "4  36.2      1"
      ]
     },
     "execution_count": 11,
     "metadata": {},
     "output_type": "execute_result"
    }
   ],
   "source": [
    "df_target['Label'] = df_target[0].apply(lambda x: 1 if x > mean_price else 0 ) \n",
    "df_target.head()"
   ]
  },
  {
   "cell_type": "markdown",
   "metadata": {},
   "source": [
    "<br>\n",
    "<br>\n",
    "#### 1-2. Dataframe 을 Numpy array (배열, 행렬)로 바꿔주기"
   ]
  },
  {
   "cell_type": "code",
   "execution_count": 13,
   "metadata": {
    "collapsed": true
   },
   "outputs": [],
   "source": [
    "boston_data = np.array(df_data)\n",
    "boston_target = np.array(df_target['Label'])"
   ]
  },
  {
   "cell_type": "code",
   "execution_count": 14,
   "metadata": {},
   "outputs": [
    {
     "data": {
      "text/plain": [
       "array([1, 0, 1, 1, 1, 1, 1, 1, 0, 0, 0, 0, 0, 0, 0, 0, 1, 0, 0, 0, 0, 0, 0,\n",
       "       0, 0, 0, 0, 0, 0, 0, 0, 0, 0, 0, 0, 0, 0, 0, 1, 1, 1, 1, 1, 1, 0, 0,\n",
       "       0, 0, 0, 0, 0, 0, 1, 1, 0, 1, 1, 1, 1, 0, 0, 0, 0, 1, 1, 1, 0, 0, 0,\n",
       "       0, 1, 0, 1, 1, 1, 0, 0, 0, 0, 0, 1, 1, 1, 1, 1, 1, 0, 0, 1, 1, 1, 0,\n",
       "       1, 1, 0, 1, 0, 1, 1, 1, 1, 1, 0, 0, 0, 0, 0, 0, 0, 0, 0, 1, 0, 0, 0,\n",
       "       0, 0, 0, 0, 0, 0, 0, 0, 0, 0, 0, 0, 0, 0, 0, 0, 0, 1, 0, 0, 0, 0, 0,\n",
       "       0, 0, 0, 0, 0, 0, 0, 0, 0, 0, 0, 0, 0, 0, 0, 0, 0, 0, 0, 1, 1, 1, 1,\n",
       "       1, 1, 1, 1, 1, 1, 1, 1, 0, 0, 0, 1, 1, 1, 1, 1, 1, 1, 1, 1, 1, 1, 1,\n",
       "       1, 1, 1, 1, 1, 1, 1, 1, 1, 1, 1, 1, 1, 1, 1, 1, 1, 1, 1, 1, 1, 1, 1,\n",
       "       0, 1, 0, 0, 0, 0, 1, 1, 1, 1, 1, 0, 1, 1, 0, 1, 1, 1, 1, 1, 1, 1, 1,\n",
       "       1, 1, 1, 1, 1, 1, 1, 1, 1, 1, 0, 0, 0, 1, 0, 0, 1, 0, 1, 1, 1, 1, 1,\n",
       "       1, 0, 0, 1, 1, 1, 1, 1, 1, 1, 1, 1, 1, 1, 1, 1, 0, 0, 1, 1, 1, 1, 1,\n",
       "       1, 1, 1, 1, 1, 1, 1, 1, 1, 0, 0, 1, 0, 1, 1, 1, 1, 1, 0, 1, 1, 0, 0,\n",
       "       1, 1, 0, 1, 1, 1, 1, 1, 1, 1, 0, 0, 0, 0, 0, 1, 0, 0, 0, 1, 0, 1, 1,\n",
       "       0, 0, 1, 1, 1, 0, 0, 1, 0, 0, 0, 0, 0, 0, 0, 0, 0, 0, 0, 1, 0, 1, 1,\n",
       "       0, 0, 1, 1, 1, 1, 1, 0, 1, 0, 0, 0, 0, 1, 1, 1, 0, 0, 0, 0, 1, 0, 1,\n",
       "       1, 1, 1, 1, 1, 0, 0, 0, 0, 0, 0, 0, 0, 0, 0, 0, 0, 0, 0, 0, 0, 0, 0,\n",
       "       1, 0, 0, 0, 0, 0, 0, 0, 0, 0, 0, 0, 0, 0, 0, 0, 1, 0, 1, 0, 0, 0, 0,\n",
       "       0, 0, 0, 0, 0, 0, 0, 0, 0, 0, 0, 0, 0, 0, 0, 0, 0, 0, 0, 0, 0, 0, 0,\n",
       "       0, 0, 0, 0, 0, 0, 0, 0, 0, 0, 0, 0, 0, 0, 0, 0, 0, 0, 0, 0, 0, 0, 0,\n",
       "       0, 0, 0, 0, 0, 0, 0, 0, 0, 0, 0, 0, 1, 1, 0, 0, 0, 0, 0, 0, 1, 1, 1,\n",
       "       0, 0, 0, 0, 0, 0, 0, 0, 0, 0, 0, 1, 1, 0, 0, 0, 0, 0, 0, 0, 1, 0, 0], dtype=int64)"
      ]
     },
     "execution_count": 14,
     "metadata": {},
     "output_type": "execute_result"
    }
   ],
   "source": [
    "boston_target"
   ]
  },
  {
   "cell_type": "markdown",
   "metadata": {},
   "source": [
    "<br>\n",
    "<br>\n",
    "#### 2. Feature 선택하기"
   ]
  },
  {
   "cell_type": "markdown",
   "metadata": {},
   "source": [
    "- 0 : ** 범죄율 **\n",
    "- 1 : ** 25,000 평방피트를 초과하는 거주지역 비율 **\n",
    "- 2 : ** 비소매상업지역 면적 비율 ** \n",
    "- 3 : ** 찰스강의 경계에 위치한 경우는 1, 아니면 0 **\n",
    "- 4 : ** 일산화질소 농도 **\n",
    "- 5 : ** 주택당 방 수 (거실 외 subroom) **\n",
    "- 6 : ** 1940년 이전에 건축된 주택의 비율 **\n",
    "- 7 : ** 직업센터의 거리 **\n",
    "- 8 : ** 방사형 고속도로까지의 거리 **\n",
    "- 9 : ** 재산세율 **\n",
    "- 10 : ** 학생/교사 비율 **\n",
    "- 11 : ** 인구 중 흑인 비율 **\n",
    "- 12 : ** 인구 중 하위 계층 비율 **"
   ]
  },
  {
   "cell_type": "code",
   "execution_count": 21,
   "metadata": {},
   "outputs": [
    {
     "data": {
      "text/plain": [
       "array([[ 15.3 ,   4.98],\n",
       "       [ 17.8 ,   9.14],\n",
       "       [ 17.8 ,   4.03],\n",
       "       ..., \n",
       "       [ 21.  ,   5.64],\n",
       "       [ 21.  ,   6.48],\n",
       "       [ 21.  ,   7.88]])"
      ]
     },
     "execution_count": 21,
     "metadata": {},
     "output_type": "execute_result"
    }
   ],
   "source": [
    "# Use only one feature \n",
    "\n",
    "boston_X = boston_data[:,(5, 12)] # 주택당 방 수 & 인구 중 하위 계층 비율 \n",
    "boston_X"
   ]
  },
  {
   "cell_type": "code",
   "execution_count": 18,
   "metadata": {
    "collapsed": true
   },
   "outputs": [],
   "source": [
    "boston_Y = boston_target"
   ]
  },
  {
   "cell_type": "markdown",
   "metadata": {},
   "source": [
    "<br>\n",
    "<br>\n",
    "#### 3. Training & Test set 으로 나눠주기"
   ]
  },
  {
   "cell_type": "code",
   "execution_count": 23,
   "metadata": {
    "collapsed": true
   },
   "outputs": [],
   "source": [
    "from sklearn import model_selection\n",
    "\n",
    "x_train, x_test, y_train, y_test = model_selection.train_test_split(boston_X, boston_Y, test_size=0.3, random_state=0)"
   ]
  },
  {
   "cell_type": "code",
   "execution_count": 24,
   "metadata": {},
   "outputs": [
    {
     "name": "stdout",
     "output_type": "stream",
     "text": [
      "(354, 2)\n",
      "(152, 2)\n",
      "(354,)\n",
      "(152,)\n"
     ]
    }
   ],
   "source": [
    "print(x_train.shape)\n",
    "print(x_test.shape)\n",
    "print(y_train.shape)\n",
    "print(y_test.shape)"
   ]
  },
  {
   "cell_type": "markdown",
   "metadata": {},
   "source": [
    "<br>\n",
    "<br>\n",
    "#### 4. 비어있는 모델 객체 만들기"
   ]
  },
  {
   "cell_type": "code",
   "execution_count": 25,
   "metadata": {
    "collapsed": true
   },
   "outputs": [],
   "source": [
    "model = linear_model.LogisticRegression()"
   ]
  },
  {
   "cell_type": "markdown",
   "metadata": {},
   "source": [
    "<br>\n",
    "<br>\n",
    "#### 5. 모델 객체 학습시키기 (on training data)"
   ]
  },
  {
   "cell_type": "code",
   "execution_count": 26,
   "metadata": {},
   "outputs": [
    {
     "data": {
      "text/plain": [
       "LogisticRegression(C=1.0, class_weight=None, dual=False, fit_intercept=True,\n",
       "          intercept_scaling=1, max_iter=100, multi_class='ovr', n_jobs=1,\n",
       "          penalty='l2', random_state=None, solver='liblinear', tol=0.0001,\n",
       "          verbose=0, warm_start=False)"
      ]
     },
     "execution_count": 26,
     "metadata": {},
     "output_type": "execute_result"
    }
   ],
   "source": [
    "# Train the model using the training sets\n",
    "\n",
    "model.fit(x_train, y_train)"
   ]
  },
  {
   "cell_type": "markdown",
   "metadata": {},
   "source": [
    "<br>\n",
    "<br>\n",
    "#### 6. 학습이 끝난 모델 테스트하기 (on test data)"
   ]
  },
  {
   "cell_type": "code",
   "execution_count": 27,
   "metadata": {},
   "outputs": [
    {
     "data": {
      "text/plain": [
       "array([[  2.95174589e-01,   7.04825411e-01],\n",
       "       [  5.11946365e-01,   4.88053635e-01],\n",
       "       [  5.92832406e-01,   4.07167594e-01],\n",
       "       [  9.83856368e-01,   1.61436315e-02],\n",
       "       [  7.57688258e-01,   2.42311742e-01],\n",
       "       [  4.10784547e-01,   5.89215453e-01],\n",
       "       [  6.91992185e-01,   3.08007815e-01],\n",
       "       [  4.88149142e-01,   5.11850858e-01],\n",
       "       [  7.78088783e-01,   2.21911217e-01],\n",
       "       [  6.21199203e-01,   3.78800797e-01],\n",
       "       [  9.88423628e-01,   1.15763718e-02],\n",
       "       [  9.90853201e-01,   9.14679869e-03],\n",
       "       [  9.65259728e-01,   3.47402723e-02],\n",
       "       [  9.99439338e-01,   5.60662198e-04],\n",
       "       [  4.50702711e-02,   9.54929729e-01],\n",
       "       [  1.26392751e-01,   8.73607249e-01],\n",
       "       [  6.28968883e-01,   3.71031117e-01],\n",
       "       [  9.72641952e-02,   9.02735805e-01],\n",
       "       [  1.58126700e-01,   8.41873300e-01],\n",
       "       [  4.33234103e-01,   5.66765897e-01],\n",
       "       [  2.92041408e-01,   7.07958592e-01],\n",
       "       [  7.22555723e-01,   2.77444277e-01],\n",
       "       [  8.66134776e-01,   1.33865224e-01],\n",
       "       [  2.85079055e-01,   7.14920945e-01],\n",
       "       [  5.70307681e-01,   4.29692319e-01],\n",
       "       [  8.25668779e-01,   1.74331221e-01],\n",
       "       [  8.53905103e-01,   1.46094897e-01],\n",
       "       [  9.20469898e-01,   7.95301021e-02],\n",
       "       [  1.09528365e-01,   8.90471635e-01],\n",
       "       [  9.53062910e-01,   4.69370895e-02],\n",
       "       [  9.68314706e-01,   3.16852940e-02],\n",
       "       [  8.90777655e-01,   1.09222345e-01],\n",
       "       [  5.68877774e-01,   4.31122226e-01],\n",
       "       [  7.56282045e-01,   2.43717955e-01],\n",
       "       [  4.50043879e-01,   5.49956121e-01],\n",
       "       [  8.88440289e-01,   1.11559711e-01],\n",
       "       [  9.98979887e-01,   1.02011296e-03],\n",
       "       [  4.47677903e-01,   5.52322097e-01],\n",
       "       [  9.63208155e-01,   3.67918451e-02],\n",
       "       [  9.97063643e-01,   2.93635712e-03],\n",
       "       [  4.03246092e-01,   5.96753908e-01],\n",
       "       [  8.63666901e-01,   1.36333099e-01],\n",
       "       [  4.56071956e-01,   5.43928044e-01],\n",
       "       [  9.69626516e-01,   3.03734842e-02],\n",
       "       [  4.09583715e-01,   5.90416285e-01],\n",
       "       [  4.64346915e-01,   5.35653085e-01],\n",
       "       [  9.23299822e-01,   7.67001781e-02],\n",
       "       [  8.98709103e-01,   1.01290897e-01],\n",
       "       [  9.99592122e-01,   4.07877767e-04],\n",
       "       [  5.03659946e-01,   4.96340054e-01],\n",
       "       [  8.95040399e-01,   1.04959601e-01],\n",
       "       [  9.62099416e-01,   3.79005840e-02],\n",
       "       [  6.99908184e-01,   3.00091816e-01],\n",
       "       [  8.74734493e-02,   9.12526551e-01],\n",
       "       [  9.58871593e-01,   4.11284069e-02],\n",
       "       [  9.18676588e-01,   8.13234115e-02],\n",
       "       [  7.59290911e-01,   2.40709089e-01],\n",
       "       [  7.81162511e-01,   2.18837489e-01],\n",
       "       [  5.69025867e-01,   4.30974133e-01],\n",
       "       [  9.56655241e-01,   4.33447592e-02],\n",
       "       [  3.38293934e-01,   6.61706066e-01],\n",
       "       [  7.84192181e-01,   2.15807819e-01],\n",
       "       [  1.33985876e-01,   8.66014124e-01],\n",
       "       [  9.25352456e-02,   9.07464754e-01],\n",
       "       [  8.93071943e-01,   1.06928057e-01],\n",
       "       [  1.19344502e-01,   8.80655498e-01],\n",
       "       [  9.64452676e-01,   3.55473236e-02],\n",
       "       [  9.86676803e-01,   1.33231973e-02],\n",
       "       [  9.83919255e-01,   1.60807452e-02],\n",
       "       [  6.35389248e-01,   3.64610752e-01],\n",
       "       [  7.29733263e-01,   2.70266737e-01],\n",
       "       [  4.48009345e-01,   5.51990655e-01],\n",
       "       [  1.25478887e-01,   8.74521113e-01],\n",
       "       [  1.25331878e-01,   8.74668122e-01],\n",
       "       [  3.40225382e-01,   6.59774618e-01],\n",
       "       [  9.99871258e-01,   1.28742095e-04],\n",
       "       [  9.90617777e-02,   9.00938222e-01],\n",
       "       [  6.44529190e-01,   3.55470810e-01],\n",
       "       [  4.31983216e-01,   5.68016784e-01],\n",
       "       [  8.63623535e-01,   1.36376465e-01],\n",
       "       [  2.96718255e-01,   7.03281745e-01],\n",
       "       [  8.87957632e-01,   1.12042368e-01],\n",
       "       [  7.46342996e-01,   2.53657004e-01],\n",
       "       [  1.05994861e-01,   8.94005139e-01],\n",
       "       [  1.25874319e-01,   8.74125681e-01],\n",
       "       [  2.13825241e-01,   7.86174759e-01],\n",
       "       [  6.75434690e-01,   3.24565310e-01],\n",
       "       [  9.23539374e-01,   7.64606263e-02],\n",
       "       [  2.92454737e-01,   7.07545263e-01],\n",
       "       [  9.76090794e-01,   2.39092059e-02],\n",
       "       [  8.95842042e-01,   1.04157958e-01],\n",
       "       [  9.95923322e-01,   4.07667820e-03],\n",
       "       [  2.34454769e-01,   7.65545231e-01],\n",
       "       [  1.96923912e-01,   8.03076088e-01],\n",
       "       [  3.55540396e-01,   6.44459604e-01],\n",
       "       [  4.71168428e-01,   5.28831572e-01],\n",
       "       [  9.99987991e-01,   1.20094048e-05],\n",
       "       [  1.84341609e-01,   8.15658391e-01],\n",
       "       [  9.69509467e-01,   3.04905326e-02],\n",
       "       [  8.14019784e-01,   1.85980216e-01],\n",
       "       [  4.91083814e-01,   5.08916186e-01],\n",
       "       [  7.58637042e-01,   2.41362958e-01],\n",
       "       [  5.19308350e-01,   4.80691650e-01],\n",
       "       [  5.42810837e-01,   4.57189163e-01],\n",
       "       [  6.74316505e-01,   3.25683495e-01],\n",
       "       [  7.54607665e-01,   2.45392335e-01],\n",
       "       [  9.98925957e-01,   1.07404272e-03],\n",
       "       [  8.60688772e-01,   1.39311228e-01],\n",
       "       [  4.70350096e-01,   5.29649904e-01],\n",
       "       [  4.12229148e-01,   5.87770852e-01],\n",
       "       [  1.19809172e-01,   8.80190828e-01],\n",
       "       [  9.98818802e-01,   1.18119822e-03],\n",
       "       [  9.77884914e-01,   2.21150861e-02],\n",
       "       [  9.11214651e-01,   8.87853493e-02],\n",
       "       [  9.99685907e-01,   3.14093042e-04],\n",
       "       [  8.86842082e-01,   1.13157918e-01],\n",
       "       [  9.99942454e-01,   5.75463617e-05],\n",
       "       [  6.66748245e-01,   3.33251755e-01],\n",
       "       [  9.98428926e-01,   1.57107414e-03],\n",
       "       [  7.05688163e-02,   9.29431184e-01],\n",
       "       [  1.24871902e-01,   8.75128098e-01],\n",
       "       [  9.97552224e-01,   2.44777588e-03],\n",
       "       [  9.34582577e-01,   6.54174235e-02],\n",
       "       [  7.98608061e-01,   2.01391939e-01],\n",
       "       [  5.48691904e-01,   4.51308096e-01],\n",
       "       [  9.61754008e-01,   3.82459921e-02],\n",
       "       [  2.32714487e-01,   7.67285513e-01],\n",
       "       [  9.72716533e-01,   2.72834671e-02],\n",
       "       [  4.79344736e-01,   5.20655264e-01],\n",
       "       [  2.02355321e-01,   7.97644679e-01],\n",
       "       [  9.55157152e-01,   4.48428480e-02],\n",
       "       [  9.98495907e-01,   1.50409315e-03],\n",
       "       [  9.68752654e-01,   3.12473462e-02],\n",
       "       [  8.70934092e-01,   1.29065908e-01],\n",
       "       [  9.94974236e-01,   5.02576442e-03],\n",
       "       [  1.34814060e-01,   8.65185940e-01],\n",
       "       [  6.32139268e-01,   3.67860732e-01],\n",
       "       [  9.98914141e-01,   1.08585873e-03],\n",
       "       [  2.41062698e-01,   7.58937302e-01],\n",
       "       [  9.99586850e-01,   4.13150030e-04],\n",
       "       [  9.96546817e-01,   3.45318268e-03],\n",
       "       [  8.37997476e-01,   1.62002524e-01],\n",
       "       [  1.45628723e-01,   8.54371277e-01],\n",
       "       [  1.55897810e-01,   8.44102190e-01],\n",
       "       [  2.56244775e-01,   7.43755225e-01],\n",
       "       [  8.96072246e-01,   1.03927754e-01],\n",
       "       [  1.17602217e-01,   8.82397783e-01],\n",
       "       [  1.62358003e-01,   8.37641997e-01],\n",
       "       [  9.91871128e-01,   8.12887192e-03],\n",
       "       [  9.99794420e-01,   2.05579892e-04],\n",
       "       [  1.23611213e-01,   8.76388787e-01],\n",
       "       [  1.55987630e-01,   8.44012370e-01]])"
      ]
     },
     "execution_count": 27,
     "metadata": {},
     "output_type": "execute_result"
    }
   ],
   "source": [
    "# plot roc curve for test set\n",
    "pred_test = model.predict_proba(x_test) # \n",
    "pred_test"
   ]
  },
  {
   "cell_type": "code",
   "execution_count": 35,
   "metadata": {},
   "outputs": [
    {
     "name": "stdout",
     "output_type": "stream",
     "text": [
      "Accuracy:  0.796052631579\n"
     ]
    }
   ],
   "source": [
    "from sklearn.metrics import accuracy_score\n",
    "\n",
    "# 모델 분류의 정확도\n",
    "print('Accuracy: ', accuracy_score(model.predict(x_test), y_test))"
   ]
  },
  {
   "cell_type": "markdown",
   "metadata": {},
   "source": [
    "<br>\n",
    "<br>\n",
    "#### 7. 모델 시각화"
   ]
  },
  {
   "cell_type": "code",
   "execution_count": 38,
   "metadata": {
    "collapsed": true
   },
   "outputs": [],
   "source": [
    "from sklearn.metrics import roc_curve, auc\n",
    "\n",
    "fpr, tpr, _ = roc_curve(y_true=y_test, y_score=pred_test[:,1]) # real y & predicted y (based on \"Sepal width\")\n",
    "roc_auc = auc(fpr, tpr) # AUC 면적의 값 (수치)"
   ]
  },
  {
   "cell_type": "code",
   "execution_count": 50,
   "metadata": {},
   "outputs": [
    {
     "data": {
      "image/png": "[encoded data removed]",
      "text/plain": [
       "<matplotlib.figure.Figure at 0xc1fad30>"
      ]
     },
     "metadata": {},
     "output_type": "display_data"
    }
   ],
   "source": [
    "plt.figure(figsize=(10, 10))\n",
    "\n",
    "plt.plot(fpr, tpr, color='darkorange', lw=2, label='ROC curve (area = %0.2f)' % roc_auc)\n",
    "plt.plot([0, 1], [0, 1], color='navy', lw=2, linestyle='--')\n",
    "\n",
    "plt.xlim([0.0, 1.0])\n",
    "plt.ylim([0.0, 1.05])\n",
    "plt.xlabel('False Positive Rate')\n",
    "plt.ylabel('True Positive Rate')\n",
    "plt.legend(loc=\"lower right\")\n",
    "plt.title(\"ROC curve\")\n",
    "\n",
    "plt.show()"
   ]
  },
  {
   "cell_type": "markdown",
   "metadata": {},
   "source": [
    "<br>\n",
    "<br>\n",
    "#### Practice. 더 좋은 성능을 보이는 Feature 를 찾아보세요!"
   ]
  },
  {
   "cell_type": "code",
   "execution_count": 51,
   "metadata": {},
   "outputs": [
    {
     "name": "stdout",
     "output_type": "stream",
     "text": [
      "Accuracy:  0.822368421053\n"
     ]
    },
    {
     "data": {
      "image/png": "[encoded data removed]",
      "text/plain": [
       "<matplotlib.figure.Figure at 0xc75ee10>"
      ]
     },
     "metadata": {},
     "output_type": "display_data"
    }
   ],
   "source": [
    "import numpy as np\n",
    "import pandas as pd\n",
    "import matplotlib.pyplot as plt\n",
    "from sklearn import datasets, model_selection, linear_model\n",
    "from sklearn.metrics import mean_squared_error, accuracy_score, roc_curve, auc\n",
    "\n",
    "# 1. Prepare the data (array!)\n",
    "df_data = pd.read_excel('boston_house_data.xlsx', encoding='utf-8')\n",
    "df_target = pd.read_excel('boston_house_target.xlsx', encoding='utf-8')\n",
    "df_target['Label'] = df_target[0].apply(lambda x: 1 if x > df_target[0].mean() else 0 ) \n",
    "boston_data = np.array(df_data)\n",
    "boston_target = np.array(df_target['Label'])\n",
    "\n",
    "# 2. Feature selection\n",
    "boston_X = boston_data[:,(5, 12)] # 주택당 방 수 & 인구 중 하위 계층 비율 \n",
    "boston_Y = boston_target\n",
    "\n",
    "# 3. Train/Test split\n",
    "x_train, x_test, y_train, y_test = model_selection.train_test_split(boston_X, boston_Y, test_size=0.3, random_state=0)\n",
    "\n",
    "# 4. Create model object \n",
    "model = linear_model.LogisticRegression()\n",
    "\n",
    "# 5. Train the model \n",
    "model.fit(x_train, y_train)\n",
    "\n",
    "# 6. Test the model\n",
    "print('Accuracy: ', accuracy_score(model.predict(x_test), y_test))\n",
    "\n",
    "# 7. Visualize the model\n",
    "pred_test = model.predict_proba(x_test) # Predict 'probability'\n",
    "fpr, tpr, _ = roc_curve(y_true=y_test, y_score=pred_test[:,1]) # real y & predicted y (based on \"Sepal width\")\n",
    "roc_auc = auc(fpr, tpr) # AUC 면적의 값 (수치)\n",
    "\n",
    "plt.figure(figsize=(10, 10))\n",
    "plt.plot(fpr, tpr, color='darkorange', lw=2, label='ROC curve (area = %0.2f)' % roc_auc)\n",
    "plt.plot([0, 1], [0, 1], color='navy', lw=2, linestyle='--')\n",
    "plt.xlim([0.0, 1.0])\n",
    "plt.ylim([0.0, 1.05])\n",
    "plt.xlabel('False Positive Rate')\n",
    "plt.ylabel('True Positive Rate')\n",
    "plt.legend(loc=\"lower right\")\n",
    "plt.title(\"ROC curve\")\n",
    "plt.show()"
   ]
  },
  {
   "cell_type": "code",
   "execution_count": null,
   "metadata": {
    "collapsed": true
   },
   "outputs": [],
   "source": [
    "# Try 5:13 "
   ]
  }
 ],
 "metadata": {
  "kernelspec": {
   "display_name": "Python 3",
   "language": "python",
   "name": "python3"
  },
  "language_info": {
   "codemirror_mode": {
    "name": "ipython",
    "version": 3
   },
   "file_extension": ".py",
   "mimetype": "text/x-python",
   "name": "python",
   "nbconvert_exporter": "python",
   "pygments_lexer": "ipython3",
   "version": "3.5.2"
  }
 },
 "nbformat": 4,
 "nbformat_minor": 2
}
