{
 "cells": [
  {
   "cell_type": "markdown",
   "id": "f11d49a6-4df6-46a8-9fec-b9ef86c8cc45",
   "metadata": {},
   "source": [
    "# GPU 사용 가능여부 확인"
   ]
  },
  {
   "cell_type": "code",
   "execution_count": 1,
   "id": "d8630f3e-1a7e-493c-bcdb-be014aab642f",
   "metadata": {},
   "outputs": [
    {
     "name": "stdout",
     "output_type": "stream",
     "text": [
      "NVIDIA GeForce GTX 1650 with Max-Q Design\n"
     ]
    }
   ],
   "source": [
    "import torch\n",
    "print(torch.cuda.get_device_name())"
   ]
  },
  {
   "cell_type": "markdown",
   "id": "aa42ecf4-b7e3-451c-8d22-f0b7cb6bbc0f",
   "metadata": {},
   "source": [
    "# GPU와 CPU 성능 확인\n",
    "\n",
    "1000 * 1000 matrix 연산"
   ]
  },
  {
   "cell_type": "code",
   "execution_count": 23,
   "id": "c2a17c55-4abb-4402-a00c-b5e729ce2d56",
   "metadata": {},
   "outputs": [
    {
     "name": "stdout",
     "output_type": "stream",
     "text": [
      "Time on CPU: 0.0155301s \t Time on GPU: 0.0020673s\n",
      "Speed up: Computation was 8X faster on GPU!\n"
     ]
    }
   ],
   "source": [
    "import torch\n",
    "import time\n",
    "\n",
    "if torch.cuda.is_available():\n",
    "  \n",
    "    x = torch.ones(1000, 1000).to(torch.device(\"cpu\"))\n",
    "    y = 2 * x + 3\n",
    "    start_time = time.time()\n",
    "  \n",
    "    # Matrix multiplication (for benchmark purpose)\n",
    "    results = torch.mm(x, y)\n",
    "    time_cpu = time.time() - start_time\n",
    "\n",
    "    # Do the same calculation but on the gpu\n",
    "    # First move tensors to gpu\n",
    "    x = x.to(\"cuda\")\n",
    "    y = y.to(\"cuda\")\n",
    "    start_time = time.time()\n",
    "    # Matrix multiplication (for benchmark purpose)\n",
    "    results = torch.mm(x, y)\n",
    "    time_gpu = time.time() - start_time\n",
    "    if time_gpu == 0:\n",
    "        time_gpu = 0.0000001\n",
    "    print(\"Time on CPU: {:.7f}s \\t Time on GPU: {:.7f}s\".format(time_cpu, time_gpu))\n",
    "    print(\"Speed up: Computation was {:.0f}X faster on GPU!\".format(time_cpu / time_gpu))\n",
    "\n",
    "else:\n",
    "    print(\"You need to enable GPU accelaration in colab (runtime->change runtime type)\")"
   ]
  },
  {
   "cell_type": "code",
   "execution_count": null,
   "id": "5f85e269-7447-4746-aa03-4b5d9ebd7402",
   "metadata": {},
   "outputs": [],
   "source": []
  }
 ],
 "metadata": {
  "kernelspec": {
   "display_name": "Python 3 (ipykernel)",
   "language": "python",
   "name": "python3"
  },
  "language_info": {
   "codemirror_mode": {
    "name": "ipython",
    "version": 3
   },
   "file_extension": ".py",
   "mimetype": "text/x-python",
   "name": "python",
   "nbconvert_exporter": "python",
   "pygments_lexer": "ipython3",
   "version": "3.8.8"
  }
 },
 "nbformat": 4,
 "nbformat_minor": 5
}
