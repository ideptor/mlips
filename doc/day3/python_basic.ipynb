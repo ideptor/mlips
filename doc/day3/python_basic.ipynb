{
  "cells": [
    {
      "cell_type": "markdown",
      "metadata": {
        "id": "6NMUFuP9TUdg"
      },
      "source": [
        "# 출력 - print()"
      ]
    },
    {
      "cell_type": "code",
      "execution_count": null,
      "metadata": {
        "id": "ZnPzI7syTUdk"
      },
      "outputs": [],
      "source": [
        "# \"\" 혹은 '' 안에 있는 내용을 출력합니다.\n",
        "print(\"hello world\")"
      ]
    },
    {
      "cell_type": "code",
      "execution_count": null,
      "metadata": {
        "id": "8MXMeOfWTUdm"
      },
      "outputs": [],
      "source": [
        "# \\가 앞에 오면 특수 문자로 사용됩니다.\n",
        "# \\n: new line\n",
        "# \\t: tab\n",
        "# \\\": \" 출력\n",
        "# \\\\ : \\ 출력\n",
        "print(\"hello world\\ngood bye\")"
      ]
    },
    {
      "cell_type": "code",
      "execution_count": null,
      "metadata": {
        "id": "DF5_X78ITUdm"
      },
      "outputs": [],
      "source": [
        "a = \"hello world\"\n",
        "print(a)"
      ]
    },
    {
      "cell_type": "code",
      "execution_count": null,
      "metadata": {
        "id": "oSFKsvqKTUdn"
      },
      "outputs": [],
      "source": [
        "a = \"hello world\"\n",
        "b = \"good bye\"\n",
        "print(a, \"|\", b)"
      ]
    },
    {
      "cell_type": "code",
      "execution_count": null,
      "metadata": {
        "id": "6qgtRXZ9TUdn"
      },
      "outputs": [],
      "source": [
        "# 이건은 주석입니다. (실행이 되지 않습니다.)"
      ]
    },
    {
      "cell_type": "markdown",
      "metadata": {
        "tags": [],
        "id": "QZgsSgLFTUdo"
      },
      "source": [
        "# 연산"
      ]
    },
    {
      "cell_type": "code",
      "execution_count": null,
      "metadata": {
        "id": "x-WWbo9FTUdo"
      },
      "outputs": [],
      "source": [
        "print(1+2)"
      ]
    },
    {
      "cell_type": "code",
      "execution_count": null,
      "metadata": {
        "id": "TqKgbVOETUdp"
      },
      "outputs": [],
      "source": [
        "print(1-2)"
      ]
    },
    {
      "cell_type": "code",
      "execution_count": null,
      "metadata": {
        "id": "xjOB1HylTUdq"
      },
      "outputs": [],
      "source": [
        "print(1*2)"
      ]
    },
    {
      "cell_type": "code",
      "execution_count": null,
      "metadata": {
        "id": "yZLUSLtYTUdq"
      },
      "outputs": [],
      "source": [
        "print(1/2)"
      ]
    },
    {
      "cell_type": "code",
      "execution_count": null,
      "metadata": {
        "id": "RD-uzI8aTUdr"
      },
      "outputs": [],
      "source": [
        "print(5/3) # 나누기"
      ]
    },
    {
      "cell_type": "code",
      "execution_count": null,
      "metadata": {
        "id": "4ZklPZm0TUdr"
      },
      "outputs": [],
      "source": [
        "print(5//3) # 몫"
      ]
    },
    {
      "cell_type": "code",
      "execution_count": null,
      "metadata": {
        "id": "6Vm0PotXTUdr"
      },
      "outputs": [],
      "source": [
        "print(5%3) # 나머지"
      ]
    },
    {
      "cell_type": "code",
      "execution_count": null,
      "metadata": {
        "id": "C4uwKa6gTUds"
      },
      "outputs": [],
      "source": [
        "print((1+2)*(3-4))"
      ]
    },
    {
      "cell_type": "code",
      "execution_count": null,
      "metadata": {
        "id": "vz4MyDkxTUds"
      },
      "outputs": [],
      "source": [
        "print(1==2)"
      ]
    },
    {
      "cell_type": "code",
      "execution_count": null,
      "metadata": {
        "id": "iCOqX219TUds"
      },
      "outputs": [],
      "source": [
        "print(1!=2)"
      ]
    },
    {
      "cell_type": "code",
      "execution_count": null,
      "metadata": {
        "id": "E5eaWX9aTUdt"
      },
      "outputs": [],
      "source": [
        "print(1>2)"
      ]
    },
    {
      "cell_type": "code",
      "execution_count": null,
      "metadata": {
        "id": "hz78BuTeTUdt"
      },
      "outputs": [],
      "source": [
        "print(1<2)"
      ]
    },
    {
      "cell_type": "code",
      "execution_count": null,
      "metadata": {
        "id": "OUI8bMwKTUdt"
      },
      "outputs": [],
      "source": [
        "print(True and True)"
      ]
    },
    {
      "cell_type": "code",
      "execution_count": null,
      "metadata": {
        "id": "dTS4QenPTUdt"
      },
      "outputs": [],
      "source": [
        "print(True and False)"
      ]
    },
    {
      "cell_type": "code",
      "execution_count": null,
      "metadata": {
        "id": "eG3NSgLhTUdu"
      },
      "outputs": [],
      "source": [
        "print(True or False)"
      ]
    },
    {
      "cell_type": "code",
      "execution_count": null,
      "metadata": {
        "id": "J_cZOTbgTUdu"
      },
      "outputs": [],
      "source": [
        "print(False or False)"
      ]
    },
    {
      "cell_type": "code",
      "execution_count": null,
      "metadata": {
        "id": "NbLSgu-oTUdu"
      },
      "outputs": [],
      "source": [
        "print(math.sqrt(2))"
      ]
    },
    {
      "cell_type": "markdown",
      "metadata": {
        "id": "9qqwkh0ETUdu"
      },
      "source": [
        "# type"
      ]
    },
    {
      "cell_type": "code",
      "execution_count": null,
      "metadata": {
        "id": "s06mPoD7TUdv"
      },
      "outputs": [],
      "source": [
        "a = \"hello\"\n",
        "type(a)"
      ]
    },
    {
      "cell_type": "code",
      "execution_count": null,
      "metadata": {
        "id": "ZFUh0m0hTUdv"
      },
      "outputs": [],
      "source": [
        "a = 1.5\n",
        "type(a)"
      ]
    },
    {
      "cell_type": "code",
      "execution_count": null,
      "metadata": {
        "id": "l_nlYXiaTUdv"
      },
      "outputs": [],
      "source": [
        "a = 1\n",
        "type(a)"
      ]
    },
    {
      "cell_type": "code",
      "execution_count": null,
      "metadata": {
        "id": "Droa9BIVTUdv"
      },
      "outputs": [],
      "source": [
        "a = True\n",
        "type(a)"
      ]
    },
    {
      "cell_type": "code",
      "execution_count": null,
      "metadata": {
        "id": "yJZYmEayTUdv"
      },
      "outputs": [],
      "source": [
        "a = 1.6\n",
        "b = int(a)\n",
        "print(b)"
      ]
    },
    {
      "cell_type": "code",
      "execution_count": null,
      "metadata": {
        "id": "DcTFfkfYTUdw"
      },
      "outputs": [],
      "source": [
        "a = 1.6\n",
        "b = round(a)\n",
        "print(b)"
      ]
    },
    {
      "cell_type": "code",
      "execution_count": null,
      "metadata": {
        "id": "a_C-Vp4KTUdw"
      },
      "outputs": [],
      "source": [
        "a = \"1\"\n",
        "b = \"1\"\n",
        "print(a+b)"
      ]
    },
    {
      "cell_type": "code",
      "execution_count": null,
      "metadata": {
        "id": "GCb5V9kXTUdw"
      },
      "outputs": [],
      "source": [
        "print(int(a)+int(a))"
      ]
    },
    {
      "cell_type": "markdown",
      "metadata": {
        "id": "vUXQj-k3TUdw"
      },
      "source": [
        "# 함수"
      ]
    },
    {
      "cell_type": "code",
      "execution_count": null,
      "metadata": {
        "id": "QDT4L2yRTUdw"
      },
      "outputs": [],
      "source": [
        "def func(a, b):\n",
        "    return a + b\n",
        "\n",
        "c = func(1,2)\n",
        "print(c)"
      ]
    },
    {
      "cell_type": "code",
      "execution_count": null,
      "metadata": {
        "id": "ltrVmPzxTUdw"
      },
      "outputs": [],
      "source": [
        "import math\n",
        "print(math.pow(2,3))"
      ]
    },
    {
      "cell_type": "code",
      "execution_count": null,
      "metadata": {
        "id": "NZWt0HjNTUdx"
      },
      "outputs": [],
      "source": [
        "degree = 60\n",
        "radian = math.radians(degree)\n",
        "print(math.sin(radian))"
      ]
    },
    {
      "cell_type": "code",
      "execution_count": null,
      "metadata": {
        "id": "EHW1K2fNTUdx"
      },
      "outputs": [],
      "source": [
        "help(math.pow)"
      ]
    },
    {
      "cell_type": "code",
      "execution_count": null,
      "metadata": {
        "id": "DuOgCF-FTUdx"
      },
      "outputs": [],
      "source": [
        "help(math.cos)"
      ]
    },
    {
      "cell_type": "markdown",
      "metadata": {
        "id": "8exleQg3TUdx"
      },
      "source": [
        "# 리스트 (배열)"
      ]
    },
    {
      "cell_type": "code",
      "execution_count": null,
      "metadata": {
        "id": "MH9FOjEgTUdx"
      },
      "outputs": [],
      "source": [
        "a = [0, 1, 2, 3, 4, 5, 6, 7, 8, 9]"
      ]
    },
    {
      "cell_type": "code",
      "execution_count": null,
      "metadata": {
        "id": "mMHIZi4VTUdx"
      },
      "outputs": [],
      "source": [
        "len(a)"
      ]
    },
    {
      "cell_type": "code",
      "execution_count": null,
      "metadata": {
        "id": "hWxTn2olTUdy"
      },
      "outputs": [],
      "source": [
        "a[0]"
      ]
    },
    {
      "cell_type": "code",
      "execution_count": null,
      "metadata": {
        "id": "3A5K6zcgTUdy"
      },
      "outputs": [],
      "source": [
        "a[8]"
      ]
    },
    {
      "cell_type": "code",
      "execution_count": null,
      "metadata": {
        "id": "OS2zF-8LTUdy"
      },
      "outputs": [],
      "source": [
        "a[-2]"
      ]
    },
    {
      "cell_type": "code",
      "execution_count": null,
      "metadata": {
        "id": "sJ2k7jleTUdy"
      },
      "outputs": [],
      "source": [
        "a[10]  # error"
      ]
    },
    {
      "cell_type": "code",
      "execution_count": null,
      "metadata": {
        "id": "FK_KgCqJTUdy"
      },
      "outputs": [],
      "source": [
        "a[:2]"
      ]
    },
    {
      "cell_type": "code",
      "execution_count": null,
      "metadata": {
        "id": "cNIVpsHmTUdy"
      },
      "outputs": [],
      "source": [
        "a[8:]"
      ]
    },
    {
      "cell_type": "code",
      "execution_count": null,
      "metadata": {
        "id": "PhnU78h-TUdy"
      },
      "outputs": [],
      "source": [
        "a[-2]"
      ]
    },
    {
      "cell_type": "code",
      "execution_count": null,
      "metadata": {
        "id": "ic4vIjPBTUdz"
      },
      "outputs": [],
      "source": [
        "a[-2:]"
      ]
    },
    {
      "cell_type": "code",
      "execution_count": null,
      "metadata": {
        "id": "OpXW_t2DTUdz"
      },
      "outputs": [],
      "source": [
        "a[:-2]"
      ]
    },
    {
      "cell_type": "code",
      "execution_count": null,
      "metadata": {
        "id": "VVzo-pBATUdz"
      },
      "outputs": [],
      "source": [
        "a = list(range(10))"
      ]
    },
    {
      "cell_type": "code",
      "execution_count": null,
      "metadata": {
        "id": "ay8miw8UTUdz"
      },
      "outputs": [],
      "source": [
        "a"
      ]
    },
    {
      "cell_type": "code",
      "execution_count": null,
      "metadata": {
        "id": "GZ20tIClTUdz"
      },
      "outputs": [],
      "source": [
        "a[0] = 100  # replace\n",
        "print(a)"
      ]
    },
    {
      "cell_type": "code",
      "execution_count": null,
      "metadata": {
        "id": "z_QOKblgTUdz"
      },
      "outputs": [],
      "source": [
        "del a[0]   # delete\n",
        "print(a)\n",
        "print(len(a))"
      ]
    },
    {
      "cell_type": "code",
      "execution_count": null,
      "metadata": {
        "id": "eCyzH-aATUdz"
      },
      "outputs": [],
      "source": [
        "a.append(200) # append \n",
        "print(a)"
      ]
    },
    {
      "cell_type": "code",
      "execution_count": null,
      "metadata": {
        "id": "3foifV8ZTUd0"
      },
      "outputs": [],
      "source": [
        "a = list(range(10))\n",
        "a.sort(reverse=True)\n",
        "print(a)"
      ]
    },
    {
      "cell_type": "code",
      "execution_count": null,
      "metadata": {
        "id": "19usZ8tiTUd0"
      },
      "outputs": [],
      "source": [
        "a.sort()\n",
        "print(a)"
      ]
    },
    {
      "cell_type": "code",
      "execution_count": null,
      "metadata": {
        "id": "TpLmtUz1TUd0"
      },
      "outputs": [],
      "source": [
        "min(a)"
      ]
    },
    {
      "cell_type": "code",
      "execution_count": null,
      "metadata": {
        "id": "Vihpb1MrTUd0"
      },
      "outputs": [],
      "source": [
        "max(a)"
      ]
    },
    {
      "cell_type": "code",
      "execution_count": null,
      "metadata": {
        "id": "cCtYGLNhTUd0"
      },
      "outputs": [],
      "source": [
        "sum(a)"
      ]
    },
    {
      "cell_type": "markdown",
      "metadata": {
        "tags": [],
        "id": "xm516Ae9TUd0"
      },
      "source": [
        "# 분기문"
      ]
    },
    {
      "cell_type": "code",
      "execution_count": null,
      "metadata": {
        "id": "ItxvzUK5TUd0"
      },
      "outputs": [],
      "source": [
        "a = 5\n",
        "b = 3\n",
        "if a > b:\n",
        "    print(\"a is greater than b\")\n",
        "elif a < b:\n",
        "    print(\"a is less than b\")\n",
        "else:\n",
        "    print(\"a is the same as b\")"
      ]
    },
    {
      "cell_type": "markdown",
      "metadata": {
        "id": "fdTtNa2aTUd1"
      },
      "source": [
        "# 반복문"
      ]
    },
    {
      "cell_type": "code",
      "execution_count": null,
      "metadata": {
        "id": "8S5iFy26TUd1"
      },
      "outputs": [],
      "source": [
        "total = 0\n",
        "for i in range(10):\n",
        "    print(i)\n",
        "    total += i\n",
        "print(\"total:\", total)"
      ]
    },
    {
      "cell_type": "code",
      "execution_count": null,
      "metadata": {
        "id": "xJ6WiMdTTUd1"
      },
      "outputs": [],
      "source": [
        "names = [\"Tom\", \"David\", \"Elsa\"]\n",
        "for name in names:\n",
        "    print(\"Hello\", name)"
      ]
    },
    {
      "cell_type": "markdown",
      "metadata": {
        "id": "GHQPdIwuTUd1"
      },
      "source": [
        "# class"
      ]
    },
    {
      "cell_type": "code",
      "execution_count": null,
      "metadata": {
        "id": "MMHP5_qoTUd1"
      },
      "outputs": [],
      "source": [
        "from dataclasses import dataclass\n",
        "\n",
        "@dataclass\n",
        "class Student:\n",
        "    \n",
        "    name: str\n",
        "    age: int\n",
        "    height: float\n",
        "\n",
        "@dataclass\n",
        "class Teacher:\n",
        "\n",
        "    name: str\n",
        "    subject: str\n",
        "\n",
        "tom = Student(name=\"Tom\", age=10, height=174.2)\n",
        "david = Teacher(name=\"David\", subject=\"Computer\")\n",
        "\n",
        "print(tom)\n",
        "print(david)"
      ]
    },
    {
      "cell_type": "code",
      "execution_count": null,
      "metadata": {
        "id": "Tflm1F96TUd1"
      },
      "outputs": [],
      "source": [
        "print(tom.name, tom.age, tom.height)\n",
        "print(type(tom.name), type(tom.age), type(tom.height), type(tom))"
      ]
    },
    {
      "cell_type": "code",
      "execution_count": null,
      "metadata": {
        "id": "EiY-eAYjTUd2"
      },
      "outputs": [],
      "source": [
        ""
      ]
    },
    {
      "cell_type": "code",
      "execution_count": null,
      "metadata": {
        "id": "o0NjVs4vTUd2"
      },
      "outputs": [],
      "source": [
        ""
      ]
    },
    {
      "cell_type": "code",
      "execution_count": null,
      "metadata": {
        "id": "m24SdpDqTUd2"
      },
      "outputs": [],
      "source": [
        ""
      ]
    }
  ],
  "metadata": {
    "kernelspec": {
      "display_name": "Python 3 (ipykernel)",
      "language": "python",
      "name": "python3"
    },
    "language_info": {
      "codemirror_mode": {
        "name": "ipython",
        "version": 3
      },
      "file_extension": ".py",
      "mimetype": "text/x-python",
      "name": "python",
      "nbconvert_exporter": "python",
      "pygments_lexer": "ipython3",
      "version": "3.9.7"
    },
    "colab": {
      "name": "python_basic.ipynb",
      "provenance": []
    }
  },
  "nbformat": 4,
  "nbformat_minor": 0
}