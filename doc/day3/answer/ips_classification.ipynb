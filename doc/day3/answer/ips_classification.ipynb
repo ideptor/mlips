{
 "cells": [
  {
   "cell_type": "markdown",
   "id": "d2c2cd6e-4b85-46d0-a585-96b04e455045",
   "metadata": {},
   "source": [
    "# 데이터 불러오기"
   ]
  },
  {
   "cell_type": "code",
   "execution_count": 1,
   "id": "ec62a332-5c16-464b-a252-dee7e69f5a65",
   "metadata": {
    "tags": []
   },
   "outputs": [
    {
     "data": {
      "text/html": [
       "<div>\n",
       "<style scoped>\n",
       "    .dataframe tbody tr th:only-of-type {\n",
       "        vertical-align: middle;\n",
       "    }\n",
       "\n",
       "    .dataframe tbody tr th {\n",
       "        vertical-align: top;\n",
       "    }\n",
       "\n",
       "    .dataframe thead th {\n",
       "        text-align: right;\n",
       "    }\n",
       "</style>\n",
       "<table border=\"1\" class=\"dataframe\">\n",
       "  <thead>\n",
       "    <tr style=\"text-align: right;\">\n",
       "      <th></th>\n",
       "      <th>timestamp</th>\n",
       "      <th>region</th>\n",
       "      <th>latitude</th>\n",
       "      <th>longitude</th>\n",
       "      <th>20:19:00:00:03:21</th>\n",
       "      <th>20:19:00:00:02:81</th>\n",
       "      <th>20:19:00:00:01:43</th>\n",
       "      <th>20:19:00:00:03:23</th>\n",
       "      <th>20:19:00:00:00:98</th>\n",
       "      <th>20:19:00:00:00:08</th>\n",
       "      <th>...</th>\n",
       "      <th>20:19:00:00:03:22</th>\n",
       "      <th>20:19:00:00:00:58</th>\n",
       "      <th>20:19:00:00:00:34</th>\n",
       "      <th>20:19:00:00:01:08</th>\n",
       "      <th>20:19:00:00:00:62</th>\n",
       "      <th>20:19:00:00:00:30</th>\n",
       "      <th>20:19:00:00:01:96</th>\n",
       "      <th>20:19:00:00:01:34</th>\n",
       "      <th>20:19:00:00:01:41</th>\n",
       "      <th>20:19:00:00:00:24</th>\n",
       "    </tr>\n",
       "  </thead>\n",
       "  <tbody>\n",
       "    <tr>\n",
       "      <th>0</th>\n",
       "      <td>61.472</td>\n",
       "      <td>0</td>\n",
       "      <td>43.718277</td>\n",
       "      <td>10.421566</td>\n",
       "      <td>NaN</td>\n",
       "      <td>NaN</td>\n",
       "      <td>NaN</td>\n",
       "      <td>NaN</td>\n",
       "      <td>-37.0</td>\n",
       "      <td>NaN</td>\n",
       "      <td>...</td>\n",
       "      <td>NaN</td>\n",
       "      <td>-37.0</td>\n",
       "      <td>-86.0</td>\n",
       "      <td>NaN</td>\n",
       "      <td>NaN</td>\n",
       "      <td>NaN</td>\n",
       "      <td>NaN</td>\n",
       "      <td>NaN</td>\n",
       "      <td>-61.0</td>\n",
       "      <td>NaN</td>\n",
       "    </tr>\n",
       "    <tr>\n",
       "      <th>1</th>\n",
       "      <td>68.396</td>\n",
       "      <td>0</td>\n",
       "      <td>43.718301</td>\n",
       "      <td>10.421608</td>\n",
       "      <td>NaN</td>\n",
       "      <td>NaN</td>\n",
       "      <td>NaN</td>\n",
       "      <td>NaN</td>\n",
       "      <td>-48.0</td>\n",
       "      <td>-86.0</td>\n",
       "      <td>...</td>\n",
       "      <td>NaN</td>\n",
       "      <td>-45.0</td>\n",
       "      <td>-81.0</td>\n",
       "      <td>NaN</td>\n",
       "      <td>NaN</td>\n",
       "      <td>NaN</td>\n",
       "      <td>NaN</td>\n",
       "      <td>NaN</td>\n",
       "      <td>-79.0</td>\n",
       "      <td>NaN</td>\n",
       "    </tr>\n",
       "    <tr>\n",
       "      <th>2</th>\n",
       "      <td>72.410</td>\n",
       "      <td>1</td>\n",
       "      <td>43.718326</td>\n",
       "      <td>10.421649</td>\n",
       "      <td>NaN</td>\n",
       "      <td>NaN</td>\n",
       "      <td>NaN</td>\n",
       "      <td>NaN</td>\n",
       "      <td>-66.0</td>\n",
       "      <td>-66.0</td>\n",
       "      <td>...</td>\n",
       "      <td>NaN</td>\n",
       "      <td>-53.0</td>\n",
       "      <td>-78.0</td>\n",
       "      <td>NaN</td>\n",
       "      <td>NaN</td>\n",
       "      <td>NaN</td>\n",
       "      <td>-92.0</td>\n",
       "      <td>NaN</td>\n",
       "      <td>NaN</td>\n",
       "      <td>NaN</td>\n",
       "    </tr>\n",
       "    <tr>\n",
       "      <th>3</th>\n",
       "      <td>76.387</td>\n",
       "      <td>1</td>\n",
       "      <td>43.718350</td>\n",
       "      <td>10.421691</td>\n",
       "      <td>NaN</td>\n",
       "      <td>NaN</td>\n",
       "      <td>NaN</td>\n",
       "      <td>NaN</td>\n",
       "      <td>-68.0</td>\n",
       "      <td>-62.0</td>\n",
       "      <td>...</td>\n",
       "      <td>NaN</td>\n",
       "      <td>-64.0</td>\n",
       "      <td>-72.0</td>\n",
       "      <td>NaN</td>\n",
       "      <td>NaN</td>\n",
       "      <td>NaN</td>\n",
       "      <td>NaN</td>\n",
       "      <td>NaN</td>\n",
       "      <td>NaN</td>\n",
       "      <td>NaN</td>\n",
       "    </tr>\n",
       "    <tr>\n",
       "      <th>4</th>\n",
       "      <td>80.398</td>\n",
       "      <td>1</td>\n",
       "      <td>43.718375</td>\n",
       "      <td>10.421733</td>\n",
       "      <td>NaN</td>\n",
       "      <td>NaN</td>\n",
       "      <td>NaN</td>\n",
       "      <td>NaN</td>\n",
       "      <td>-70.0</td>\n",
       "      <td>NaN</td>\n",
       "      <td>...</td>\n",
       "      <td>NaN</td>\n",
       "      <td>-65.0</td>\n",
       "      <td>-50.0</td>\n",
       "      <td>NaN</td>\n",
       "      <td>NaN</td>\n",
       "      <td>NaN</td>\n",
       "      <td>NaN</td>\n",
       "      <td>NaN</td>\n",
       "      <td>NaN</td>\n",
       "      <td>NaN</td>\n",
       "    </tr>\n",
       "  </tbody>\n",
       "</table>\n",
       "<p>5 rows × 231 columns</p>\n",
       "</div>"
      ],
      "text/plain": [
       "   timestamp  region   latitude  longitude  20:19:00:00:03:21  \\\n",
       "0     61.472       0  43.718277  10.421566                NaN   \n",
       "1     68.396       0  43.718301  10.421608                NaN   \n",
       "2     72.410       1  43.718326  10.421649                NaN   \n",
       "3     76.387       1  43.718350  10.421691                NaN   \n",
       "4     80.398       1  43.718375  10.421733                NaN   \n",
       "\n",
       "   20:19:00:00:02:81  20:19:00:00:01:43  20:19:00:00:03:23  20:19:00:00:00:98  \\\n",
       "0                NaN                NaN                NaN              -37.0   \n",
       "1                NaN                NaN                NaN              -48.0   \n",
       "2                NaN                NaN                NaN              -66.0   \n",
       "3                NaN                NaN                NaN              -68.0   \n",
       "4                NaN                NaN                NaN              -70.0   \n",
       "\n",
       "   20:19:00:00:00:08  ...  20:19:00:00:03:22  20:19:00:00:00:58  \\\n",
       "0                NaN  ...                NaN              -37.0   \n",
       "1              -86.0  ...                NaN              -45.0   \n",
       "2              -66.0  ...                NaN              -53.0   \n",
       "3              -62.0  ...                NaN              -64.0   \n",
       "4                NaN  ...                NaN              -65.0   \n",
       "\n",
       "   20:19:00:00:00:34  20:19:00:00:01:08  20:19:00:00:00:62  20:19:00:00:00:30  \\\n",
       "0              -86.0                NaN                NaN                NaN   \n",
       "1              -81.0                NaN                NaN                NaN   \n",
       "2              -78.0                NaN                NaN                NaN   \n",
       "3              -72.0                NaN                NaN                NaN   \n",
       "4              -50.0                NaN                NaN                NaN   \n",
       "\n",
       "   20:19:00:00:01:96  20:19:00:00:01:34  20:19:00:00:01:41  20:19:00:00:00:24  \n",
       "0                NaN                NaN              -61.0                NaN  \n",
       "1                NaN                NaN              -79.0                NaN  \n",
       "2              -92.0                NaN                NaN                NaN  \n",
       "3                NaN                NaN                NaN                NaN  \n",
       "4                NaN                NaN                NaN                NaN  \n",
       "\n",
       "[5 rows x 231 columns]"
      ]
     },
     "execution_count": 1,
     "metadata": {},
     "output_type": "execute_result"
    }
   ],
   "source": [
    "import pandas as pd\n",
    "\n",
    "df_data = pd.read_csv('trace.csv')\n",
    "df_data.head()"
   ]
  },
  {
   "cell_type": "code",
   "execution_count": 2,
   "id": "943bb482-9645-4859-8337-100a875fcaf6",
   "metadata": {},
   "outputs": [],
   "source": [
    "# NaN 항목을 `-120`으로 만들기\n",
    "df_data = df_data.fillna(-120)"
   ]
  },
  {
   "cell_type": "code",
   "execution_count": 3,
   "id": "c2918f84-250b-4522-8e20-f28c3475dd7a",
   "metadata": {},
   "outputs": [
    {
     "data": {
      "text/html": [
       "<div>\n",
       "<style scoped>\n",
       "    .dataframe tbody tr th:only-of-type {\n",
       "        vertical-align: middle;\n",
       "    }\n",
       "\n",
       "    .dataframe tbody tr th {\n",
       "        vertical-align: top;\n",
       "    }\n",
       "\n",
       "    .dataframe thead th {\n",
       "        text-align: right;\n",
       "    }\n",
       "</style>\n",
       "<table border=\"1\" class=\"dataframe\">\n",
       "  <thead>\n",
       "    <tr style=\"text-align: right;\">\n",
       "      <th></th>\n",
       "      <th>timestamp</th>\n",
       "      <th>region</th>\n",
       "      <th>latitude</th>\n",
       "      <th>longitude</th>\n",
       "      <th>20:19:00:00:03:21</th>\n",
       "      <th>20:19:00:00:02:81</th>\n",
       "      <th>20:19:00:00:01:43</th>\n",
       "      <th>20:19:00:00:03:23</th>\n",
       "      <th>20:19:00:00:00:98</th>\n",
       "      <th>20:19:00:00:00:08</th>\n",
       "      <th>...</th>\n",
       "      <th>20:19:00:00:03:22</th>\n",
       "      <th>20:19:00:00:00:58</th>\n",
       "      <th>20:19:00:00:00:34</th>\n",
       "      <th>20:19:00:00:01:08</th>\n",
       "      <th>20:19:00:00:00:62</th>\n",
       "      <th>20:19:00:00:00:30</th>\n",
       "      <th>20:19:00:00:01:96</th>\n",
       "      <th>20:19:00:00:01:34</th>\n",
       "      <th>20:19:00:00:01:41</th>\n",
       "      <th>20:19:00:00:00:24</th>\n",
       "    </tr>\n",
       "  </thead>\n",
       "  <tbody>\n",
       "    <tr>\n",
       "      <th>0</th>\n",
       "      <td>61.472</td>\n",
       "      <td>0</td>\n",
       "      <td>43.718277</td>\n",
       "      <td>10.421566</td>\n",
       "      <td>-120.0</td>\n",
       "      <td>-120.0</td>\n",
       "      <td>-120.0</td>\n",
       "      <td>-120.0</td>\n",
       "      <td>-37.0</td>\n",
       "      <td>-120.0</td>\n",
       "      <td>...</td>\n",
       "      <td>-120.0</td>\n",
       "      <td>-37.0</td>\n",
       "      <td>-86.0</td>\n",
       "      <td>-120.0</td>\n",
       "      <td>-120.0</td>\n",
       "      <td>-120.0</td>\n",
       "      <td>-120.0</td>\n",
       "      <td>-120.0</td>\n",
       "      <td>-61.0</td>\n",
       "      <td>-120.0</td>\n",
       "    </tr>\n",
       "    <tr>\n",
       "      <th>1</th>\n",
       "      <td>68.396</td>\n",
       "      <td>0</td>\n",
       "      <td>43.718301</td>\n",
       "      <td>10.421608</td>\n",
       "      <td>-120.0</td>\n",
       "      <td>-120.0</td>\n",
       "      <td>-120.0</td>\n",
       "      <td>-120.0</td>\n",
       "      <td>-48.0</td>\n",
       "      <td>-86.0</td>\n",
       "      <td>...</td>\n",
       "      <td>-120.0</td>\n",
       "      <td>-45.0</td>\n",
       "      <td>-81.0</td>\n",
       "      <td>-120.0</td>\n",
       "      <td>-120.0</td>\n",
       "      <td>-120.0</td>\n",
       "      <td>-120.0</td>\n",
       "      <td>-120.0</td>\n",
       "      <td>-79.0</td>\n",
       "      <td>-120.0</td>\n",
       "    </tr>\n",
       "    <tr>\n",
       "      <th>2</th>\n",
       "      <td>72.410</td>\n",
       "      <td>1</td>\n",
       "      <td>43.718326</td>\n",
       "      <td>10.421649</td>\n",
       "      <td>-120.0</td>\n",
       "      <td>-120.0</td>\n",
       "      <td>-120.0</td>\n",
       "      <td>-120.0</td>\n",
       "      <td>-66.0</td>\n",
       "      <td>-66.0</td>\n",
       "      <td>...</td>\n",
       "      <td>-120.0</td>\n",
       "      <td>-53.0</td>\n",
       "      <td>-78.0</td>\n",
       "      <td>-120.0</td>\n",
       "      <td>-120.0</td>\n",
       "      <td>-120.0</td>\n",
       "      <td>-92.0</td>\n",
       "      <td>-120.0</td>\n",
       "      <td>-120.0</td>\n",
       "      <td>-120.0</td>\n",
       "    </tr>\n",
       "    <tr>\n",
       "      <th>3</th>\n",
       "      <td>76.387</td>\n",
       "      <td>1</td>\n",
       "      <td>43.718350</td>\n",
       "      <td>10.421691</td>\n",
       "      <td>-120.0</td>\n",
       "      <td>-120.0</td>\n",
       "      <td>-120.0</td>\n",
       "      <td>-120.0</td>\n",
       "      <td>-68.0</td>\n",
       "      <td>-62.0</td>\n",
       "      <td>...</td>\n",
       "      <td>-120.0</td>\n",
       "      <td>-64.0</td>\n",
       "      <td>-72.0</td>\n",
       "      <td>-120.0</td>\n",
       "      <td>-120.0</td>\n",
       "      <td>-120.0</td>\n",
       "      <td>-120.0</td>\n",
       "      <td>-120.0</td>\n",
       "      <td>-120.0</td>\n",
       "      <td>-120.0</td>\n",
       "    </tr>\n",
       "    <tr>\n",
       "      <th>4</th>\n",
       "      <td>80.398</td>\n",
       "      <td>1</td>\n",
       "      <td>43.718375</td>\n",
       "      <td>10.421733</td>\n",
       "      <td>-120.0</td>\n",
       "      <td>-120.0</td>\n",
       "      <td>-120.0</td>\n",
       "      <td>-120.0</td>\n",
       "      <td>-70.0</td>\n",
       "      <td>-120.0</td>\n",
       "      <td>...</td>\n",
       "      <td>-120.0</td>\n",
       "      <td>-65.0</td>\n",
       "      <td>-50.0</td>\n",
       "      <td>-120.0</td>\n",
       "      <td>-120.0</td>\n",
       "      <td>-120.0</td>\n",
       "      <td>-120.0</td>\n",
       "      <td>-120.0</td>\n",
       "      <td>-120.0</td>\n",
       "      <td>-120.0</td>\n",
       "    </tr>\n",
       "  </tbody>\n",
       "</table>\n",
       "<p>5 rows × 231 columns</p>\n",
       "</div>"
      ],
      "text/plain": [
       "   timestamp  region   latitude  longitude  20:19:00:00:03:21  \\\n",
       "0     61.472       0  43.718277  10.421566             -120.0   \n",
       "1     68.396       0  43.718301  10.421608             -120.0   \n",
       "2     72.410       1  43.718326  10.421649             -120.0   \n",
       "3     76.387       1  43.718350  10.421691             -120.0   \n",
       "4     80.398       1  43.718375  10.421733             -120.0   \n",
       "\n",
       "   20:19:00:00:02:81  20:19:00:00:01:43  20:19:00:00:03:23  20:19:00:00:00:98  \\\n",
       "0             -120.0             -120.0             -120.0              -37.0   \n",
       "1             -120.0             -120.0             -120.0              -48.0   \n",
       "2             -120.0             -120.0             -120.0              -66.0   \n",
       "3             -120.0             -120.0             -120.0              -68.0   \n",
       "4             -120.0             -120.0             -120.0              -70.0   \n",
       "\n",
       "   20:19:00:00:00:08  ...  20:19:00:00:03:22  20:19:00:00:00:58  \\\n",
       "0             -120.0  ...             -120.0              -37.0   \n",
       "1              -86.0  ...             -120.0              -45.0   \n",
       "2              -66.0  ...             -120.0              -53.0   \n",
       "3              -62.0  ...             -120.0              -64.0   \n",
       "4             -120.0  ...             -120.0              -65.0   \n",
       "\n",
       "   20:19:00:00:00:34  20:19:00:00:01:08  20:19:00:00:00:62  20:19:00:00:00:30  \\\n",
       "0              -86.0             -120.0             -120.0             -120.0   \n",
       "1              -81.0             -120.0             -120.0             -120.0   \n",
       "2              -78.0             -120.0             -120.0             -120.0   \n",
       "3              -72.0             -120.0             -120.0             -120.0   \n",
       "4              -50.0             -120.0             -120.0             -120.0   \n",
       "\n",
       "   20:19:00:00:01:96  20:19:00:00:01:34  20:19:00:00:01:41  20:19:00:00:00:24  \n",
       "0             -120.0             -120.0              -61.0             -120.0  \n",
       "1             -120.0             -120.0              -79.0             -120.0  \n",
       "2              -92.0             -120.0             -120.0             -120.0  \n",
       "3             -120.0             -120.0             -120.0             -120.0  \n",
       "4             -120.0             -120.0             -120.0             -120.0  \n",
       "\n",
       "[5 rows x 231 columns]"
      ]
     },
     "execution_count": 3,
     "metadata": {},
     "output_type": "execute_result"
    }
   ],
   "source": [
    "df_data.head()"
   ]
  },
  {
   "cell_type": "markdown",
   "id": "02441557-26eb-4e16-842a-c6b1e9db6ca4",
   "metadata": {},
   "source": [
    "# Classifier Model 을 위한 데이터 만들기"
   ]
  },
  {
   "cell_type": "markdown",
   "id": "b7066ca7-e7e7-4fe4-9461-c396690294b2",
   "metadata": {},
   "source": [
    "## STEP1. 입력데이터 포멧 맞추기"
   ]
  },
  {
   "cell_type": "code",
   "execution_count": 4,
   "id": "5c367dca-0ebc-4dcc-acfb-20ebb9ade3dd",
   "metadata": {},
   "outputs": [
    {
     "name": "stdout",
     "output_type": "stream",
     "text": [
      "(103, 231)\n"
     ]
    }
   ],
   "source": [
    "import numpy as np\n",
    "ips_data = np.array(df_data)\n",
    "\n",
    "# 데이터의 행, 열 갯수 출력\n",
    "print(ips_data.shape)"
   ]
  },
  {
   "cell_type": "code",
   "execution_count": 5,
   "id": "3d598a67-1390-4933-842d-ed869718f55a",
   "metadata": {},
   "outputs": [
    {
     "name": "stdout",
     "output_type": "stream",
     "text": [
      "[  61.472         0.           43.71827713   10.42156589 -120.\n",
      " -120.         -120.         -120.          -37.         -120.\n",
      " -120.         -120.         -120.         -120.          -32.\n",
      " -120.         -120.          -63.         -120.          -36.\n",
      " -120.         -120.          -63.         -120.         -120.\n",
      " -120.         -120.         -120.         -120.          -33.\n",
      " -120.         -120.         -120.         -120.         -120.\n",
      " -120.         -120.         -120.         -120.         -120.\n",
      " -120.         -120.         -120.         -120.         -120.\n",
      " -120.         -120.         -120.         -120.          -92.\n",
      " -120.         -120.         -120.         -120.         -120.\n",
      " -120.          -60.         -120.         -120.         -120.\n",
      " -120.         -120.         -120.          -62.         -120.\n",
      " -120.         -120.         -120.         -120.         -120.\n",
      " -120.         -120.         -120.         -120.         -120.\n",
      " -120.         -120.         -120.          -86.         -120.\n",
      "  -82.         -120.         -120.         -120.         -120.\n",
      " -120.          -81.         -120.          -63.         -120.\n",
      "  -81.         -120.         -120.         -120.         -120.\n",
      " -120.         -120.         -120.         -120.         -120.\n",
      "  -83.         -120.         -120.         -120.         -120.\n",
      " -120.         -120.         -120.         -120.         -120.\n",
      " -120.         -120.          -82.         -120.         -120.\n",
      " -120.         -120.         -120.         -120.         -120.\n",
      " -120.         -120.         -120.         -120.         -120.\n",
      " -120.         -120.         -120.         -120.         -120.\n",
      " -120.         -120.         -120.         -120.         -120.\n",
      " -120.         -120.         -120.         -120.         -120.\n",
      " -120.         -120.         -120.         -120.         -120.\n",
      " -120.         -120.         -120.         -120.         -120.\n",
      " -120.          -89.         -120.         -120.         -120.\n",
      " -120.         -120.         -120.         -120.         -120.\n",
      " -120.          -63.         -120.         -120.         -120.\n",
      " -120.         -120.          -81.         -120.         -120.\n",
      " -120.         -120.         -120.         -120.         -120.\n",
      " -120.         -120.         -120.         -120.         -120.\n",
      "  -60.         -120.          -34.          -34.          -61.\n",
      " -120.         -120.         -120.          -60.         -120.\n",
      " -120.         -120.         -120.         -120.          -81.\n",
      "  -36.         -120.         -120.         -120.         -120.\n",
      " -120.          -84.          -36.         -120.         -120.\n",
      " -120.         -120.         -120.         -120.         -120.\n",
      " -120.         -120.          -89.         -120.         -120.\n",
      " -120.          -89.         -120.         -120.          -36.\n",
      " -120.         -120.          -37.          -86.         -120.\n",
      " -120.         -120.         -120.         -120.          -61.\n",
      " -120.        ]\n"
     ]
    }
   ],
   "source": [
    "# 첫번째 데이터 출력\n",
    "print(ips_data[0])"
   ]
  },
  {
   "cell_type": "code",
   "execution_count": 6,
   "id": "5c30f084-4328-4874-b9e1-52c84d56bd62",
   "metadata": {},
   "outputs": [
    {
     "data": {
      "text/plain": [
       "(103, 227)"
      ]
     },
     "execution_count": 6,
     "metadata": {},
     "output_type": "execute_result"
    }
   ],
   "source": [
    "# timestamp, region, latitude, longitude는 training 대상 feature에 서 제외\n",
    "ips_x = ips_data[:, 4:]\n",
    "ips_x.shape"
   ]
  },
  {
   "cell_type": "code",
   "execution_count": 7,
   "id": "3136cadc-ce10-42ed-9d19-fc6d0d564d2e",
   "metadata": {},
   "outputs": [
    {
     "name": "stdout",
     "output_type": "stream",
     "text": [
      "[-120. -120. -120. -120.  -37. -120. -120. -120. -120. -120.  -32. -120.\n",
      " -120.  -63. -120.  -36. -120. -120.  -63. -120. -120. -120. -120. -120.\n",
      " -120.  -33. -120. -120. -120. -120. -120. -120. -120. -120. -120. -120.\n",
      " -120. -120. -120. -120. -120. -120. -120. -120. -120.  -92. -120. -120.\n",
      " -120. -120. -120. -120.  -60. -120. -120. -120. -120. -120. -120.  -62.\n",
      " -120. -120. -120. -120. -120. -120. -120. -120. -120. -120. -120. -120.\n",
      " -120. -120.  -86. -120.  -82. -120. -120. -120. -120. -120.  -81. -120.\n",
      "  -63. -120.  -81. -120. -120. -120. -120. -120. -120. -120. -120. -120.\n",
      "  -83. -120. -120. -120. -120. -120. -120. -120. -120. -120. -120. -120.\n",
      "  -82. -120. -120. -120. -120. -120. -120. -120. -120. -120. -120. -120.\n",
      " -120. -120. -120. -120. -120. -120. -120. -120. -120. -120. -120. -120.\n",
      " -120. -120. -120. -120. -120. -120. -120. -120. -120. -120. -120. -120.\n",
      " -120. -120. -120.  -89. -120. -120. -120. -120. -120. -120. -120. -120.\n",
      " -120.  -63. -120. -120. -120. -120. -120.  -81. -120. -120. -120. -120.\n",
      " -120. -120. -120. -120. -120. -120. -120. -120.  -60. -120.  -34.  -34.\n",
      "  -61. -120. -120. -120.  -60. -120. -120. -120. -120. -120.  -81.  -36.\n",
      " -120. -120. -120. -120. -120.  -84.  -36. -120. -120. -120. -120. -120.\n",
      " -120. -120. -120. -120.  -89. -120. -120. -120.  -89. -120. -120.  -36.\n",
      " -120. -120.  -37.  -86. -120. -120. -120. -120. -120.  -61. -120.]\n"
     ]
    }
   ],
   "source": [
    "# training대상 feature만 정리된 데이터의 첫번째 행 출력\n",
    "print(ips_x[0])"
   ]
  },
  {
   "cell_type": "code",
   "execution_count": 8,
   "id": "4aad0d3c-339d-4db6-8a1f-e9f79f95ec65",
   "metadata": {},
   "outputs": [
    {
     "name": "stdout",
     "output_type": "stream",
     "text": [
      "[0 0 1 1 1 2 2 3 3 3 4 4 4 4 4 3 3 2 2 2 1 1 0 0 0 0 0 1 1 1 2 2 2 3 3 3 4\n",
      " 4 4 4 4 3 3 2 2 2 1 1 0 0 0 0 0 0 1 1 1 2 2 2 3 3 3 4 4 4 4 4 4 3 3 3 2 2\n",
      " 2 1 1 1 0 0 0 0 0 1 1 2 2 3 3 4 4 4 4 4 3 3 2 2 1 1 0 0 0]\n"
     ]
    }
   ],
   "source": [
    "# region을 class 로 활용하기 위해 두번째 열만으로 하나의 배열을 만듬.\n",
    "ips_y = ips_data[:, 1:2]\n",
    "ips_y = ips_y.reshape(-1)\n",
    "ips_y = ips_y.astype(np.int32)\n",
    "print(ips_y)"
   ]
  },
  {
   "cell_type": "markdown",
   "id": "e42ed716-7de2-44a5-81d2-2c1cc51d818f",
   "metadata": {},
   "source": [
    "## STEP2. Training & Test set 으로 나눠주기"
   ]
  },
  {
   "cell_type": "code",
   "execution_count": 9,
   "id": "28f0767d-10d8-4bfe-b207-0c62b7ba8bdf",
   "metadata": {},
   "outputs": [
    {
     "name": "stdout",
     "output_type": "stream",
     "text": [
      "x_train: (72, 227) y_train: (72,)\n",
      "x_test:  (31, 227) y_test:  (31,)\n"
     ]
    }
   ],
   "source": [
    "from sklearn import model_selection\n",
    "\n",
    "train_x, test_x, train_y, test_y = model_selection.train_test_split(ips_x, ips_y, test_size=0.3, shuffle=False)\n",
    "\n",
    "print(\"x_train:\", train_x.shape, \"y_train:\", train_y.shape)\n",
    "print(\"x_test: \", test_x.shape, \"y_test: \", test_y.shape)"
   ]
  },
  {
   "cell_type": "markdown",
   "id": "5ba36ebb-ef53-4a68-97be-3de978c331b4",
   "metadata": {},
   "source": [
    "## KNN"
   ]
  },
  {
   "cell_type": "code",
   "execution_count": 10,
   "id": "91ef1a29-3947-4908-8401-a3fff6481a91",
   "metadata": {},
   "outputs": [
    {
     "data": {
      "text/plain": [
       "KNeighborsClassifier()"
      ]
     },
     "execution_count": 10,
     "metadata": {},
     "output_type": "execute_result"
    }
   ],
   "source": [
    "from sklearn.neighbors import KNeighborsClassifier\n",
    "\n",
    "model = KNeighborsClassifier() # 모델 생성\n",
    "model.fit(train_x, train_y)    # 모델 학습"
   ]
  },
  {
   "cell_type": "code",
   "execution_count": 11,
   "id": "4e33c122-8570-43d5-89c1-4f18efb889d4",
   "metadata": {},
   "outputs": [
    {
     "data": {
      "text/plain": [
       "0.7096774193548387"
      ]
     },
     "execution_count": 11,
     "metadata": {},
     "output_type": "execute_result"
    }
   ],
   "source": [
    "model.score(test_x, test_y)"
   ]
  },
  {
   "cell_type": "code",
   "execution_count": 12,
   "id": "18893aa0-308a-46c1-b3d8-cf857f70644e",
   "metadata": {},
   "outputs": [
    {
     "name": "stdout",
     "output_type": "stream",
     "text": [
      "[00] actual=2, predicted=[2] - [ True]\n",
      "[01] actual=2, predicted=[2] - [ True]\n",
      "[02] actual=2, predicted=[2] - [ True]\n",
      "[03] actual=1, predicted=[2] - [False]\n",
      "[04] actual=1, predicted=[1] - [ True]\n",
      "[05] actual=1, predicted=[1] - [ True]\n",
      "[06] actual=0, predicted=[1] - [False]\n",
      "[07] actual=0, predicted=[0] - [ True]\n",
      "[08] actual=0, predicted=[0] - [ True]\n",
      "[09] actual=0, predicted=[0] - [ True]\n",
      "[10] actual=0, predicted=[0] - [ True]\n",
      "[11] actual=1, predicted=[1] - [ True]\n",
      "[12] actual=1, predicted=[1] - [ True]\n",
      "[13] actual=2, predicted=[2] - [ True]\n",
      "[14] actual=2, predicted=[2] - [ True]\n",
      "[15] actual=3, predicted=[2] - [False]\n",
      "[16] actual=3, predicted=[2] - [False]\n",
      "[17] actual=4, predicted=[3] - [False]\n",
      "[18] actual=4, predicted=[4] - [ True]\n",
      "[19] actual=4, predicted=[4] - [ True]\n",
      "[20] actual=4, predicted=[4] - [ True]\n",
      "[21] actual=4, predicted=[4] - [ True]\n",
      "[22] actual=3, predicted=[3] - [ True]\n",
      "[23] actual=3, predicted=[3] - [ True]\n",
      "[24] actual=2, predicted=[3] - [False]\n",
      "[25] actual=2, predicted=[3] - [False]\n",
      "[26] actual=1, predicted=[2] - [False]\n",
      "[27] actual=1, predicted=[1] - [ True]\n",
      "[28] actual=0, predicted=[1] - [False]\n",
      "[29] actual=0, predicted=[0] - [ True]\n",
      "[30] actual=0, predicted=[0] - [ True]\n",
      "Accuracy: 0.7096774193548387 (22/31)\n"
     ]
    }
   ],
   "source": [
    "hit = 0\n",
    "total = 0\n",
    "results = []\n",
    "for idx in range(len(test_x)):\n",
    "    actual = test_y[idx]\n",
    "    predicted = model.predict(test_x[idx].reshape(1,-1))\n",
    "    total += 1\n",
    "    print(f\"[{idx:02d}] actual={actual}, predicted={predicted} - {actual==predicted}\")\n",
    "    if actual == predicted[0]:\n",
    "        results.append(True)\n",
    "        hit += 1\n",
    "    else:\n",
    "        results.append(False)\n",
    "\n",
    "print(f\"Accuracy: {hit/total} ({hit}/{total})\")"
   ]
  },
  {
   "cell_type": "code",
   "execution_count": 13,
   "id": "dc84a6ea-f373-4e48-9986-a05ccb37a0be",
   "metadata": {},
   "outputs": [],
   "source": [
    "colors = ['blue' if r == True else 'red' for r in results]"
   ]
  },
  {
   "cell_type": "markdown",
   "id": "7d0913a1-49e0-4b36-b6c3-19704bac5422",
   "metadata": {},
   "source": [
    "# 좌표"
   ]
  },
  {
   "cell_type": "code",
   "execution_count": 14,
   "id": "680394ac-87be-480b-a6da-3164ec3eee14",
   "metadata": {},
   "outputs": [],
   "source": [
    "latitudes = ips_data[72:, 2:3]\n",
    "latitudes = latitudes.reshape(-1)\n",
    "longitudes = ips_data[72:, 3:4]\n",
    "longitudes = longitudes.reshape(-1)"
   ]
  },
  {
   "cell_type": "code",
   "execution_count": 15,
   "id": "7f1abec6-1248-4e49-afbe-608b476c5f95",
   "metadata": {},
   "outputs": [
    {
     "data": {
      "image/png": "[encoded data removed]",
      "text/plain": [
       "<Figure size 432x288 with 1 Axes>"
      ]
     },
     "metadata": {
      "needs_background": "light"
     },
     "output_type": "display_data"
    }
   ],
   "source": [
    "import matplotlib.pyplot as plt\n",
    "plt.scatter(latitudes, longitudes, c=colors)\n",
    "plt.show()"
   ]
  },
  {
   "cell_type": "markdown",
   "id": "7b732615-5d3d-4714-b2e3-82b2abb3f728",
   "metadata": {
    "tags": []
   },
   "source": [
    "## SVM"
   ]
  },
  {
   "cell_type": "code",
   "execution_count": 16,
   "id": "e1a197d0-813f-4b47-8ee8-b12aa6a9a512",
   "metadata": {},
   "outputs": [
    {
     "data": {
      "text/plain": [
       "SVC()"
      ]
     },
     "execution_count": 16,
     "metadata": {},
     "output_type": "execute_result"
    }
   ],
   "source": [
    "from sklearn import svm\n",
    "\n",
    "model = svm.SVC() # 모델 생성\n",
    "model.fit(train_x, train_y)    # 모델 학습"
   ]
  },
  {
   "cell_type": "code",
   "execution_count": 17,
   "id": "b0d9f554-c401-4ac6-b9dd-d9c769808d3b",
   "metadata": {},
   "outputs": [
    {
     "data": {
      "text/plain": [
       "0.7741935483870968"
      ]
     },
     "execution_count": 17,
     "metadata": {},
     "output_type": "execute_result"
    }
   ],
   "source": [
    "model.score(test_x, test_y)"
   ]
  },
  {
   "cell_type": "code",
   "execution_count": 18,
   "id": "bc42f79d-a1b2-4d06-9778-8047f2cbd815",
   "metadata": {},
   "outputs": [],
   "source": [
    "def display(test_x, test_y, models):\n",
    "    hit = 0\n",
    "    total = 0\n",
    "    for idx in range(len(test_x)):\n",
    "        actual = test_y[idx]\n",
    "        predicted = model.predict(test_x[idx].reshape(1,-1))\n",
    "        total += 1\n",
    "        print(f\"[{idx:02d}] actual={actual}, predicted={predicted} - {actual==predicted}\")\n",
    "        if actual == predicted[0]:\n",
    "            hit += 1\n",
    "\n",
    "    print(f\"Accuracy: {hit/total} ({hit}/{total})\")"
   ]
  },
  {
   "cell_type": "code",
   "execution_count": 19,
   "id": "cb74cdb7-e279-4bba-83d9-8d14bd3f74e2",
   "metadata": {},
   "outputs": [
    {
     "name": "stdout",
     "output_type": "stream",
     "text": [
      "[00] actual=2, predicted=[2] - [ True]\n",
      "[01] actual=2, predicted=[2] - [ True]\n",
      "[02] actual=2, predicted=[2] - [ True]\n",
      "[03] actual=1, predicted=[2] - [False]\n",
      "[04] actual=1, predicted=[1] - [ True]\n",
      "[05] actual=1, predicted=[1] - [ True]\n",
      "[06] actual=0, predicted=[1] - [False]\n",
      "[07] actual=0, predicted=[0] - [ True]\n",
      "[08] actual=0, predicted=[0] - [ True]\n",
      "[09] actual=0, predicted=[0] - [ True]\n",
      "[10] actual=0, predicted=[0] - [ True]\n",
      "[11] actual=1, predicted=[1] - [ True]\n",
      "[12] actual=1, predicted=[1] - [ True]\n",
      "[13] actual=2, predicted=[2] - [ True]\n",
      "[14] actual=2, predicted=[2] - [ True]\n",
      "[15] actual=3, predicted=[2] - [False]\n",
      "[16] actual=3, predicted=[2] - [False]\n",
      "[17] actual=4, predicted=[3] - [False]\n",
      "[18] actual=4, predicted=[4] - [ True]\n",
      "[19] actual=4, predicted=[4] - [ True]\n",
      "[20] actual=4, predicted=[4] - [ True]\n",
      "[21] actual=4, predicted=[4] - [ True]\n",
      "[22] actual=3, predicted=[3] - [ True]\n",
      "[23] actual=3, predicted=[3] - [ True]\n",
      "[24] actual=2, predicted=[2] - [ True]\n",
      "[25] actual=2, predicted=[2] - [ True]\n",
      "[26] actual=1, predicted=[2] - [False]\n",
      "[27] actual=1, predicted=[1] - [ True]\n",
      "[28] actual=0, predicted=[1] - [False]\n",
      "[29] actual=0, predicted=[0] - [ True]\n",
      "[30] actual=0, predicted=[0] - [ True]\n",
      "Accuracy: 0.7741935483870968 (24/31)\n"
     ]
    }
   ],
   "source": [
    "display(test_x, test_y, model)"
   ]
  },
  {
   "cell_type": "markdown",
   "id": "88befbf6-e608-4eee-ba37-0e9affca2e04",
   "metadata": {
    "tags": []
   },
   "source": [
    "## GaussianProcessClassifier"
   ]
  },
  {
   "cell_type": "code",
   "execution_count": 20,
   "id": "0e3097e8-75a1-4e0d-99ce-11fbaaeb4f4a",
   "metadata": {},
   "outputs": [
    {
     "data": {
      "text/plain": [
       "GaussianProcessClassifier()"
      ]
     },
     "execution_count": 20,
     "metadata": {},
     "output_type": "execute_result"
    }
   ],
   "source": [
    "from sklearn.gaussian_process import GaussianProcessClassifier\n",
    "model = GaussianProcessClassifier() # 모델 생성\n",
    "model.fit(train_x, train_y)    # 모델 학습"
   ]
  },
  {
   "cell_type": "code",
   "execution_count": 21,
   "id": "cdca4cf5-335a-4ff4-bf76-76a2e64581cf",
   "metadata": {},
   "outputs": [
    {
     "data": {
      "text/plain": [
       "0.16129032258064516"
      ]
     },
     "execution_count": 21,
     "metadata": {},
     "output_type": "execute_result"
    }
   ],
   "source": [
    "model.score(test_x, test_y)"
   ]
  },
  {
   "cell_type": "code",
   "execution_count": null,
   "id": "de77e43a-90d6-484f-8df0-9efcccc4fc6b",
   "metadata": {},
   "outputs": [],
   "source": []
  },
  {
   "cell_type": "markdown",
   "id": "f491bc88-d266-4db8-9a79-e88d4233a685",
   "metadata": {
    "tags": []
   },
   "source": [
    "# sklearn classifiers\n",
    "https://scikit-learn.org/stable/auto_examples/classification/plot_classifier_comparison.html"
   ]
  },
  {
   "cell_type": "code",
   "execution_count": null,
   "id": "bba6a9ca-b3b0-4775-976f-12f945cd711a",
   "metadata": {},
   "outputs": [],
   "source": []
  }
 ],
 "metadata": {
  "kernelspec": {
   "display_name": "Python 3 (ipykernel)",
   "language": "python",
   "name": "python3"
  },
  "language_info": {
   "codemirror_mode": {
    "name": "ipython",
    "version": 3
   },
   "file_extension": ".py",
   "mimetype": "text/x-python",
   "name": "python",
   "nbconvert_exporter": "python",
   "pygments_lexer": "ipython3",
   "version": "3.9.7"
  }
 },
 "nbformat": 4,
 "nbformat_minor": 5
}
