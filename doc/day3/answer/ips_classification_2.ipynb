{
 "cells": [
  {
   "cell_type": "markdown",
   "id": "10b02c11-420a-4544-b424-c11e64672430",
   "metadata": {},
   "source": [
    "# 데이터 전처리\n",
    "\n",
    "- 평균값 혹은 최소 값으로 대체"
   ]
  },
  {
   "cell_type": "markdown",
   "id": "d2c2cd6e-4b85-46d0-a585-96b04e455045",
   "metadata": {},
   "source": [
    "# 데이터 불러오기"
   ]
  },
  {
   "cell_type": "code",
   "execution_count": 1,
   "id": "ec62a332-5c16-464b-a252-dee7e69f5a65",
   "metadata": {
    "tags": []
   },
   "outputs": [
    {
     "data": {
      "text/html": [
       "<div>\n",
       "<style scoped>\n",
       "    .dataframe tbody tr th:only-of-type {\n",
       "        vertical-align: middle;\n",
       "    }\n",
       "\n",
       "    .dataframe tbody tr th {\n",
       "        vertical-align: top;\n",
       "    }\n",
       "\n",
       "    .dataframe thead th {\n",
       "        text-align: right;\n",
       "    }\n",
       "</style>\n",
       "<table border=\"1\" class=\"dataframe\">\n",
       "  <thead>\n",
       "    <tr style=\"text-align: right;\">\n",
       "      <th></th>\n",
       "      <th>timestamp</th>\n",
       "      <th>region</th>\n",
       "      <th>latitude</th>\n",
       "      <th>longitude</th>\n",
       "      <th>20:19:00:00:03:21</th>\n",
       "      <th>20:19:00:00:02:81</th>\n",
       "      <th>20:19:00:00:01:43</th>\n",
       "      <th>20:19:00:00:03:23</th>\n",
       "      <th>20:19:00:00:00:98</th>\n",
       "      <th>20:19:00:00:00:08</th>\n",
       "      <th>...</th>\n",
       "      <th>20:19:00:00:03:22</th>\n",
       "      <th>20:19:00:00:00:58</th>\n",
       "      <th>20:19:00:00:00:34</th>\n",
       "      <th>20:19:00:00:01:08</th>\n",
       "      <th>20:19:00:00:00:62</th>\n",
       "      <th>20:19:00:00:00:30</th>\n",
       "      <th>20:19:00:00:01:96</th>\n",
       "      <th>20:19:00:00:01:34</th>\n",
       "      <th>20:19:00:00:01:41</th>\n",
       "      <th>20:19:00:00:00:24</th>\n",
       "    </tr>\n",
       "  </thead>\n",
       "  <tbody>\n",
       "    <tr>\n",
       "      <th>0</th>\n",
       "      <td>61.472</td>\n",
       "      <td>0</td>\n",
       "      <td>43.718277</td>\n",
       "      <td>10.421566</td>\n",
       "      <td>NaN</td>\n",
       "      <td>NaN</td>\n",
       "      <td>NaN</td>\n",
       "      <td>NaN</td>\n",
       "      <td>-37.0</td>\n",
       "      <td>NaN</td>\n",
       "      <td>...</td>\n",
       "      <td>NaN</td>\n",
       "      <td>-37.0</td>\n",
       "      <td>-86.0</td>\n",
       "      <td>NaN</td>\n",
       "      <td>NaN</td>\n",
       "      <td>NaN</td>\n",
       "      <td>NaN</td>\n",
       "      <td>NaN</td>\n",
       "      <td>-61.0</td>\n",
       "      <td>NaN</td>\n",
       "    </tr>\n",
       "    <tr>\n",
       "      <th>1</th>\n",
       "      <td>68.396</td>\n",
       "      <td>0</td>\n",
       "      <td>43.718301</td>\n",
       "      <td>10.421608</td>\n",
       "      <td>NaN</td>\n",
       "      <td>NaN</td>\n",
       "      <td>NaN</td>\n",
       "      <td>NaN</td>\n",
       "      <td>-48.0</td>\n",
       "      <td>-86.0</td>\n",
       "      <td>...</td>\n",
       "      <td>NaN</td>\n",
       "      <td>-45.0</td>\n",
       "      <td>-81.0</td>\n",
       "      <td>NaN</td>\n",
       "      <td>NaN</td>\n",
       "      <td>NaN</td>\n",
       "      <td>NaN</td>\n",
       "      <td>NaN</td>\n",
       "      <td>-79.0</td>\n",
       "      <td>NaN</td>\n",
       "    </tr>\n",
       "    <tr>\n",
       "      <th>2</th>\n",
       "      <td>72.410</td>\n",
       "      <td>1</td>\n",
       "      <td>43.718326</td>\n",
       "      <td>10.421649</td>\n",
       "      <td>NaN</td>\n",
       "      <td>NaN</td>\n",
       "      <td>NaN</td>\n",
       "      <td>NaN</td>\n",
       "      <td>-66.0</td>\n",
       "      <td>-66.0</td>\n",
       "      <td>...</td>\n",
       "      <td>NaN</td>\n",
       "      <td>-53.0</td>\n",
       "      <td>-78.0</td>\n",
       "      <td>NaN</td>\n",
       "      <td>NaN</td>\n",
       "      <td>NaN</td>\n",
       "      <td>-92.0</td>\n",
       "      <td>NaN</td>\n",
       "      <td>NaN</td>\n",
       "      <td>NaN</td>\n",
       "    </tr>\n",
       "    <tr>\n",
       "      <th>3</th>\n",
       "      <td>76.387</td>\n",
       "      <td>1</td>\n",
       "      <td>43.718350</td>\n",
       "      <td>10.421691</td>\n",
       "      <td>NaN</td>\n",
       "      <td>NaN</td>\n",
       "      <td>NaN</td>\n",
       "      <td>NaN</td>\n",
       "      <td>-68.0</td>\n",
       "      <td>-62.0</td>\n",
       "      <td>...</td>\n",
       "      <td>NaN</td>\n",
       "      <td>-64.0</td>\n",
       "      <td>-72.0</td>\n",
       "      <td>NaN</td>\n",
       "      <td>NaN</td>\n",
       "      <td>NaN</td>\n",
       "      <td>NaN</td>\n",
       "      <td>NaN</td>\n",
       "      <td>NaN</td>\n",
       "      <td>NaN</td>\n",
       "    </tr>\n",
       "    <tr>\n",
       "      <th>4</th>\n",
       "      <td>80.398</td>\n",
       "      <td>1</td>\n",
       "      <td>43.718375</td>\n",
       "      <td>10.421733</td>\n",
       "      <td>NaN</td>\n",
       "      <td>NaN</td>\n",
       "      <td>NaN</td>\n",
       "      <td>NaN</td>\n",
       "      <td>-70.0</td>\n",
       "      <td>NaN</td>\n",
       "      <td>...</td>\n",
       "      <td>NaN</td>\n",
       "      <td>-65.0</td>\n",
       "      <td>-50.0</td>\n",
       "      <td>NaN</td>\n",
       "      <td>NaN</td>\n",
       "      <td>NaN</td>\n",
       "      <td>NaN</td>\n",
       "      <td>NaN</td>\n",
       "      <td>NaN</td>\n",
       "      <td>NaN</td>\n",
       "    </tr>\n",
       "  </tbody>\n",
       "</table>\n",
       "<p>5 rows × 231 columns</p>\n",
       "</div>"
      ],
      "text/plain": [
       "   timestamp  region   latitude  longitude  20:19:00:00:03:21  \\\n",
       "0     61.472       0  43.718277  10.421566                NaN   \n",
       "1     68.396       0  43.718301  10.421608                NaN   \n",
       "2     72.410       1  43.718326  10.421649                NaN   \n",
       "3     76.387       1  43.718350  10.421691                NaN   \n",
       "4     80.398       1  43.718375  10.421733                NaN   \n",
       "\n",
       "   20:19:00:00:02:81  20:19:00:00:01:43  20:19:00:00:03:23  20:19:00:00:00:98  \\\n",
       "0                NaN                NaN                NaN              -37.0   \n",
       "1                NaN                NaN                NaN              -48.0   \n",
       "2                NaN                NaN                NaN              -66.0   \n",
       "3                NaN                NaN                NaN              -68.0   \n",
       "4                NaN                NaN                NaN              -70.0   \n",
       "\n",
       "   20:19:00:00:00:08  ...  20:19:00:00:03:22  20:19:00:00:00:58  \\\n",
       "0                NaN  ...                NaN              -37.0   \n",
       "1              -86.0  ...                NaN              -45.0   \n",
       "2              -66.0  ...                NaN              -53.0   \n",
       "3              -62.0  ...                NaN              -64.0   \n",
       "4                NaN  ...                NaN              -65.0   \n",
       "\n",
       "   20:19:00:00:00:34  20:19:00:00:01:08  20:19:00:00:00:62  20:19:00:00:00:30  \\\n",
       "0              -86.0                NaN                NaN                NaN   \n",
       "1              -81.0                NaN                NaN                NaN   \n",
       "2              -78.0                NaN                NaN                NaN   \n",
       "3              -72.0                NaN                NaN                NaN   \n",
       "4              -50.0                NaN                NaN                NaN   \n",
       "\n",
       "   20:19:00:00:01:96  20:19:00:00:01:34  20:19:00:00:01:41  20:19:00:00:00:24  \n",
       "0                NaN                NaN              -61.0                NaN  \n",
       "1                NaN                NaN              -79.0                NaN  \n",
       "2              -92.0                NaN                NaN                NaN  \n",
       "3                NaN                NaN                NaN                NaN  \n",
       "4                NaN                NaN                NaN                NaN  \n",
       "\n",
       "[5 rows x 231 columns]"
      ]
     },
     "execution_count": 1,
     "metadata": {},
     "output_type": "execute_result"
    }
   ],
   "source": [
    "import pandas as pd\n",
    "\n",
    "df_data = pd.read_csv('trace.csv')\n",
    "df_data.head()"
   ]
  },
  {
   "cell_type": "markdown",
   "id": "93a2a46f-11a8-487a-9fe1-3a760905d288",
   "metadata": {
    "tags": []
   },
   "source": [
    "# 데이터 분석"
   ]
  },
  {
   "cell_type": "code",
   "execution_count": 2,
   "id": "0ea92801-84ed-4923-b588-efdab3d69fdd",
   "metadata": {},
   "outputs": [
    {
     "data": {
      "text/html": [
       "<div>\n",
       "<style scoped>\n",
       "    .dataframe tbody tr th:only-of-type {\n",
       "        vertical-align: middle;\n",
       "    }\n",
       "\n",
       "    .dataframe tbody tr th {\n",
       "        vertical-align: top;\n",
       "    }\n",
       "\n",
       "    .dataframe thead th {\n",
       "        text-align: right;\n",
       "    }\n",
       "</style>\n",
       "<table border=\"1\" class=\"dataframe\">\n",
       "  <thead>\n",
       "    <tr style=\"text-align: right;\">\n",
       "      <th></th>\n",
       "      <th>timestamp</th>\n",
       "      <th>region</th>\n",
       "      <th>latitude</th>\n",
       "      <th>longitude</th>\n",
       "      <th>20:19:00:00:03:21</th>\n",
       "      <th>20:19:00:00:02:81</th>\n",
       "      <th>20:19:00:00:01:43</th>\n",
       "      <th>20:19:00:00:03:23</th>\n",
       "      <th>20:19:00:00:00:98</th>\n",
       "      <th>20:19:00:00:00:08</th>\n",
       "      <th>...</th>\n",
       "      <th>20:19:00:00:03:22</th>\n",
       "      <th>20:19:00:00:00:58</th>\n",
       "      <th>20:19:00:00:00:34</th>\n",
       "      <th>20:19:00:00:01:08</th>\n",
       "      <th>20:19:00:00:00:62</th>\n",
       "      <th>20:19:00:00:00:30</th>\n",
       "      <th>20:19:00:00:01:96</th>\n",
       "      <th>20:19:00:00:01:34</th>\n",
       "      <th>20:19:00:00:01:41</th>\n",
       "      <th>20:19:00:00:00:24</th>\n",
       "    </tr>\n",
       "  </thead>\n",
       "  <tbody>\n",
       "    <tr>\n",
       "      <th>count</th>\n",
       "      <td>103.000000</td>\n",
       "      <td>103.000000</td>\n",
       "      <td>103.000000</td>\n",
       "      <td>103.000000</td>\n",
       "      <td>3.000000</td>\n",
       "      <td>4.000000</td>\n",
       "      <td>19.000000</td>\n",
       "      <td>5.000000</td>\n",
       "      <td>43.000000</td>\n",
       "      <td>71.000000</td>\n",
       "      <td>...</td>\n",
       "      <td>3.000000</td>\n",
       "      <td>41.000000</td>\n",
       "      <td>99.000000</td>\n",
       "      <td>3.000000</td>\n",
       "      <td>13.000000</td>\n",
       "      <td>8.00000</td>\n",
       "      <td>1.0</td>\n",
       "      <td>11.000000</td>\n",
       "      <td>28.000000</td>\n",
       "      <td>4.000000</td>\n",
       "    </tr>\n",
       "    <tr>\n",
       "      <th>mean</th>\n",
       "      <td>126.582553</td>\n",
       "      <td>2.000000</td>\n",
       "      <td>43.718411</td>\n",
       "      <td>10.421796</td>\n",
       "      <td>-84.666667</td>\n",
       "      <td>-83.250000</td>\n",
       "      <td>-78.421053</td>\n",
       "      <td>-77.000000</td>\n",
       "      <td>-65.023256</td>\n",
       "      <td>-77.394366</td>\n",
       "      <td>...</td>\n",
       "      <td>-84.000000</td>\n",
       "      <td>-59.878049</td>\n",
       "      <td>-60.555556</td>\n",
       "      <td>-80.000000</td>\n",
       "      <td>-85.307692</td>\n",
       "      <td>-85.62500</td>\n",
       "      <td>-92.0</td>\n",
       "      <td>-84.181818</td>\n",
       "      <td>-80.642857</td>\n",
       "      <td>-83.000000</td>\n",
       "    </tr>\n",
       "    <tr>\n",
       "      <th>std</th>\n",
       "      <td>43.881492</td>\n",
       "      <td>1.428011</td>\n",
       "      <td>0.000092</td>\n",
       "      <td>0.000158</td>\n",
       "      <td>0.577350</td>\n",
       "      <td>1.707825</td>\n",
       "      <td>14.496420</td>\n",
       "      <td>8.336666</td>\n",
       "      <td>13.783165</td>\n",
       "      <td>5.750724</td>\n",
       "      <td>...</td>\n",
       "      <td>1.732051</td>\n",
       "      <td>14.202456</td>\n",
       "      <td>13.911691</td>\n",
       "      <td>9.643651</td>\n",
       "      <td>4.479297</td>\n",
       "      <td>2.66927</td>\n",
       "      <td>NaN</td>\n",
       "      <td>2.400757</td>\n",
       "      <td>9.322272</td>\n",
       "      <td>10.230673</td>\n",
       "    </tr>\n",
       "    <tr>\n",
       "      <th>min</th>\n",
       "      <td>59.810000</td>\n",
       "      <td>0.000000</td>\n",
       "      <td>43.718253</td>\n",
       "      <td>10.421524</td>\n",
       "      <td>-85.000000</td>\n",
       "      <td>-85.000000</td>\n",
       "      <td>-92.000000</td>\n",
       "      <td>-91.000000</td>\n",
       "      <td>-87.000000</td>\n",
       "      <td>-89.000000</td>\n",
       "      <td>...</td>\n",
       "      <td>-85.000000</td>\n",
       "      <td>-91.000000</td>\n",
       "      <td>-88.000000</td>\n",
       "      <td>-87.000000</td>\n",
       "      <td>-94.000000</td>\n",
       "      <td>-89.00000</td>\n",
       "      <td>-92.0</td>\n",
       "      <td>-88.000000</td>\n",
       "      <td>-92.000000</td>\n",
       "      <td>-91.000000</td>\n",
       "    </tr>\n",
       "    <tr>\n",
       "      <th>25%</th>\n",
       "      <td>86.811000</td>\n",
       "      <td>1.000000</td>\n",
       "      <td>43.718332</td>\n",
       "      <td>10.421660</td>\n",
       "      <td>-85.000000</td>\n",
       "      <td>-84.250000</td>\n",
       "      <td>-89.000000</td>\n",
       "      <td>-78.000000</td>\n",
       "      <td>-74.000000</td>\n",
       "      <td>-81.500000</td>\n",
       "      <td>...</td>\n",
       "      <td>-85.000000</td>\n",
       "      <td>-68.000000</td>\n",
       "      <td>-71.500000</td>\n",
       "      <td>-85.500000</td>\n",
       "      <td>-89.000000</td>\n",
       "      <td>-88.00000</td>\n",
       "      <td>-92.0</td>\n",
       "      <td>-86.000000</td>\n",
       "      <td>-87.250000</td>\n",
       "      <td>-88.000000</td>\n",
       "    </tr>\n",
       "    <tr>\n",
       "      <th>50%</th>\n",
       "      <td>113.787000</td>\n",
       "      <td>2.000000</td>\n",
       "      <td>43.718411</td>\n",
       "      <td>10.421796</td>\n",
       "      <td>-85.000000</td>\n",
       "      <td>-83.500000</td>\n",
       "      <td>-86.000000</td>\n",
       "      <td>-73.000000</td>\n",
       "      <td>-67.000000</td>\n",
       "      <td>-77.000000</td>\n",
       "      <td>...</td>\n",
       "      <td>-85.000000</td>\n",
       "      <td>-63.000000</td>\n",
       "      <td>-62.000000</td>\n",
       "      <td>-84.000000</td>\n",
       "      <td>-85.000000</td>\n",
       "      <td>-85.50000</td>\n",
       "      <td>-92.0</td>\n",
       "      <td>-84.000000</td>\n",
       "      <td>-82.500000</td>\n",
       "      <td>-86.500000</td>\n",
       "    </tr>\n",
       "    <tr>\n",
       "      <th>75%</th>\n",
       "      <td>166.800000</td>\n",
       "      <td>3.000000</td>\n",
       "      <td>43.718490</td>\n",
       "      <td>10.421931</td>\n",
       "      <td>-84.500000</td>\n",
       "      <td>-82.500000</td>\n",
       "      <td>-68.000000</td>\n",
       "      <td>-73.000000</td>\n",
       "      <td>-59.000000</td>\n",
       "      <td>-74.500000</td>\n",
       "      <td>...</td>\n",
       "      <td>-83.500000</td>\n",
       "      <td>-51.000000</td>\n",
       "      <td>-48.000000</td>\n",
       "      <td>-76.500000</td>\n",
       "      <td>-83.000000</td>\n",
       "      <td>-83.75000</td>\n",
       "      <td>-92.0</td>\n",
       "      <td>-82.500000</td>\n",
       "      <td>-76.500000</td>\n",
       "      <td>-81.500000</td>\n",
       "    </tr>\n",
       "    <tr>\n",
       "      <th>max</th>\n",
       "      <td>205.701000</td>\n",
       "      <td>4.000000</td>\n",
       "      <td>43.718569</td>\n",
       "      <td>10.422067</td>\n",
       "      <td>-84.000000</td>\n",
       "      <td>-81.000000</td>\n",
       "      <td>-54.000000</td>\n",
       "      <td>-70.000000</td>\n",
       "      <td>-35.000000</td>\n",
       "      <td>-62.000000</td>\n",
       "      <td>...</td>\n",
       "      <td>-82.000000</td>\n",
       "      <td>-32.000000</td>\n",
       "      <td>-35.000000</td>\n",
       "      <td>-69.000000</td>\n",
       "      <td>-79.000000</td>\n",
       "      <td>-82.00000</td>\n",
       "      <td>-92.0</td>\n",
       "      <td>-80.000000</td>\n",
       "      <td>-60.000000</td>\n",
       "      <td>-68.000000</td>\n",
       "    </tr>\n",
       "  </tbody>\n",
       "</table>\n",
       "<p>8 rows × 231 columns</p>\n",
       "</div>"
      ],
      "text/plain": [
       "        timestamp      region    latitude   longitude  20:19:00:00:03:21  \\\n",
       "count  103.000000  103.000000  103.000000  103.000000           3.000000   \n",
       "mean   126.582553    2.000000   43.718411   10.421796         -84.666667   \n",
       "std     43.881492    1.428011    0.000092    0.000158           0.577350   \n",
       "min     59.810000    0.000000   43.718253   10.421524         -85.000000   \n",
       "25%     86.811000    1.000000   43.718332   10.421660         -85.000000   \n",
       "50%    113.787000    2.000000   43.718411   10.421796         -85.000000   \n",
       "75%    166.800000    3.000000   43.718490   10.421931         -84.500000   \n",
       "max    205.701000    4.000000   43.718569   10.422067         -84.000000   \n",
       "\n",
       "       20:19:00:00:02:81  20:19:00:00:01:43  20:19:00:00:03:23  \\\n",
       "count           4.000000          19.000000           5.000000   \n",
       "mean          -83.250000         -78.421053         -77.000000   \n",
       "std             1.707825          14.496420           8.336666   \n",
       "min           -85.000000         -92.000000         -91.000000   \n",
       "25%           -84.250000         -89.000000         -78.000000   \n",
       "50%           -83.500000         -86.000000         -73.000000   \n",
       "75%           -82.500000         -68.000000         -73.000000   \n",
       "max           -81.000000         -54.000000         -70.000000   \n",
       "\n",
       "       20:19:00:00:00:98  20:19:00:00:00:08  ...  20:19:00:00:03:22  \\\n",
       "count          43.000000          71.000000  ...           3.000000   \n",
       "mean          -65.023256         -77.394366  ...         -84.000000   \n",
       "std            13.783165           5.750724  ...           1.732051   \n",
       "min           -87.000000         -89.000000  ...         -85.000000   \n",
       "25%           -74.000000         -81.500000  ...         -85.000000   \n",
       "50%           -67.000000         -77.000000  ...         -85.000000   \n",
       "75%           -59.000000         -74.500000  ...         -83.500000   \n",
       "max           -35.000000         -62.000000  ...         -82.000000   \n",
       "\n",
       "       20:19:00:00:00:58  20:19:00:00:00:34  20:19:00:00:01:08  \\\n",
       "count          41.000000          99.000000           3.000000   \n",
       "mean          -59.878049         -60.555556         -80.000000   \n",
       "std            14.202456          13.911691           9.643651   \n",
       "min           -91.000000         -88.000000         -87.000000   \n",
       "25%           -68.000000         -71.500000         -85.500000   \n",
       "50%           -63.000000         -62.000000         -84.000000   \n",
       "75%           -51.000000         -48.000000         -76.500000   \n",
       "max           -32.000000         -35.000000         -69.000000   \n",
       "\n",
       "       20:19:00:00:00:62  20:19:00:00:00:30  20:19:00:00:01:96  \\\n",
       "count          13.000000            8.00000                1.0   \n",
       "mean          -85.307692          -85.62500              -92.0   \n",
       "std             4.479297            2.66927                NaN   \n",
       "min           -94.000000          -89.00000              -92.0   \n",
       "25%           -89.000000          -88.00000              -92.0   \n",
       "50%           -85.000000          -85.50000              -92.0   \n",
       "75%           -83.000000          -83.75000              -92.0   \n",
       "max           -79.000000          -82.00000              -92.0   \n",
       "\n",
       "       20:19:00:00:01:34  20:19:00:00:01:41  20:19:00:00:00:24  \n",
       "count          11.000000          28.000000           4.000000  \n",
       "mean          -84.181818         -80.642857         -83.000000  \n",
       "std             2.400757           9.322272          10.230673  \n",
       "min           -88.000000         -92.000000         -91.000000  \n",
       "25%           -86.000000         -87.250000         -88.000000  \n",
       "50%           -84.000000         -82.500000         -86.500000  \n",
       "75%           -82.500000         -76.500000         -81.500000  \n",
       "max           -80.000000         -60.000000         -68.000000  \n",
       "\n",
       "[8 rows x 231 columns]"
      ]
     },
     "execution_count": 2,
     "metadata": {},
     "output_type": "execute_result"
    }
   ],
   "source": [
    "df_data.describe()"
   ]
  },
  {
   "cell_type": "markdown",
   "id": "546b654f-b6f0-4f25-a57f-1cbf81a7a80f",
   "metadata": {},
   "source": [
    "## 첫번째 AP에 대한 데이터 현황 확인"
   ]
  },
  {
   "cell_type": "code",
   "execution_count": 3,
   "id": "b92e7900-3cfa-4724-ab6d-29fe958f1a9f",
   "metadata": {},
   "outputs": [
    {
     "data": {
      "text/plain": [
       "array([ nan,  nan,  nan,  nan,  nan,  nan,  nan,  nan,  nan,  nan,  nan,\n",
       "        nan,  nan,  nan,  nan,  nan,  nan,  nan,  nan,  nan,  nan,  nan,\n",
       "        nan,  nan,  nan,  nan,  nan,  nan,  nan,  nan,  nan,  nan,  nan,\n",
       "        nan,  nan,  nan,  nan,  nan,  nan, -85.,  nan,  nan,  nan,  nan,\n",
       "        nan,  nan,  nan,  nan,  nan,  nan,  nan,  nan,  nan,  nan,  nan,\n",
       "        nan,  nan,  nan,  nan,  nan,  nan,  nan,  nan,  nan,  nan,  nan,\n",
       "        nan, -85.,  nan,  nan,  nan,  nan,  nan,  nan,  nan,  nan,  nan,\n",
       "        nan,  nan,  nan,  nan,  nan,  nan,  nan,  nan,  nan,  nan,  nan,\n",
       "        nan,  nan,  nan,  nan, -84.,  nan,  nan,  nan,  nan,  nan,  nan,\n",
       "        nan,  nan,  nan,  nan])"
      ]
     },
     "execution_count": 3,
     "metadata": {},
     "output_type": "execute_result"
    }
   ],
   "source": [
    "import numpy as np\n",
    "ips_data = np.array(df_data)\n",
    "ips_data[:,4]"
   ]
  },
  {
   "cell_type": "markdown",
   "id": "0238ada8-987b-4381-99b7-be88871aa40e",
   "metadata": {},
   "source": [
    "## nan이 아닌 값만 추출하기"
   ]
  },
  {
   "cell_type": "code",
   "execution_count": 4,
   "id": "9f2f5de7-15d0-4718-abc6-3f8139e2d27c",
   "metadata": {},
   "outputs": [
    {
     "name": "stdout",
     "output_type": "stream",
     "text": [
      "[-85.0, -85.0, -84.0]\n"
     ]
    }
   ],
   "source": [
    "import math\n",
    "mac1 = [rssi for rssi in ips_data[:,4] if math.isnan(rssi) is False ]\n",
    "print(mac1)"
   ]
  },
  {
   "cell_type": "code",
   "execution_count": 5,
   "id": "6946936c-791f-4ee8-84e0-7bec3121a79a",
   "metadata": {},
   "outputs": [
    {
     "data": {
      "text/plain": [
       "{'whiskers': [<matplotlib.lines.Line2D at 0x7f70c54b74f0>,\n",
       "  <matplotlib.lines.Line2D at 0x7f70c54b77c0>],\n",
       " 'caps': [<matplotlib.lines.Line2D at 0x7f70c54b7b50>,\n",
       "  <matplotlib.lines.Line2D at 0x7f70c54b7d60>],\n",
       " 'boxes': [<matplotlib.lines.Line2D at 0x7f70c54b7220>],\n",
       " 'medians': [<matplotlib.lines.Line2D at 0x7f70c54ce070>],\n",
       " 'fliers': [<matplotlib.lines.Line2D at 0x7f70c54ce340>],\n",
       " 'means': []}"
      ]
     },
     "execution_count": 5,
     "metadata": {},
     "output_type": "execute_result"
    },
    {
     "data": {
      "image/png": "[encoded data removed]",
      "text/plain": [
       "<Figure size 432x288 with 1 Axes>"
      ]
     },
     "metadata": {
      "needs_background": "light"
     },
     "output_type": "display_data"
    }
   ],
   "source": [
    "import matplotlib.pyplot as plt\n",
    "plt.boxplot(mac1)"
   ]
  },
  {
   "cell_type": "code",
   "execution_count": 6,
   "id": "cfff90a0-b3f0-4dc5-89c5-1bc73fe6f11e",
   "metadata": {},
   "outputs": [
    {
     "data": {
      "text/plain": [
       "Index(['timestamp', 'region', 'latitude', 'longitude', '20:19:00:00:03:21',\n",
       "       '20:19:00:00:02:81', '20:19:00:00:01:43', '20:19:00:00:03:23',\n",
       "       '20:19:00:00:00:98', '20:19:00:00:00:08',\n",
       "       ...\n",
       "       '20:19:00:00:03:22', '20:19:00:00:00:58', '20:19:00:00:00:34',\n",
       "       '20:19:00:00:01:08', '20:19:00:00:00:62', '20:19:00:00:00:30',\n",
       "       '20:19:00:00:01:96', '20:19:00:00:01:34', '20:19:00:00:01:41',\n",
       "       '20:19:00:00:00:24'],\n",
       "      dtype='object', length=231)"
      ]
     },
     "execution_count": 6,
     "metadata": {},
     "output_type": "execute_result"
    }
   ],
   "source": [
    "# AP의 mac 주소 확인용\n",
    "df_data.columns"
   ]
  },
  {
   "cell_type": "markdown",
   "id": "4e21bc4c-184b-45f7-a91d-c2a28087b572",
   "metadata": {},
   "source": [
    "# AP별로 wifi rssi 신호 특성을 확인"
   ]
  },
  {
   "cell_type": "code",
   "execution_count": 7,
   "id": "4ec16fdb-c379-4867-a904-bc708f2892f1",
   "metadata": {},
   "outputs": [
    {
     "name": "stdout",
     "output_type": "stream",
     "text": [
      "region/0.0, 20:19:00:00:03:21/nan, 20:19:00:00:00:98/-37.0\n"
     ]
    }
   ],
   "source": [
    "row = ips_data[0]\n",
    "print(f\"{df_data.columns[1]}/{row[1]}, {df_data.columns[4]}/{row[4]}, {df_data.columns[8]}/{row[8]}\")"
   ]
  },
  {
   "cell_type": "code",
   "execution_count": 8,
   "id": "7a28fcf1-b82f-46af-b8b9-fbfde172be7f",
   "metadata": {},
   "outputs": [],
   "source": [
    "wifi_ap_rssis_dict = {}\n",
    "for row in ips_data:\n",
    "    for idx, rssi in enumerate(row[4:]):\n",
    "        mac = df_data.columns[4+idx]\n",
    "        if mac not in wifi_ap_rssis_dict.keys():\n",
    "            wifi_ap_rssis_dict[mac] = {'values':[]}\n",
    "        if math.isnan(rssi) is False:\n",
    "            wifi_ap_rssis_dict[mac]['values'].append(rssi)\n",
    "\n",
    "# wifi_ap_rssis_dict = { mac: {\"values\":[]}}\n",
    "# k is mac\n",
    "# v is {'values'}\n",
    "           \n",
    "for k in wifi_ap_rssis_dict.keys():\n",
    "    wifi_ap_rssis_dict[k]['avg'] = sum(wifi_ap_rssis_dict[k]['values'])/len(wifi_ap_rssis_dict[k]['values'])\n",
    "    wifi_ap_rssis_dict[k]['min'] = min(wifi_ap_rssis_dict[k]['values'])\n",
    "    \n"
   ]
  },
  {
   "cell_type": "code",
   "execution_count": 9,
   "id": "b78060ac-53ea-44db-86a2-c3edc24bc28d",
   "metadata": {},
   "outputs": [
    {
     "data": {
      "text/plain": [
       "{'values': [-85.0, -85.0, -84.0], 'avg': -84.66666666666667, 'min': -85.0}"
      ]
     },
     "execution_count": 9,
     "metadata": {},
     "output_type": "execute_result"
    }
   ],
   "source": [
    "list(wifi_ap_rssis_dict.values())[0]"
   ]
  },
  {
   "cell_type": "code",
   "execution_count": 10,
   "id": "72cfdbd8-ceee-475b-9a00-da378bfd1505",
   "metadata": {},
   "outputs": [
    {
     "data": {
      "text/plain": [
       "227"
      ]
     },
     "execution_count": 10,
     "metadata": {},
     "output_type": "execute_result"
    }
   ],
   "source": [
    "len(wifi_ap_rssis_dict)"
   ]
  },
  {
   "cell_type": "code",
   "execution_count": 11,
   "id": "338f4dc8-c40e-4083-a6fa-bcea3d7e4090",
   "metadata": {},
   "outputs": [
    {
     "name": "stdout",
     "output_type": "stream",
     "text": [
      "20:19:00:00:03:21 {'values': [-85.0, -85.0, -84.0], 'avg': -84.66666666666667, 'min': -85.0}\n",
      "20:19:00:00:02:81 {'values': [-81.0, -83.0, -84.0, -85.0], 'avg': -83.25, 'min': -85.0}\n",
      "20:19:00:00:01:43 {'values': [-90.0, -54.0, -64.0, -84.0, -92.0, -55.0, -76.0, -90.0, -89.0, -88.0, -89.0, -89.0, -88.0, -54.0, -85.0, -90.0, -86.0, -55.0, -72.0], 'avg': -78.42105263157895, 'min': -92.0}\n",
      "20:19:00:00:03:23 {'values': [-73.0, -73.0, -70.0, -91.0, -78.0], 'avg': -77.0, 'min': -91.0}\n",
      "20:19:00:00:00:98 {'values': [-37.0, -48.0, -66.0, -68.0, -70.0, -86.0, -74.0, -74.0, -68.0, -64.0, -35.0, -50.0, -62.0, -71.0, -75.0, -85.0, -78.0, -77.0, -70.0, -60.0, -53.0, -38.0, -39.0, -59.0, -59.0, -62.0, -70.0, -81.0, -83.0, -87.0, -79.0, -79.0, -68.0, -67.0, -67.0, -37.0, -57.0, -61.0, -73.0, -73.0, -64.0, -67.0, -55.0], 'avg': -65.02325581395348, 'min': -87.0}\n"
     ]
    },
    {
     "data": {
      "image/png": "[encoded data removed]",
      "text/plain": [
       "<Figure size 1440x288 with 5 Axes>"
      ]
     },
     "metadata": {
      "needs_background": "light"
     },
     "output_type": "display_data"
    }
   ],
   "source": [
    "stop_cnt = 5\n",
    "idx = 1\n",
    "plt.figure(figsize=(20,4))\n",
    "\n",
    "for ap, rssis in wifi_ap_rssis_dict.items():\n",
    "    print(ap, rssis)\n",
    "\n",
    "    plt.subplot(1,stop_cnt,idx)\n",
    "    plt.boxplot(rssis['values'])\n",
    "    \n",
    "    idx += 1\n",
    "    if idx > stop_cnt:\n",
    "        break\n"
   ]
  },
  {
   "cell_type": "markdown",
   "id": "d832f287-e6fa-46d5-816d-fe78a7f1b4ca",
   "metadata": {},
   "source": [
    "# nan 일 경우 해당 AP의 평균 rssi 값으로 대체"
   ]
  },
  {
   "cell_type": "code",
   "execution_count": 12,
   "id": "d4573851-0b3e-4f06-a7e7-ffe94b31b9d3",
   "metadata": {},
   "outputs": [],
   "source": [
    "for row in ips_data:\n",
    "    for idx in range(len(row[4:])):\n",
    "        col = 4+idx\n",
    "        mac = df_data.columns[col]\n",
    "        rssi = row[col]\n",
    "        if math.isnan(rssi) == True:\n",
    "            row[col] = wifi_ap_rssis_dict[mac]['avg']\n",
    "        "
   ]
  },
  {
   "cell_type": "markdown",
   "id": "0a258e66-96ac-4edc-bf01-b656fd1ae5c6",
   "metadata": {},
   "source": [
    "# nan 일 경우 해당 AP의 최소 rssi 값으로 대체"
   ]
  },
  {
   "cell_type": "code",
   "execution_count": 13,
   "id": "c02ed59b-c5d7-4add-8891-95e2cd245727",
   "metadata": {},
   "outputs": [],
   "source": [
    "for row in ips_data:\n",
    "    for idx in range(len(row[4:])):\n",
    "        col = 4+idx\n",
    "        mac = df_data.columns[col]\n",
    "        rssi = row[col]\n",
    "        if math.isnan(rssi) == True:\n",
    "            row[col] = wifi_ap_rssis_dict[mac]['min']"
   ]
  },
  {
   "cell_type": "code",
   "execution_count": 14,
   "id": "7d6aa7bc-728f-45e9-9a17-75370bd8296f",
   "metadata": {},
   "outputs": [
    {
     "name": "stdout",
     "output_type": "stream",
     "text": [
      "[ 61.472        0.          43.71827713  10.42156589 -84.66666667\n",
      " -83.25       -78.42105263 -77.         -37.         -77.3943662\n",
      " -84.72727273 -89.35294118 -88.         -76.5        -32.\n",
      " -66.8        -87.         -63.         -81.         -36.\n",
      " -76.2        -94.         -63.         -86.         -93.\n",
      " -78.         -76.04545455 -87.         -83.25       -33.\n",
      " -85.4        -79.         -76.63492063 -85.08333333 -84.5\n",
      " -87.2        -78.         -79.         -85.         -75.6875\n",
      " -86.88888889 -78.21428571 -75.46666667 -76.1025641  -74.75\n",
      " -87.57142857 -87.         -78.         -79.         -92.\n",
      " -60.01020408 -80.73076923 -60.08080808 -78.         -76.625\n",
      " -69.         -60.         -60.74257426 -85.08333333 -86.\n",
      " -87.75       -77.10714286 -83.33333333 -62.         -84.33333333\n",
      " -84.94736842 -77.61764706 -81.         -76.35135135 -62.5\n",
      " -77.         -88.8        -89.         -85.18181818 -87.25\n",
      " -87.         -84.8        -81.         -86.         -85.\n",
      " -82.         -77.42857143 -80.94230769 -85.58333333 -85.\n",
      " -84.2        -81.         -79.         -63.         -89.\n",
      " -81.         -85.25       -73.45       -87.         -86.25\n",
      " -84.5        -82.83333333 -76.25       -86.75       -84.33333333\n",
      " -83.         -73.85       -75.96153846 -73.92307692 -88.5\n",
      " -85.42857143 -75.5        -84.9        -83.33333333 -60.58415842\n",
      " -75.29411765 -86.28571429 -82.         -80.         -75.4\n",
      " -79.93333333 -83.         -84.33333333 -89.         -79.57142857\n",
      " -84.8        -84.57142857 -75.71428571 -84.17391304 -87.\n",
      " -59.96969697 -73.44444444 -87.5        -86.625      -86.\n",
      " -78.95454545 -91.         -86.8        -78.73684211 -82.66666667\n",
      " -76.66666667 -76.5        -74.83333333 -86.66666667 -82.16666667\n",
      " -78.16666667 -91.         -90.         -78.         -86.66666667\n",
      " -86.5        -68.2        -90.         -86.625      -78.29411765\n",
      " -86.625      -89.         -79.         -88.         -75.25\n",
      " -73.         -80.         -79.64       -88.66666667 -74.96\n",
      " -83.5        -63.         -78.25       -79.37037037 -80.77777778\n",
      " -77.23880597 -73.5        -81.         -75.125      -86.33333333\n",
      " -74.31818182 -87.         -84.66666667 -78.33333333 -87.33333333\n",
      " -63.25       -83.625      -82.         -87.         -85.45454545\n",
      " -60.         -84.         -34.         -34.         -61.\n",
      " -84.4        -79.         -79.5        -60.         -84.\n",
      " -60.35       -98.         -80.96666667 -84.         -81.\n",
      " -36.         -90.5        -86.         -88.         -88.\n",
      " -76.         -84.         -36.         -75.         -83.16666667\n",
      " -77.72222222 -79.         -89.16666667 -84.75       -86.\n",
      " -85.         -91.5        -89.         -82.         -76.5\n",
      " -89.         -89.         -85.         -83.5        -36.\n",
      " -88.33333333 -84.         -37.         -86.         -80.\n",
      " -85.30769231 -85.625      -92.         -84.18181818 -61.\n",
      " -83.        ]\n"
     ]
    }
   ],
   "source": [
    "print(ips_data[0])"
   ]
  },
  {
   "cell_type": "markdown",
   "id": "02441557-26eb-4e16-842a-c6b1e9db6ca4",
   "metadata": {},
   "source": [
    "# Classifier Model 을 위한 데이터 만들기"
   ]
  },
  {
   "cell_type": "markdown",
   "id": "b7066ca7-e7e7-4fe4-9461-c396690294b2",
   "metadata": {},
   "source": [
    "## STEP1. 입력데이터 포멧 맞추기"
   ]
  },
  {
   "cell_type": "code",
   "execution_count": 15,
   "id": "5c30f084-4328-4874-b9e1-52c84d56bd62",
   "metadata": {},
   "outputs": [
    {
     "data": {
      "text/plain": [
       "(103, 227)"
      ]
     },
     "execution_count": 15,
     "metadata": {},
     "output_type": "execute_result"
    }
   ],
   "source": [
    "# timestamp, region, latitude, longitude는 training 대상 feature에 서 제외\n",
    "ips_x = ips_data[:, 4:]\n",
    "ips_x.shape"
   ]
  },
  {
   "cell_type": "code",
   "execution_count": 16,
   "id": "4aad0d3c-339d-4db6-8a1f-e9f79f95ec65",
   "metadata": {},
   "outputs": [
    {
     "name": "stdout",
     "output_type": "stream",
     "text": [
      "[0 0 1 1 1 2 2 3 3 3 4 4 4 4 4 3 3 2 2 2 1 1 0 0 0 0 0 1 1 1 2 2 2 3 3 3 4\n",
      " 4 4 4 4 3 3 2 2 2 1 1 0 0 0 0 0 0 1 1 1 2 2 2 3 3 3 4 4 4 4 4 4 3 3 3 2 2\n",
      " 2 1 1 1 0 0 0 0 0 1 1 2 2 3 3 4 4 4 4 4 3 3 2 2 1 1 0 0 0]\n"
     ]
    }
   ],
   "source": [
    "# region을 class 로 활용하기 위해 두번째 열만으로 하나의 배열을 만듬.\n",
    "ips_y = ips_data[:, 1:2]\n",
    "ips_y = ips_y.reshape(-1)\n",
    "ips_y = ips_y.astype(np.int32)\n",
    "print(ips_y)"
   ]
  },
  {
   "cell_type": "markdown",
   "id": "e42ed716-7de2-44a5-81d2-2c1cc51d818f",
   "metadata": {},
   "source": [
    "## STEP2. Training & Test set 으로 나눠주기"
   ]
  },
  {
   "cell_type": "code",
   "execution_count": 17,
   "id": "28f0767d-10d8-4bfe-b207-0c62b7ba8bdf",
   "metadata": {},
   "outputs": [
    {
     "name": "stdout",
     "output_type": "stream",
     "text": [
      "x_train: (72, 227) y_train: (72,)\n",
      "x_test:  (31, 227) y_test:  (31,)\n"
     ]
    }
   ],
   "source": [
    "from sklearn import model_selection\n",
    "\n",
    "train_x, test_x, train_y, test_y = model_selection.train_test_split(ips_x, ips_y, test_size=0.3, shuffle=False)\n",
    "\n",
    "print(\"x_train:\", train_x.shape, \"y_train:\", train_y.shape)\n",
    "print(\"x_test: \", test_x.shape, \"y_test: \", test_y.shape)"
   ]
  },
  {
   "cell_type": "markdown",
   "id": "5ba36ebb-ef53-4a68-97be-3de978c331b4",
   "metadata": {},
   "source": [
    "## KNN"
   ]
  },
  {
   "cell_type": "code",
   "execution_count": 18,
   "id": "91ef1a29-3947-4908-8401-a3fff6481a91",
   "metadata": {},
   "outputs": [
    {
     "data": {
      "text/plain": [
       "KNeighborsClassifier()"
      ]
     },
     "execution_count": 18,
     "metadata": {},
     "output_type": "execute_result"
    }
   ],
   "source": [
    "from sklearn.neighbors import KNeighborsClassifier\n",
    "\n",
    "model = KNeighborsClassifier() # 모델 생성\n",
    "model.fit(train_x, train_y)    # 모델 학습"
   ]
  },
  {
   "cell_type": "code",
   "execution_count": 19,
   "id": "4e33c122-8570-43d5-89c1-4f18efb889d4",
   "metadata": {},
   "outputs": [
    {
     "data": {
      "text/plain": [
       "0.6129032258064516"
      ]
     },
     "execution_count": 19,
     "metadata": {},
     "output_type": "execute_result"
    }
   ],
   "source": [
    "model.score(test_x, test_y)"
   ]
  },
  {
   "cell_type": "code",
   "execution_count": 20,
   "id": "18893aa0-308a-46c1-b3d8-cf857f70644e",
   "metadata": {},
   "outputs": [
    {
     "name": "stdout",
     "output_type": "stream",
     "text": [
      "[00] actual=2, predicted=[2] - [ True]\n",
      "[01] actual=2, predicted=[2] - [ True]\n",
      "[02] actual=2, predicted=[3] - [False]\n",
      "[03] actual=1, predicted=[1] - [ True]\n",
      "[04] actual=1, predicted=[1] - [ True]\n",
      "[05] actual=1, predicted=[1] - [ True]\n",
      "[06] actual=0, predicted=[0] - [ True]\n",
      "[07] actual=0, predicted=[0] - [ True]\n",
      "[08] actual=0, predicted=[1] - [False]\n",
      "[09] actual=0, predicted=[0] - [ True]\n",
      "[10] actual=0, predicted=[0] - [ True]\n",
      "[11] actual=1, predicted=[0] - [False]\n",
      "[12] actual=1, predicted=[0] - [False]\n",
      "[13] actual=2, predicted=[2] - [ True]\n",
      "[14] actual=2, predicted=[3] - [False]\n",
      "[15] actual=3, predicted=[2] - [False]\n",
      "[16] actual=3, predicted=[2] - [False]\n",
      "[17] actual=4, predicted=[1] - [False]\n",
      "[18] actual=4, predicted=[3] - [False]\n",
      "[19] actual=4, predicted=[4] - [ True]\n",
      "[20] actual=4, predicted=[4] - [ True]\n",
      "[21] actual=4, predicted=[4] - [ True]\n",
      "[22] actual=3, predicted=[3] - [ True]\n",
      "[23] actual=3, predicted=[3] - [ True]\n",
      "[24] actual=2, predicted=[2] - [ True]\n",
      "[25] actual=2, predicted=[3] - [False]\n",
      "[26] actual=1, predicted=[3] - [False]\n",
      "[27] actual=1, predicted=[1] - [ True]\n",
      "[28] actual=0, predicted=[1] - [False]\n",
      "[29] actual=0, predicted=[0] - [ True]\n",
      "[30] actual=0, predicted=[0] - [ True]\n",
      "Accuracy: 0.6129032258064516 (19/31)\n"
     ]
    }
   ],
   "source": [
    "hit = 0\n",
    "total = 0\n",
    "results = []\n",
    "for idx in range(len(test_x)):\n",
    "    actual = test_y[idx]\n",
    "    predicted = model.predict(test_x[idx].reshape(1,-1))\n",
    "    total += 1\n",
    "    print(f\"[{idx:02d}] actual={actual}, predicted={predicted} - {actual==predicted}\")\n",
    "    if actual == predicted[0]:\n",
    "        results.append(True)\n",
    "        hit += 1\n",
    "    else:\n",
    "        results.append(False)\n",
    "\n",
    "print(f\"Accuracy: {hit/total} ({hit}/{total})\")"
   ]
  },
  {
   "cell_type": "code",
   "execution_count": 21,
   "id": "dc84a6ea-f373-4e48-9986-a05ccb37a0be",
   "metadata": {},
   "outputs": [],
   "source": [
    "colors = ['blue' if r == True else 'red' for r in results]"
   ]
  },
  {
   "cell_type": "markdown",
   "id": "7d0913a1-49e0-4b36-b6c3-19704bac5422",
   "metadata": {},
   "source": [
    "# 좌표"
   ]
  },
  {
   "cell_type": "code",
   "execution_count": 22,
   "id": "680394ac-87be-480b-a6da-3164ec3eee14",
   "metadata": {},
   "outputs": [],
   "source": [
    "latitudes = ips_data[72:, 2:3]\n",
    "latitudes = latitudes.reshape(-1)\n",
    "longitudes = ips_data[72:, 3:4]\n",
    "longitudes = longitudes.reshape(-1)"
   ]
  },
  {
   "cell_type": "code",
   "execution_count": 23,
   "id": "7f1abec6-1248-4e49-afbe-608b476c5f95",
   "metadata": {},
   "outputs": [
    {
     "data": {
      "image/png": "[encoded data removed]",
      "text/plain": [
       "<Figure size 432x288 with 1 Axes>"
      ]
     },
     "metadata": {
      "needs_background": "light"
     },
     "output_type": "display_data"
    }
   ],
   "source": [
    "import matplotlib.pyplot as plt\n",
    "plt.scatter(latitudes, longitudes, c=colors)\n",
    "plt.show()"
   ]
  },
  {
   "cell_type": "markdown",
   "id": "7b732615-5d3d-4714-b2e3-82b2abb3f728",
   "metadata": {
    "tags": []
   },
   "source": [
    "## SVM"
   ]
  },
  {
   "cell_type": "code",
   "execution_count": 24,
   "id": "e1a197d0-813f-4b47-8ee8-b12aa6a9a512",
   "metadata": {},
   "outputs": [
    {
     "data": {
      "text/plain": [
       "SVC()"
      ]
     },
     "execution_count": 24,
     "metadata": {},
     "output_type": "execute_result"
    }
   ],
   "source": [
    "from sklearn import svm\n",
    "\n",
    "model = svm.SVC() # 모델 생성\n",
    "model.fit(train_x, train_y)    # 모델 학습"
   ]
  },
  {
   "cell_type": "code",
   "execution_count": 25,
   "id": "b0d9f554-c401-4ac6-b9dd-d9c769808d3b",
   "metadata": {},
   "outputs": [
    {
     "data": {
      "text/plain": [
       "0.4838709677419355"
      ]
     },
     "execution_count": 25,
     "metadata": {},
     "output_type": "execute_result"
    }
   ],
   "source": [
    "model.score(test_x, test_y)"
   ]
  },
  {
   "cell_type": "code",
   "execution_count": 26,
   "id": "bc42f79d-a1b2-4d06-9778-8047f2cbd815",
   "metadata": {},
   "outputs": [],
   "source": [
    "def display(test_x, test_y, models):\n",
    "    hit = 0\n",
    "    total = 0\n",
    "    results = []\n",
    "    for idx in range(len(test_x)):\n",
    "        actual = test_y[idx]\n",
    "        predicted = model.predict(test_x[idx].reshape(1,-1))\n",
    "        total += 1\n",
    "        print(f\"[{idx:02d}] actual={actual}, predicted={predicted} - {actual==predicted}\")\n",
    "        if actual == predicted[0]:\n",
    "            results.append(True)\n",
    "            hit += 1\n",
    "        else:\n",
    "            results.append(False)\n",
    "\n",
    "    print(f\"Accuracy: {hit/total} ({hit}/{total})\")\n",
    "    \n",
    "    return results"
   ]
  },
  {
   "cell_type": "code",
   "execution_count": 27,
   "id": "cb74cdb7-e279-4bba-83d9-8d14bd3f74e2",
   "metadata": {},
   "outputs": [
    {
     "name": "stdout",
     "output_type": "stream",
     "text": [
      "[00] actual=2, predicted=[2] - [ True]\n",
      "[01] actual=2, predicted=[2] - [ True]\n",
      "[02] actual=2, predicted=[2] - [ True]\n",
      "[03] actual=1, predicted=[2] - [False]\n",
      "[04] actual=1, predicted=[2] - [False]\n",
      "[05] actual=1, predicted=[1] - [ True]\n",
      "[06] actual=0, predicted=[4] - [False]\n",
      "[07] actual=0, predicted=[4] - [False]\n",
      "[08] actual=0, predicted=[4] - [False]\n",
      "[09] actual=0, predicted=[0] - [ True]\n",
      "[10] actual=0, predicted=[0] - [ True]\n",
      "[11] actual=1, predicted=[4] - [False]\n",
      "[12] actual=1, predicted=[4] - [False]\n",
      "[13] actual=2, predicted=[2] - [ True]\n",
      "[14] actual=2, predicted=[2] - [ True]\n",
      "[15] actual=3, predicted=[2] - [False]\n",
      "[16] actual=3, predicted=[2] - [False]\n",
      "[17] actual=4, predicted=[3] - [False]\n",
      "[18] actual=4, predicted=[4] - [ True]\n",
      "[19] actual=4, predicted=[4] - [ True]\n",
      "[20] actual=4, predicted=[4] - [ True]\n",
      "[21] actual=4, predicted=[4] - [ True]\n",
      "[22] actual=3, predicted=[4] - [False]\n",
      "[23] actual=3, predicted=[3] - [ True]\n",
      "[24] actual=2, predicted=[2] - [ True]\n",
      "[25] actual=2, predicted=[2] - [ True]\n",
      "[26] actual=1, predicted=[2] - [False]\n",
      "[27] actual=1, predicted=[2] - [False]\n",
      "[28] actual=0, predicted=[4] - [False]\n",
      "[29] actual=0, predicted=[4] - [False]\n",
      "[30] actual=0, predicted=[4] - [False]\n",
      "Accuracy: 0.4838709677419355 (15/31)\n"
     ]
    }
   ],
   "source": [
    "results = display(test_x, test_y, model)\n",
    "colors = ['blue' if r == True else 'red' for r in results]"
   ]
  },
  {
   "cell_type": "code",
   "execution_count": 28,
   "id": "e8a3d578-0f94-4de4-8680-33a1d7138d6d",
   "metadata": {},
   "outputs": [
    {
     "data": {
      "image/png": "[encoded data removed]",
      "text/plain": [
       "<Figure size 432x288 with 1 Axes>"
      ]
     },
     "metadata": {
      "needs_background": "light"
     },
     "output_type": "display_data"
    }
   ],
   "source": [
    "import matplotlib.pyplot as plt\n",
    "plt.scatter(latitudes, longitudes, c=colors)\n",
    "plt.show()"
   ]
  },
  {
   "cell_type": "code",
   "execution_count": null,
   "id": "6e275fc0-7d01-4d68-a6b5-a60d263280cb",
   "metadata": {},
   "outputs": [],
   "source": []
  },
  {
   "cell_type": "markdown",
   "id": "88befbf6-e608-4eee-ba37-0e9affca2e04",
   "metadata": {
    "tags": []
   },
   "source": [
    "## GaussianProcessClassifier"
   ]
  },
  {
   "cell_type": "code",
   "execution_count": 29,
   "id": "0e3097e8-75a1-4e0d-99ce-11fbaaeb4f4a",
   "metadata": {},
   "outputs": [
    {
     "data": {
      "text/plain": [
       "GaussianProcessClassifier()"
      ]
     },
     "execution_count": 29,
     "metadata": {},
     "output_type": "execute_result"
    }
   ],
   "source": [
    "from sklearn.gaussian_process import GaussianProcessClassifier\n",
    "model = GaussianProcessClassifier() # 모델 생성\n",
    "model.fit(train_x, train_y)    # 모델 학습"
   ]
  },
  {
   "cell_type": "code",
   "execution_count": 30,
   "id": "cdca4cf5-335a-4ff4-bf76-76a2e64581cf",
   "metadata": {},
   "outputs": [
    {
     "data": {
      "text/plain": [
       "0.16129032258064516"
      ]
     },
     "execution_count": 30,
     "metadata": {},
     "output_type": "execute_result"
    }
   ],
   "source": [
    "model.score(test_x, test_y)"
   ]
  },
  {
   "cell_type": "code",
   "execution_count": null,
   "id": "de77e43a-90d6-484f-8df0-9efcccc4fc6b",
   "metadata": {},
   "outputs": [],
   "source": []
  },
  {
   "cell_type": "markdown",
   "id": "f491bc88-d266-4db8-9a79-e88d4233a685",
   "metadata": {
    "tags": []
   },
   "source": [
    "# sklearn classifiers\n",
    "https://scikit-learn.org/stable/auto_examples/classification/plot_classifier_comparison.html"
   ]
  },
  {
   "cell_type": "code",
   "execution_count": null,
   "id": "bba6a9ca-b3b0-4775-976f-12f945cd711a",
   "metadata": {},
   "outputs": [],
   "source": []
  }
 ],
 "metadata": {
  "kernelspec": {
   "display_name": "Python 3 (ipykernel)",
   "language": "python",
   "name": "python3"
  },
  "language_info": {
   "codemirror_mode": {
    "name": "ipython",
    "version": 3
   },
   "file_extension": ".py",
   "mimetype": "text/x-python",
   "name": "python",
   "nbconvert_exporter": "python",
   "pygments_lexer": "ipython3",
   "version": "3.9.7"
  }
 },
 "nbformat": 4,
 "nbformat_minor": 5
}
