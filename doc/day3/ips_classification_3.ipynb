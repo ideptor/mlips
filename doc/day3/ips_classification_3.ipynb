{
 "cells": [
  {
   "cell_type": "markdown",
   "id": "2ebd2a3a-36f9-4d74-be89-28e09661c7b7",
   "metadata": {},
   "source": [
    "# Feature Engineering\n",
    "\n",
    "- 신뢰도가 낮은 Feature의 갯수 줄이기"
   ]
  },
  {
   "cell_type": "markdown",
   "id": "d2c2cd6e-4b85-46d0-a585-96b04e455045",
   "metadata": {},
   "source": [
    "# 데이터 불러오기"
   ]
  },
  {
   "cell_type": "code",
   "execution_count": null,
   "id": "ec62a332-5c16-464b-a252-dee7e69f5a65",
   "metadata": {
    "tags": []
   },
   "outputs": [],
   "source": [
    "import pandas as pd\n",
    "\n",
    "df_data = pd.read_csv('trace.csv')\n",
    "df_data.head()"
   ]
  },
  {
   "cell_type": "markdown",
   "id": "93a2a46f-11a8-487a-9fe1-3a760905d288",
   "metadata": {
    "tags": []
   },
   "source": [
    "# 데이터 분석"
   ]
  },
  {
   "cell_type": "code",
   "execution_count": null,
   "id": "0ea92801-84ed-4923-b588-efdab3d69fdd",
   "metadata": {},
   "outputs": [],
   "source": [
    "df_data.describe()"
   ]
  },
  {
   "cell_type": "code",
   "execution_count": null,
   "id": "9d175da2-86e3-43cc-a1b4-8f81a2ba3e0d",
   "metadata": {},
   "outputs": [],
   "source": [
    "# 각 필드별 NaN 갯수 확인\n",
    "df_data.isna().sum()"
   ]
  },
  {
   "cell_type": "code",
   "execution_count": null,
   "id": "74fe3748-ead0-4d37-a0f0-996ee04494c2",
   "metadata": {},
   "outputs": [],
   "source": [
    "isna_dict = dict(df_data.isna().sum())\n",
    "isna_keys = list(isna_dict.keys())\n",
    "del_column_idx = []\n",
    "del_column_names = []\n",
    "for idx, cnt in enumerate(isna_dict.values()):\n",
    "    if cnt >= 90:\n",
    "        print(idx, cnt, isna_keys[idx])\n",
    "        del_column_idx.append(idx)\n",
    "        del_column_names.append(isna_keys[idx])"
   ]
  },
  {
   "cell_type": "code",
   "execution_count": null,
   "id": "9eae952f-1b0f-4dfc-b75c-8b9c13509031",
   "metadata": {},
   "outputs": [],
   "source": [
    "print(len(del_column_names), \"\\n\", del_column_names)"
   ]
  },
  {
   "cell_type": "code",
   "execution_count": null,
   "id": "d0bacb26-17b5-4728-8549-37568988852e",
   "metadata": {},
   "outputs": [],
   "source": [
    "df_data = df_data.drop(del_column_names, axis=1)"
   ]
  },
  {
   "cell_type": "code",
   "execution_count": null,
   "id": "7aeb796a-82d6-4fcb-a66c-eae54b2c0284",
   "metadata": {},
   "outputs": [],
   "source": [
    "df_data.describe()"
   ]
  },
  {
   "cell_type": "markdown",
   "id": "4a6a1e1e-abc3-4c50-922a-d11e3f5f0c2e",
   "metadata": {},
   "source": [
    "# 입력데이터 포멧 맞추기"
   ]
  },
  {
   "cell_type": "code",
   "execution_count": null,
   "id": "eed559f5-c283-4f03-ab5a-a6869fcf0338",
   "metadata": {},
   "outputs": [],
   "source": [
    "import numpy as np\n",
    "ips_data = np.array(df_data)\n",
    "ips_data[0]"
   ]
  },
  {
   "cell_type": "code",
   "execution_count": null,
   "id": "09e806f1-fc4e-4280-ab37-0bae3b170f7c",
   "metadata": {},
   "outputs": [],
   "source": []
  },
  {
   "cell_type": "code",
   "execution_count": null,
   "id": "94526212-09aa-4b88-a7b9-0fd260d2031d",
   "metadata": {},
   "outputs": [],
   "source": []
  },
  {
   "cell_type": "markdown",
   "id": "4e21bc4c-184b-45f7-a91d-c2a28087b572",
   "metadata": {},
   "source": [
    "# AP별로 wifi rssi 신호 특성을 확인"
   ]
  },
  {
   "cell_type": "code",
   "execution_count": null,
   "id": "4ec16fdb-c379-4867-a904-bc708f2892f1",
   "metadata": {},
   "outputs": [],
   "source": [
    "row = ips_data[0]\n",
    "print(f\"{df_data.columns[1]}/{row[1]}, {df_data.columns[4]}/{row[4]}, {df_data.columns[8]}/{row[8]}\")"
   ]
  },
  {
   "cell_type": "code",
   "execution_count": null,
   "id": "7a28fcf1-b82f-46af-b8b9-fbfde172be7f",
   "metadata": {},
   "outputs": [],
   "source": [
    "import math\n",
    "wifi_ap_rssis_dict = {}\n",
    "for row in ips_data:\n",
    "    for idx, rssi in enumerate(row[4:]):\n",
    "        mac = df_data.columns[4+idx]\n",
    "        if mac not in wifi_ap_rssis_dict.keys():\n",
    "            wifi_ap_rssis_dict[mac] = {'values':[]}\n",
    "        if math.isnan(rssi) is False:\n",
    "            wifi_ap_rssis_dict[mac]['values'].append(rssi)\n",
    "\n",
    "# wifi_ap_rssis_dict = { mac: {\"values\":[]}}\n",
    "# k is mac\n",
    "# v is {'values'}\n",
    "           \n",
    "for v in wifi_ap_rssis_dict.values():\n",
    "    v['avg'] = sum(v['values'])/len(v['values'])\n",
    "    v['min'] = min(v['values'])\n",
    "    v['default'] = -120    \n"
   ]
  },
  {
   "cell_type": "code",
   "execution_count": null,
   "id": "72cfdbd8-ceee-475b-9a00-da378bfd1505",
   "metadata": {},
   "outputs": [],
   "source": [
    "len(wifi_ap_rssis_dict)"
   ]
  },
  {
   "cell_type": "code",
   "execution_count": null,
   "id": "338f4dc8-c40e-4083-a6fa-bcea3d7e4090",
   "metadata": {},
   "outputs": [],
   "source": [
    "import matplotlib.pyplot as plt\n",
    "stop_cnt = 5\n",
    "idx = 1\n",
    "plt.figure(figsize=(20,4))\n",
    "\n",
    "for ap, rssis in wifi_ap_rssis_dict.items():\n",
    "    print(ap, rssis)\n",
    "\n",
    "    plt.subplot(1,stop_cnt,idx)\n",
    "    plt.boxplot(rssis['values'])\n",
    "    \n",
    "    idx += 1\n",
    "    if idx > stop_cnt:\n",
    "        break\n"
   ]
  },
  {
   "cell_type": "markdown",
   "id": "0a258e66-96ac-4edc-bf01-b656fd1ae5c6",
   "metadata": {},
   "source": [
    "# nan 일 경우 해당 AP의 최소 rssi 값으로 대체"
   ]
  },
  {
   "cell_type": "code",
   "execution_count": null,
   "id": "c02ed59b-c5d7-4add-8891-95e2cd245727",
   "metadata": {},
   "outputs": [],
   "source": [
    "for row in ips_data:\n",
    "    for idx in range(len(row[4:])):\n",
    "        col = 4+idx\n",
    "        mac = df_data.columns[col]\n",
    "        rssi = row[col]\n",
    "        if math.isnan(rssi) == True:\n",
    "            row[col] = wifi_ap_rssis_dict[mac]['min']\n",
    "                        "
   ]
  },
  {
   "cell_type": "code",
   "execution_count": null,
   "id": "7d6aa7bc-728f-45e9-9a17-75370bd8296f",
   "metadata": {},
   "outputs": [],
   "source": [
    "print(ips_data[0])"
   ]
  },
  {
   "cell_type": "markdown",
   "id": "02441557-26eb-4e16-842a-c6b1e9db6ca4",
   "metadata": {},
   "source": [
    "# Classifier Model 을 위한 데이터 만들기"
   ]
  },
  {
   "cell_type": "markdown",
   "id": "b7066ca7-e7e7-4fe4-9461-c396690294b2",
   "metadata": {},
   "source": [
    "## STEP1. 입력데이터 포멧 맞추기"
   ]
  },
  {
   "cell_type": "code",
   "execution_count": null,
   "id": "5c30f084-4328-4874-b9e1-52c84d56bd62",
   "metadata": {},
   "outputs": [],
   "source": [
    "# timestamp, region, latitude, longitude는 training 대상 feature에 서 제외\n",
    "ips_x = ips_data[:, 4:]\n",
    "ips_x.shape"
   ]
  },
  {
   "cell_type": "code",
   "execution_count": null,
   "id": "4aad0d3c-339d-4db6-8a1f-e9f79f95ec65",
   "metadata": {},
   "outputs": [],
   "source": [
    "# region을 class 로 활용하기 위해 두번째 열만으로 하나의 배열을 만듬.\n",
    "ips_y = ips_data[:, 1:2]\n",
    "ips_y = ips_y.reshape(-1)\n",
    "ips_y = ips_y.astype(np.int32)\n",
    "print(ips_y)"
   ]
  },
  {
   "cell_type": "markdown",
   "id": "e42ed716-7de2-44a5-81d2-2c1cc51d818f",
   "metadata": {},
   "source": [
    "## STEP2. Training & Test set 으로 나눠주기"
   ]
  },
  {
   "cell_type": "code",
   "execution_count": null,
   "id": "28f0767d-10d8-4bfe-b207-0c62b7ba8bdf",
   "metadata": {},
   "outputs": [],
   "source": [
    "from sklearn import model_selection\n",
    "\n",
    "train_x, test_x, train_y, test_y = model_selection.train_test_split(ips_x, ips_y, test_size=0.3, shuffle=False)\n",
    "\n",
    "print(\"x_train:\", train_x.shape, \"y_train:\", train_y.shape)\n",
    "print(\"x_test: \", test_x.shape, \"y_test: \", test_y.shape)"
   ]
  },
  {
   "cell_type": "markdown",
   "id": "5ba36ebb-ef53-4a68-97be-3de978c331b4",
   "metadata": {},
   "source": [
    "## KNN"
   ]
  },
  {
   "cell_type": "code",
   "execution_count": null,
   "id": "91ef1a29-3947-4908-8401-a3fff6481a91",
   "metadata": {},
   "outputs": [],
   "source": [
    "from sklearn.neighbors import KNeighborsClassifier\n",
    "\n",
    "model = KNeighborsClassifier() # 모델 생성\n",
    "model.fit(train_x, train_y)    # 모델 학습"
   ]
  },
  {
   "cell_type": "code",
   "execution_count": null,
   "id": "4e33c122-8570-43d5-89c1-4f18efb889d4",
   "metadata": {},
   "outputs": [],
   "source": [
    "model.score(test_x, test_y)"
   ]
  },
  {
   "cell_type": "code",
   "execution_count": null,
   "id": "18893aa0-308a-46c1-b3d8-cf857f70644e",
   "metadata": {},
   "outputs": [],
   "source": [
    "hit = 0\n",
    "total = 0\n",
    "results = []\n",
    "for idx in range(len(test_x)):\n",
    "    actual = test_y[idx]\n",
    "    predicted = model.predict(test_x[idx].reshape(1,-1))\n",
    "    total += 1\n",
    "    print(f\"[{idx:02d}] actual={actual}, predicted={predicted} - {actual==predicted}\")\n",
    "    if actual == predicted[0]:\n",
    "        results.append(True)\n",
    "        hit += 1\n",
    "    else:\n",
    "        results.append(False)\n",
    "\n",
    "print(f\"Accuracy: {hit/total} ({hit}/{total})\")"
   ]
  },
  {
   "cell_type": "code",
   "execution_count": null,
   "id": "dc84a6ea-f373-4e48-9986-a05ccb37a0be",
   "metadata": {},
   "outputs": [],
   "source": [
    "colors = ['blue' if r == True else 'red' for r in results]"
   ]
  },
  {
   "cell_type": "markdown",
   "id": "7d0913a1-49e0-4b36-b6c3-19704bac5422",
   "metadata": {},
   "source": [
    "# 좌표"
   ]
  },
  {
   "cell_type": "code",
   "execution_count": null,
   "id": "680394ac-87be-480b-a6da-3164ec3eee14",
   "metadata": {},
   "outputs": [],
   "source": [
    "latitudes = ips_data[72:, 2:3]\n",
    "latitudes = latitudes.reshape(-1)\n",
    "longitudes = ips_data[72:, 3:4]\n",
    "longitudes = longitudes.reshape(-1)"
   ]
  },
  {
   "cell_type": "code",
   "execution_count": null,
   "id": "7f1abec6-1248-4e49-afbe-608b476c5f95",
   "metadata": {},
   "outputs": [],
   "source": [
    "import matplotlib.pyplot as plt\n",
    "plt.scatter(latitudes, longitudes, c=colors)\n",
    "plt.show()"
   ]
  },
  {
   "cell_type": "markdown",
   "id": "7b732615-5d3d-4714-b2e3-82b2abb3f728",
   "metadata": {
    "tags": []
   },
   "source": [
    "## SVM"
   ]
  },
  {
   "cell_type": "code",
   "execution_count": null,
   "id": "e1a197d0-813f-4b47-8ee8-b12aa6a9a512",
   "metadata": {},
   "outputs": [],
   "source": [
    "from sklearn import svm\n",
    "\n",
    "model = svm.SVC() # 모델 생성\n",
    "model.fit(train_x, train_y)    # 모델 학습"
   ]
  },
  {
   "cell_type": "code",
   "execution_count": null,
   "id": "b0d9f554-c401-4ac6-b9dd-d9c769808d3b",
   "metadata": {},
   "outputs": [],
   "source": [
    "model.score(test_x, test_y)"
   ]
  },
  {
   "cell_type": "code",
   "execution_count": null,
   "id": "bc42f79d-a1b2-4d06-9778-8047f2cbd815",
   "metadata": {},
   "outputs": [],
   "source": [
    "def display(test_x, test_y, models):\n",
    "    hit = 0\n",
    "    total = 0\n",
    "    results = []\n",
    "    for idx in range(len(test_x)):\n",
    "        actual = test_y[idx]\n",
    "        predicted = model.predict(test_x[idx].reshape(1,-1))\n",
    "        total += 1\n",
    "        print(f\"[{idx:02d}] actual={actual}, predicted={predicted} - {actual==predicted}\")\n",
    "        if actual == predicted[0]:\n",
    "            results.append(True)\n",
    "            hit += 1\n",
    "        else:\n",
    "            results.append(False)\n",
    "\n",
    "    print(f\"Accuracy: {hit/total} ({hit}/{total})\")\n",
    "    \n",
    "    return results"
   ]
  },
  {
   "cell_type": "code",
   "execution_count": null,
   "id": "cb74cdb7-e279-4bba-83d9-8d14bd3f74e2",
   "metadata": {},
   "outputs": [],
   "source": [
    "results = display(test_x, test_y, model)\n",
    "colors = ['blue' if r == True else 'red' for r in results]"
   ]
  },
  {
   "cell_type": "code",
   "execution_count": null,
   "id": "e8a3d578-0f94-4de4-8680-33a1d7138d6d",
   "metadata": {},
   "outputs": [],
   "source": [
    "import matplotlib.pyplot as plt\n",
    "plt.scatter(latitudes, longitudes, c=colors)\n",
    "plt.show()"
   ]
  },
  {
   "cell_type": "code",
   "execution_count": null,
   "id": "6e275fc0-7d01-4d68-a6b5-a60d263280cb",
   "metadata": {},
   "outputs": [],
   "source": []
  },
  {
   "cell_type": "markdown",
   "id": "88befbf6-e608-4eee-ba37-0e9affca2e04",
   "metadata": {
    "tags": []
   },
   "source": [
    "## GaussianProcessClassifier"
   ]
  },
  {
   "cell_type": "code",
   "execution_count": null,
   "id": "0e3097e8-75a1-4e0d-99ce-11fbaaeb4f4a",
   "metadata": {},
   "outputs": [],
   "source": [
    "from sklearn.gaussian_process import GaussianProcessClassifier\n",
    "model = GaussianProcessClassifier() # 모델 생성\n",
    "model.fit(train_x, train_y)    # 모델 학습"
   ]
  },
  {
   "cell_type": "code",
   "execution_count": null,
   "id": "cdca4cf5-335a-4ff4-bf76-76a2e64581cf",
   "metadata": {},
   "outputs": [],
   "source": [
    "model.score(test_x, test_y)"
   ]
  },
  {
   "cell_type": "code",
   "execution_count": null,
   "id": "de77e43a-90d6-484f-8df0-9efcccc4fc6b",
   "metadata": {},
   "outputs": [],
   "source": []
  },
  {
   "cell_type": "markdown",
   "id": "f491bc88-d266-4db8-9a79-e88d4233a685",
   "metadata": {
    "tags": []
   },
   "source": [
    "# sklearn classifiers\n",
    "https://scikit-learn.org/stable/auto_examples/classification/plot_classifier_comparison.html"
   ]
  },
  {
   "cell_type": "code",
   "execution_count": null,
   "id": "bba6a9ca-b3b0-4775-976f-12f945cd711a",
   "metadata": {},
   "outputs": [],
   "source": []
  }
 ],
 "metadata": {
  "kernelspec": {
   "display_name": "Python 3 (ipykernel)",
   "language": "python",
   "name": "python3"
  },
  "language_info": {
   "codemirror_mode": {
    "name": "ipython",
    "version": 3
   },
   "file_extension": ".py",
   "mimetype": "text/x-python",
   "name": "python",
   "nbconvert_exporter": "python",
   "pygments_lexer": "ipython3",
   "version": "3.9.7"
  }
 },
 "nbformat": 4,
 "nbformat_minor": 5
}
