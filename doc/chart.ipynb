{
 "cells": [
  {
   "cell_type": "markdown",
   "metadata": {
    "id": "yEQXdxkl-r_1"
   },
   "source": [
    "# Matplotlib\n",
    "\n",
    "Matplotlib(https://matplotlib.org/) is the most common charting package,  \n",
    "see its documentation for details, and its examples for inspiration.  \n",
    "(https://matplotlib.org/2.0.2/gallery.html)"
   ]
  },
  {
   "cell_type": "markdown",
   "metadata": {
    "id": "IlzCu8u-BbZa"
   },
   "source": [
    "# Linechart\n",
    "```python\n",
    "plt.plot(x, y)\n",
    "```"
   ]
  },
  {
   "cell_type": "code",
   "execution_count": null,
   "metadata": {},
   "outputs": [],
   "source": [
    "import matplotlib.pyplot as plt\n",
    " \n",
    "x  = [1, 2, 3, 4, 5, 6, 7, 8, 9]\n",
    "y = [1, 3, 5, 3, 1, 3, 5, 3, 1]\n",
    "\n",
    "plt.plot(x, y)      # plt.legend()를 호출해주어야 label이 보임"
   ]
  },
  {
   "cell_type": "code",
   "execution_count": null,
   "metadata": {
    "colab": {
     "base_uri": "https://localhost:8080/",
     "height": 295
    },
    "id": "b5HcS2S787oA",
    "outputId": "de23e226-9540-4841-934f-5622b6fe8552"
   },
   "outputs": [],
   "source": [
    "# 차트 꾸미기 (축제목, legend 등)\n",
    "\n",
    "import matplotlib.pyplot as plt\n",
    " \n",
    "x  = [1, 2, 3, 4, 5, 6, 7, 8, 9]\n",
    "y = [1, 3, 5, 3, 1, 3, 5, 3, 1]\n",
    "\n",
    "plt.plot(x, y, label=\"line\")      # plt.legend()를 호출해주어야 label이 보임\n",
    "\n",
    "plt.xlabel(\"x axis\")                # x축 제목\n",
    "plt.ylabel(\"y axis\")                # y축 제목 \n",
    "plt.title(\"Line Graph Example\")     # 차트제목\n",
    "plt.legend()                        # label이 보이도록 해주는 코드\n",
    "plt.show()                          # 차트를 그리는 코드"
   ]
  },
  {
   "cell_type": "code",
   "execution_count": null,
   "metadata": {
    "id": "Uyo5JwSvFObt"
   },
   "outputs": [],
   "source": [
    "# equation에 따라 그리기\n",
    "import matplotlib.pyplot as plt\n",
    "import math\n",
    "\n",
    "x = [i for i in range(1,100)]\n",
    "y1 = [i+1 for i in x]\n",
    "y2 = [math.sin(i*0.1) for i in x]\n",
    "y3 = [math.log(i) for i in x]\n",
    "y4 = [2/i for i in x]\n",
    "y5 = [i*i - 50*i + 3 for i in x]\n",
    "\n",
    "plt.plot(x, y1, label=\"y=x\")      # plt.legend()를 호출해주어야 label이 보임\n",
    "\n",
    "plt.xlabel(\"x axis\")                # x축 제목\n",
    "plt.ylabel(\"y axis\")                # y축 제목 \n",
    "plt.title(\"Line Graph Example\")     # 차트제목\n",
    "plt.legend()                        # label이 보이도록 해주는 코드\n",
    "plt.show()                          # 차트를 그리는 코드"
   ]
  },
  {
   "cell_type": "code",
   "execution_count": null,
   "metadata": {
    "colab": {
     "base_uri": "https://localhost:8080/",
     "height": 295
    },
    "id": "RipEvkHg_eUY",
    "outputId": "0533770f-f8f7-4e5c-b9b3-cdcc72c5b2dc"
   },
   "outputs": [],
   "source": [
    "# 라인 2개 그리기\n",
    "\n",
    "import matplotlib.pyplot as plt\n",
    " \n",
    "x  = [1, 2, 3, 4, 5, 6, 7, 8, 9]\n",
    "y1 = [1, 3, 5, 3, 1, 3, 5, 3, 1]\n",
    "y2 = [2, 4, 6, 4, 2, 4, 6, 4, 2]\n",
    "plt.plot(x, y1, label=\"line L\")    # 첫번째 라인그래프\n",
    "plt.plot(x, y2, label=\"line H\")    # 두번째 라인그래프\n",
    "\n",
    "plt.xlabel(\"x axis\")\n",
    "plt.ylabel(\"y axis\")\n",
    "plt.title(\"Line Graph Example\")\n",
    "plt.legend()\n",
    "plt.show()"
   ]
  },
  {
   "cell_type": "markdown",
   "metadata": {
    "id": "_mqfTR_hBe19"
   },
   "source": [
    "# Bar chart"
   ]
  },
  {
   "cell_type": "code",
   "execution_count": null,
   "metadata": {
    "colab": {
     "base_uri": "https://localhost:8080/",
     "height": 283
    },
    "id": "1mKLSM-tBYeC",
    "outputId": "112888b7-234d-456b-fb0e-7a7a95ebea97"
   },
   "outputs": [],
   "source": [
    "x1 = [1, 3, 4, 5, 6, 7, 9]\n",
    "y1 = [4, 7, 2, 4, 7, 8, 3]\n",
    "\n",
    "plt.bar(x1, y1, color='b', label=\"new members\")\n",
    "plt.plot()\n",
    "\n",
    "plt.legend()\n",
    "plt.show()\n"
   ]
  },
  {
   "cell_type": "code",
   "execution_count": null,
   "metadata": {
    "colab": {
     "base_uri": "https://localhost:8080/",
     "height": 295
    },
    "id": "cQAJo8CeD10O",
    "outputId": "e2f952d4-a574-4d06-c8e2-7b75b0e8b259"
   },
   "outputs": [],
   "source": [
    "# Look at index 4 and 6, which demonstrate overlapping cases.\n",
    "x1 = [1, 3, 4, 5, 6, 7, 9]\n",
    "y1 = [4, 7, 2, 4, 7, 8, 3]\n",
    "\n",
    "x2 = [2, 4, 6, 8, 10]\n",
    "y2 = [5, 6, 2, 6, 2]\n",
    "\n",
    "# Colors: https://matplotlib.org/api/colors_api.html\n",
    "# blue, red, green, gray, orange, pink, black, brown, purple\n",
    "\n",
    "plt.bar(x1, y1, label=\"Blue Bar\", color='b')\n",
    "plt.bar(x2, y2, label=\"Green Bar\", color='r')\n",
    "plt.plot()\n",
    "\n",
    "plt.xlabel(\"bar number\")\n",
    "plt.ylabel(\"bar height\")\n",
    "plt.title(\"Bar Chart Example\")\n",
    "plt.legend()\n",
    "plt.show()\n"
   ]
  },
  {
   "cell_type": "markdown",
   "metadata": {},
   "source": [
    "# numpy random\n",
    "- `numpy.random.randint`: 균일 분포의 정수 난수 1개 생성\n",
    "- `numpy.random.rand` : 0~1 사이의 균일 분포에서 난수 matrix 생성\n",
    "- `numpy.random.randn` : 가우시안 표준 정규분포에서 난수 matrix 생성"
   ]
  },
  {
   "cell_type": "code",
   "execution_count": null,
   "metadata": {
    "colab": {
     "base_uri": "https://localhost:8080/",
     "height": 265
    },
    "id": "nkCyRHfbEm9p",
    "outputId": "251ac268-4483-47bc-8cd6-3aee44bf04b9"
   },
   "outputs": [],
   "source": [
    "# Look at index 4 and 6, which demonstrate overlapping cases.\n",
    "#y = [4, 7, 2, 4, 7, 8, 3]\n",
    "import numpy as np\n",
    "y = np.random.randint(20, size=10)    # 20이하의 자연수 10개 생성 (uniform distribution)\n",
    "                                      # https://numpy.org/doc/stable/reference/random/generated/numpy.random.randint.html\n",
    "print(y)\n",
    "y = sorted(y)\n",
    "print(y)\n",
    "x = [i+1 for i in range (len(y))]\n",
    "\n",
    "plt.bar(x, y, color='b')\n",
    "plt.show()\n"
   ]
  },
  {
   "cell_type": "code",
   "execution_count": null,
   "metadata": {
    "colab": {
     "base_uri": "https://localhost:8080/",
     "height": 267
    },
    "id": "rWqxZhYQLoC0",
    "outputId": "41cf4783-0ef0-4a88-e75c-9894dc31631a"
   },
   "outputs": [],
   "source": [
    "# Look at index 4 and 6, which demonstrate overlapping cases.\n",
    "#y = [4, 7, 2, 4, 7, 8, 3]\n",
    "import numpy as np\n",
    "y = np.random.rand(10)    # rp.random.randn(n) 평균 0, 표준편차 1인 n개의 수를 랜덤하게 생성 (gaussian분포)\n",
    "x = [i+1 for i in range (len(y))]\n",
    "\n",
    "plt.bar(x, y, color='b')\n",
    "plt.show()\n"
   ]
  },
  {
   "cell_type": "markdown",
   "metadata": {
    "id": "xS0F0UMqFke9"
   },
   "source": [
    "# Histogram"
   ]
  },
  {
   "cell_type": "code",
   "execution_count": null,
   "metadata": {
    "colab": {
     "base_uri": "https://localhost:8080/",
     "height": 809
    },
    "id": "ZezF-mZXE25m",
    "outputId": "4aee9064-9841-4458-d192-5366eebe991d"
   },
   "outputs": [],
   "source": [
    "import matplotlib.pyplot as plt\n",
    "import numpy as np\n",
    "\n",
    "# Use numpy to generate a bunch of random data in a bell curve around 5.\n",
    "y = 5 + np.random.randn(1000)    # rp.random.randn(n) 평균 0, 표준편차 1인 n개의 수를 랜덤하게 생성 (gaussian분포)\n",
    "#y = 5 + np.random.rand(1000)      # rp.random.rand(n) 0~1을 랜덤하게 생성 (uniform분포)\n",
    "x = [i for i in range(len(y))]\n",
    "\n",
    "plt.bar(x, y)\n",
    "plt.title(\"Raw Data\")\n",
    "plt.show()\n",
    "\n",
    "plt.hist(y, bins=10)\n",
    "plt.title(\"Histogram\")\n",
    "plt.show()\n",
    "\n",
    "plt.hist(y, bins=20)\n",
    "plt.title(\"Histogram\")\n",
    "plt.show()\n",
    "\n",
    "plt.hist(y, cumulative=True, bins=20)\n",
    "plt.title(\"Cumulative Histogram\")\n",
    "plt.show()"
   ]
  },
  {
   "cell_type": "code",
   "execution_count": null,
   "metadata": {
    "colab": {
     "base_uri": "https://localhost:8080/",
     "height": 809
    },
    "id": "aMlCApSvq7VE",
    "outputId": "2060ea86-fa89-48c3-db6b-42be7e4bb532"
   },
   "outputs": [],
   "source": [
    "import matplotlib.pyplot as plt\n",
    "import numpy as np\n",
    "\n",
    "# Use numpy to generate a bunch of random data in a bell curve around 5.\n",
    "y = 5 + np.random.randn(1000)  \n",
    "x = [i for i in range(len(y))]\n",
    "\n",
    "plt.bar(x, y)\n",
    "plt.title(\"Raw Data\")\n",
    "plt.show()\n",
    "\n",
    "bins=10\n",
    "plt.hist(y, cumulative=False, bins=bins)\n",
    "plt.title(\"Histogram\")\n",
    "plt.show()\n",
    "\n",
    "plt.hist(y, cumulative=True, bins=bins)\n",
    "plt.title(\"Cumulative Histogram\")\n",
    "plt.show()"
   ]
  },
  {
   "cell_type": "markdown",
   "metadata": {
    "id": "Ker8vdruLEf4"
   },
   "source": [
    "# Scatter\n",
    "\n",
    "흩어뿌리기"
   ]
  },
  {
   "cell_type": "code",
   "execution_count": null,
   "metadata": {
    "colab": {
     "base_uri": "https://localhost:8080/",
     "height": 281
    },
    "id": "l7QhTD1OJiXu",
    "outputId": "d83670bc-9e6c-4201-f7a5-789b2e9817aa"
   },
   "outputs": [],
   "source": [
    "\n",
    "x1 = [2, 3, 4]\n",
    "y1 = [5, 5, 5]\n",
    "\n",
    "x2 = [1, 2, 3, 4, 5]\n",
    "y2 = [2, 3, 2, 3, 4]\n",
    "y3 = [6, 8, 7, 8, 7]\n",
    "\n",
    "# Markers: https://matplotlib.org/api/markers_api.html\n",
    "\n",
    "plt.scatter(x1, y1)\n",
    "plt.scatter(x2, y2, marker='v', color='r')\n",
    "plt.scatter(x2, y3, marker='^', color='m')\n",
    "plt.title('Scatter Plot Example')\n",
    "plt.show()"
   ]
  },
  {
   "cell_type": "code",
   "execution_count": null,
   "metadata": {
    "colab": {
     "base_uri": "https://localhost:8080/",
     "height": 283
    },
    "id": "ftwwUYzZLGOr",
    "outputId": "721489ae-8d15-4b70-e905-4a502e920d6d"
   },
   "outputs": [],
   "source": [
    "height = 10\n",
    "width = 10\n",
    "size = 20\n",
    "x = np.random.randint(height, size=size)\n",
    "y = np.random.randint(height, size=size)\n",
    "\n",
    "plt.scatter(x,y)"
   ]
  },
  {
   "cell_type": "code",
   "execution_count": null,
   "metadata": {
    "id": "BeVmZ1S6Ogrq"
   },
   "outputs": [],
   "source": []
  },
  {
   "cell_type": "markdown",
   "metadata": {
    "id": "AzQqAXXNOnlj"
   },
   "source": []
  }
 ],
 "metadata": {
  "colab": {
   "collapsed_sections": [],
   "name": "matlab_chart.ipynb",
   "provenance": []
  },
  "kernelspec": {
   "display_name": "Python 3 (ipykernel)",
   "language": "python",
   "name": "python3"
  },
  "language_info": {
   "codemirror_mode": {
    "name": "ipython",
    "version": 3
   },
   "file_extension": ".py",
   "mimetype": "text/x-python",
   "name": "python",
   "nbconvert_exporter": "python",
   "pygments_lexer": "ipython3",
   "version": "3.8.8"
  }
 },
 "nbformat": 4,
 "nbformat_minor": 4
}
