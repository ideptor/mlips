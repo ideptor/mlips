{
 "cells": [
  {
   "cell_type": "markdown",
   "id": "71d3bf76-b26e-4513-b3bb-2afc2ace6b62",
   "metadata": {},
   "source": [
    "# 설치"
   ]
  },
  {
   "cell_type": "code",
   "execution_count": null,
   "id": "8eb9581d-707d-4d4b-9609-2ec5d50e85a7",
   "metadata": {},
   "outputs": [],
   "source": [
    "#!pip install numpy   "
   ]
  },
  {
   "cell_type": "code",
   "execution_count": null,
   "id": "22882aae-c39c-4b26-bc0c-a78cb2262282",
   "metadata": {},
   "outputs": [],
   "source": [
    "import numpy as np"
   ]
  },
  {
   "cell_type": "markdown",
   "id": "cac338d9-bae7-4761-bab3-f319878df5f9",
   "metadata": {
    "tags": []
   },
   "source": [
    "# 생성 및 shape 속성"
   ]
  },
  {
   "cell_type": "code",
   "execution_count": null,
   "id": "bdaa3c2f-d28e-4633-939d-fdd30169b1e0",
   "metadata": {},
   "outputs": [],
   "source": [
    "list1 = [1, 2, 3, 4]\n",
    "a = np.array(list1)\n",
    "print(a.shape) # (4, )"
   ]
  },
  {
   "cell_type": "code",
   "execution_count": null,
   "id": "7b556ae7-1ad2-47c9-9f94-195ec02255c0",
   "metadata": {},
   "outputs": [],
   "source": [
    "b = np.array([[1,2,3],[4,5,6]])\n",
    "print(b.shape) # (2, 3)"
   ]
  },
  {
   "cell_type": "markdown",
   "id": "0df5a3a8-b8dd-4ce9-8046-043f16b7e702",
   "metadata": {},
   "source": [
    "# numpy 슬라이싱"
   ]
  },
  {
   "cell_type": "code",
   "execution_count": null,
   "id": "aa5a403a-0258-4c8a-898c-dd723f24dd89",
   "metadata": {},
   "outputs": [],
   "source": [
    "lst = [\n",
    "    [1, 2, 3],\n",
    "    [4, 5, 6],\n",
    "    [7, 8, 9]\n",
    "]\n",
    "arr = np.array(lst)"
   ]
  },
  {
   "cell_type": "code",
   "execution_count": null,
   "id": "fc948fdf-92f4-4ec0-ad0c-dea78739d26d",
   "metadata": {},
   "outputs": [],
   "source": [
    "# 슬라이스\n",
    "a = arr[0:2, 0:2]\n",
    "print(a)"
   ]
  },
  {
   "cell_type": "code",
   "execution_count": null,
   "id": "35665923-b087-4989-a750-6c56c1f376a3",
   "metadata": {},
   "outputs": [],
   "source": [
    "# 슬라이스\n",
    "a = arr[1:3, 1:3]\n",
    "print(a)"
   ]
  },
  {
   "cell_type": "code",
   "execution_count": null,
   "id": "5d3040b2-153a-4384-9bb0-a21f85112a22",
   "metadata": {},
   "outputs": [],
   "source": [
    "# 슬라이스\n",
    "a = arr[:, 0:2]\n",
    "print(a)"
   ]
  },
  {
   "cell_type": "code",
   "execution_count": null,
   "id": "19e1a19b-0455-486e-9249-012827ed15c8",
   "metadata": {},
   "outputs": [],
   "source": [
    "# 슬라이스\n",
    "a = arr[0:2, :]\n",
    "print(a)"
   ]
  },
  {
   "cell_type": "markdown",
   "id": "1b8b1f93-cc0c-4fe1-900f-b1745b792d70",
   "metadata": {
    "tags": []
   },
   "source": [
    "# 배열 shape 바꾸기"
   ]
  },
  {
   "cell_type": "code",
   "execution_count": null,
   "id": "27056872-4b57-49d6-92c0-014cda401d81",
   "metadata": {},
   "outputs": [],
   "source": [
    "a = np.array([[51,55],[14,19],[0,4]])\n",
    "print(a)\n",
    "print(a.shape)"
   ]
  },
  {
   "cell_type": "code",
   "execution_count": null,
   "id": "de54fb1c-d40a-45be-b99b-def4ba2875ef",
   "metadata": {},
   "outputs": [],
   "source": [
    "a = a.reshape(2,3)\n",
    "print(a)\n",
    "print(a.shape)"
   ]
  },
  {
   "cell_type": "code",
   "execution_count": null,
   "id": "db0f2791-9f91-41e2-a1bb-7c250f871fc8",
   "metadata": {},
   "outputs": [],
   "source": [
    "a = a.flatten()   # 1차원으로 바꾸기\n",
    "print(a)\n",
    "print(a.shape)"
   ]
  },
  {
   "cell_type": "code",
   "execution_count": null,
   "id": "c735d464-b699-499c-80f2-32c86fbaf8d4",
   "metadata": {},
   "outputs": [],
   "source": [
    "a = a.reshape(-1,3)\n",
    "print(a)\n",
    "print(a.shape)"
   ]
  },
  {
   "cell_type": "code",
   "execution_count": null,
   "id": "8dd65bd1-50d5-40ba-9a97-9de52bb6889e",
   "metadata": {},
   "outputs": [],
   "source": [
    "a = a.reshape(-1,2)\n",
    "print(a)\n",
    "print(a.shape)"
   ]
  },
  {
   "cell_type": "code",
   "execution_count": null,
   "id": "5e76f8ca-e43f-434c-adda-8dc2d08cb320",
   "metadata": {},
   "outputs": [],
   "source": [
    "a = a.reshape(2, -1)\n",
    "print(a)\n",
    "print(a.shape)"
   ]
  },
  {
   "cell_type": "code",
   "execution_count": null,
   "id": "ad17afd2-f748-4da8-af8b-0c9015d4bbd4",
   "metadata": {},
   "outputs": [],
   "source": [
    "a = a.reshape(-1)\n",
    "print(a)\n",
    "print(a.shape)"
   ]
  },
  {
   "cell_type": "markdown",
   "id": "43244b85-01f8-4faf-98b0-ba740d3297e6",
   "metadata": {},
   "source": [
    "# numpy random\n",
    "- `numpy.random.randint`: 균일 분포의 정수 난수 1개 생성 (int)\n",
    "- `numpy.random.rand` : 0~1 사이의 균일 분포에서 난수 matrix 생성 (float)\n",
    "- `numpy.random.randn` : 가우시안 표준 정규분포에서 난수 matrix 생성 (float)"
   ]
  },
  {
   "cell_type": "code",
   "execution_count": null,
   "id": "99ecdee3-bb2d-4f73-a945-598d46c7087d",
   "metadata": {},
   "outputs": [],
   "source": []
  },
  {
   "cell_type": "code",
   "execution_count": null,
   "id": "947bf568-2628-4d47-a10b-0018b76d4f63",
   "metadata": {},
   "outputs": [],
   "source": [
    "import numpy as np"
   ]
  },
  {
   "cell_type": "markdown",
   "id": "1f9f6bf3-6af0-4728-800c-86a387d1c884",
   "metadata": {},
   "source": [
    "## numpy.random.randint: 균일 분포의 정수 난수 1개 생성 (int)"
   ]
  },
  {
   "cell_type": "code",
   "execution_count": null,
   "id": "07a0578e-159a-43d0-ba2e-d0e29385a7dc",
   "metadata": {},
   "outputs": [],
   "source": [
    "np.random.randint(6)  # 0 ~ 5 사이의 값중 1개\n",
    "# np.randome.randint(0,6)"
   ]
  },
  {
   "cell_type": "code",
   "execution_count": null,
   "id": "80e8626d-b994-4636-b7ef-b20335c7b6e9",
   "metadata": {},
   "outputs": [],
   "source": [
    "np.random.randint(1,20) # 1~19 까지 랜덤 숫자 1개"
   ]
  },
  {
   "cell_type": "markdown",
   "id": "05b7e71c-38d8-49da-9675-86a3ebbbc77b",
   "metadata": {},
   "source": [
    "## numpy.random.rand : 0~1 사이의 균일 분포에서 난수 matrix 생성 (float)"
   ]
  },
  {
   "cell_type": "code",
   "execution_count": null,
   "id": "286b920f-13fc-4ef2-8a25-a54338865cd6",
   "metadata": {},
   "outputs": [],
   "source": [
    "np.random.rand(6)"
   ]
  },
  {
   "cell_type": "code",
   "execution_count": null,
   "id": "c4d206a6-0698-4d7c-90ea-d544be79f117",
   "metadata": {},
   "outputs": [],
   "source": [
    "np.random.rand(2,3)"
   ]
  },
  {
   "cell_type": "markdown",
   "id": "f7ce6ed8-2d3e-4975-a634-cf7bc93da3cd",
   "metadata": {},
   "source": [
    "numpy.random.rand : 0~1 사이의 균일 분포에서 난수 matrix 생성 (float)"
   ]
  },
  {
   "cell_type": "code",
   "execution_count": null,
   "id": "45b8daa1-4877-4b8b-adce-eab2644d9482",
   "metadata": {},
   "outputs": [],
   "source": [
    "np.random.randn(6)"
   ]
  },
  {
   "cell_type": "code",
   "execution_count": null,
   "id": "1d2043f7-d1b2-498d-bc85-2739d59a66b5",
   "metadata": {},
   "outputs": [],
   "source": [
    "np.random.randn(3,2)"
   ]
  },
  {
   "cell_type": "code",
   "execution_count": null,
   "id": "e8e6ed75-12aa-4687-8a46-a3e8f70c21a0",
   "metadata": {},
   "outputs": [],
   "source": []
  }
 ],
 "metadata": {
  "kernelspec": {
   "display_name": "Python 3 (ipykernel)",
   "language": "python",
   "name": "python3"
  },
  "language_info": {
   "codemirror_mode": {
    "name": "ipython",
    "version": 3
   },
   "file_extension": ".py",
   "mimetype": "text/x-python",
   "name": "python",
   "nbconvert_exporter": "python",
   "pygments_lexer": "ipython3",
   "version": "3.8.8"
  }
 },
 "nbformat": 4,
 "nbformat_minor": 5
}
